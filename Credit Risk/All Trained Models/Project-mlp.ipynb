{
 "cells": [
  {
   "cell_type": "code",
   "execution_count": 1,
   "id": "e499c0bc-cbec-4d01-8ca5-177840863d03",
   "metadata": {},
   "outputs": [],
   "source": [
    "import pandas as pd\n",
    "import numpy as np\n",
    "import matplotlib.pyplot as plt\n",
    "from sklearn.model_selection import train_test_split, StratifiedKFold\n",
    "from sklearn.preprocessing import MinMaxScaler\n",
    "from imblearn.over_sampling import SMOTE\n",
    "from imblearn.under_sampling import RandomUnderSampler\n",
    "from sklearn.metrics import f1_score\n",
    "from tensorflow.keras.models import Sequential\n",
    "from tensorflow.keras.layers import Dense, Input\n",
    "from tensorflow.keras.optimizers import Adam\n",
    "import optuna\n",
    "import category_encoders as ce\n",
    "\n",
    "\n",
    "import warnings\n",
    "warnings.filterwarnings('ignore')"
   ]
  },
  {
   "cell_type": "code",
   "execution_count": 2,
   "id": "34538f69-172d-4ee0-9eda-2fdccf343a39",
   "metadata": {},
   "outputs": [],
   "source": [
    "train_loan = pd.read_csv('credit risk train.csv')"
   ]
  },
  {
   "cell_type": "code",
   "execution_count": 3,
   "id": "91725ac9-a350-4450-9de9-8a48cbdcf773",
   "metadata": {},
   "outputs": [],
   "source": [
    "test_loan = pd.read_csv('credit risk test.csv')"
   ]
  },
  {
   "cell_type": "code",
   "execution_count": 4,
   "id": "355297d6-d16c-41c7-87c5-8ad5c8ba056f",
   "metadata": {},
   "outputs": [],
   "source": [
    "X = train_loan.drop(columns='bad_loans')\n",
    "y = train_loan.bad_loans"
   ]
  },
  {
   "cell_type": "code",
   "execution_count": 5,
   "id": "e21de6b3-5d6b-4591-93db-648c86bd7c51",
   "metadata": {
    "scrolled": true
   },
   "outputs": [],
   "source": [
    "# pymnt_plan has only one value\n",
    "X.drop(columns='pymnt_plan', inplace=True)"
   ]
  },
  {
   "cell_type": "code",
   "execution_count": 6,
   "id": "75171d8f-42fa-4966-a545-b5390caf8f08",
   "metadata": {},
   "outputs": [],
   "source": [
    "# drop columns with collinearity\n",
    "X.drop(columns=['funded_amnt', 'delinq_2yrs_zero', 'pub_rec'], inplace=True)"
   ]
  },
  {
   "cell_type": "code",
   "execution_count": 7,
   "id": "80e47999-47a7-4323-a4ef-0409df21d60f",
   "metadata": {},
   "outputs": [],
   "source": [
    "# change 'object' types to 'category'\n",
    "cat_features=['grade', 'home_ownership', 'purpose']\n",
    "X[cat_features] = X[cat_features].astype('category')"
   ]
  },
  {
   "cell_type": "markdown",
   "id": "a187b7e2-2705-47c0-b645-abb0a7acc4b9",
   "metadata": {
    "jp-MarkdownHeadingCollapsed": true
   },
   "source": [
    "<h3>Encoding</h3>"
   ]
  },
  {
   "cell_type": "code",
   "execution_count": 8,
   "id": "9271112b-b57d-4d37-806a-fae084963bf5",
   "metadata": {},
   "outputs": [],
   "source": [
    "cat_features = ['grade', 'home_ownership', 'purpose']\n",
    "encoder = ce.TargetEncoder(cols=cat_features)\n",
    "encoder.fit(X[cat_features], y)\n",
    "X_enc = pd.concat([X, encoder.transform(X[cat_features]).add_suffix('_enc')], axis=1)\n",
    "X_enc.drop(columns=['grade', 'home_ownership', 'purpose'], inplace=True)"
   ]
  },
  {
   "cell_type": "markdown",
   "id": "7f3c3089-8374-4156-afd8-cc4a9c707304",
   "metadata": {
    "jp-MarkdownHeadingCollapsed": true
   },
   "source": [
    "<h3>Handling Missing Values</h3>"
   ]
  },
  {
   "cell_type": "code",
   "execution_count": 9,
   "id": "3d393b2f-9698-4b6a-bbff-425866c5f208",
   "metadata": {},
   "outputs": [],
   "source": [
    "X_enc_imp = X_enc.copy()\n",
    "X_enc_imp.payment_inc_ratio.fillna(0, inplace=True)\n",
    "X_enc_imp.fillna(-1, inplace=True)"
   ]
  },
  {
   "cell_type": "markdown",
   "id": "18cfd84f-abb9-44e8-ad7a-680c69cc37a6",
   "metadata": {
    "jp-MarkdownHeadingCollapsed": true
   },
   "source": [
    "<h3>Train Test Split</h3>"
   ]
  },
  {
   "cell_type": "code",
   "execution_count": 10,
   "id": "209d036b-be6a-494f-a92f-4968a29ba1f1",
   "metadata": {},
   "outputs": [],
   "source": [
    "Xtrain, Xtest, ytrain, ytest = train_test_split(X_enc_imp, y, stratify=y, test_size=0.3)\n",
    "Xtest, Xvalid, ytest, yvalid =  train_test_split(Xtest, ytest, stratify=ytest, test_size=0.5)"
   ]
  },
  {
   "cell_type": "markdown",
   "id": "884dc72e-ba75-46c6-ad2b-29a8550ad26d",
   "metadata": {
    "jp-MarkdownHeadingCollapsed": true
   },
   "source": [
    "<h3>Handling Outliers</h3>"
   ]
  },
  {
   "cell_type": "code",
   "execution_count": 11,
   "id": "ee933de1-888f-4692-beb5-93628ec4edcb",
   "metadata": {},
   "outputs": [],
   "source": [
    "# Log Transform\n",
    "########### train #############\n",
    "Xtrain_log = Xtrain.copy()\n",
    "cols = ['payment_inc_ratio', 'open_acc']\n",
    "for c in cols:\n",
    "    Xtrain_log[c] = np.log(Xtrain_log[c] + 1.1)\n",
    "\n",
    "########### valid #############\n",
    "Xvalid_log = Xvalid.copy()\n",
    "cols = ['payment_inc_ratio', 'open_acc']\n",
    "for c in cols:\n",
    "    Xvalid_log[c] = np.log(Xvalid_log[c] + 1.1)\n",
    "\n",
    "########### test #############\n",
    "Xtest_log = Xtest.copy()\n",
    "cols = ['payment_inc_ratio', 'open_acc']\n",
    "for c in cols:\n",
    "    Xtest_log[c] = np.log(Xtest_log[c] + 1.1)"
   ]
  },
  {
   "cell_type": "code",
   "execution_count": 12,
   "id": "aa865152-e393-41c6-93f6-11eb3fc2410e",
   "metadata": {
    "scrolled": true
   },
   "outputs": [],
   "source": [
    "# z-score outlier detection\n",
    "########### train #############\n",
    "Xtrain_clip = Xtrain.copy()\n",
    "columns = ['loan_amnt', 'sub_grade_num', 'emp_length_num', 'dti', 'delinq_2yrs',\n",
    "           'inq_last_6mths', 'revol_util', 'payment_inc_ratio', 'open_acc']# ,'grade',] \n",
    "\n",
    "for c in columns:\n",
    "    if (Xtrain_clip[c].dtypes == int) | (Xtrain_clip[c].dtypes == float):\n",
    "        L = Xtrain[c].mean() - 3*Xtrain[c].std()\n",
    "        U = Xtrain[c].mean() + 3*Xtrain[c].std()\n",
    "        Xtrain_clip[c] = Xtrain_clip[c].clip(L,U)\n",
    "\n",
    "########### valid #############\n",
    "Xvalid_clip = Xvalid.copy()\n",
    "columns = ['loan_amnt', 'sub_grade_num', 'emp_length_num', 'dti', 'delinq_2yrs',\n",
    "           'inq_last_6mths', 'revol_util', 'payment_inc_ratio', 'open_acc']# ,'grade',]\n",
    "\n",
    "for c in columns:\n",
    "    if (Xvalid_clip[c].dtypes == int) | (Xvalid_clip[c].dtypes == float):\n",
    "        L = Xtrain[c].mean() - 3*Xtrain[c].std()\n",
    "        U = Xtrain[c].mean() + 3*Xtrain[c].std()\n",
    "        Xvalid_clip[c] =Xvalid_clip[c].clip(L,U)\n",
    "\n",
    "########### test #############\n",
    "Xtest_clip = Xtest.copy()\n",
    "columns = ['loan_amnt', 'sub_grade_num', 'emp_length_num', 'dti', 'delinq_2yrs',\n",
    "           'inq_last_6mths', 'revol_util', 'payment_inc_ratio', 'open_acc']# ,'grade',]\n",
    "\n",
    "for c in columns:\n",
    "    if (Xtest_clip[c].dtypes == int) | (Xtest_clip[c].dtypes == float):\n",
    "        L = Xtrain[c].mean() - 3*Xtrain[c].std()\n",
    "        U = Xtrain[c].mean() + 3*Xtrain[c].std()\n",
    "        Xtest_clip[c] =Xtest_clip[c].clip(L,U)"
   ]
  },
  {
   "cell_type": "code",
   "execution_count": 13,
   "id": "88c98573-1a0a-4afa-a601-f07ee3b1bc3d",
   "metadata": {},
   "outputs": [],
   "source": [
    "# Log and z-score\n",
    "########### train #############\n",
    "Xtrain_log_clip = Xtrain_clip.drop(columns=['payment_inc_ratio', 'open_acc'])\n",
    "Xtrain_log_clip = pd.concat([Xtrain_log_clip, Xtrain_log.loc[:,['payment_inc_ratio', 'open_acc']]], axis=1)\n",
    "\n",
    "########### valid #############\n",
    "Xvalid_log_clip = Xvalid_clip.drop(columns=['payment_inc_ratio', 'open_acc'])\n",
    "Xvalid_log_clip = pd.concat([Xvalid_log_clip, Xvalid_log.loc[:,['payment_inc_ratio', 'open_acc']]], axis=1)\n",
    "\n",
    "########### test #############\n",
    "Xtest_log_clip = Xtest_clip.drop(columns=['payment_inc_ratio', 'open_acc'])\n",
    "Xtest_log_clip = pd.concat([Xtest_log_clip, Xtest_log.loc[:,['payment_inc_ratio', 'open_acc']]], axis=1)"
   ]
  },
  {
   "cell_type": "markdown",
   "id": "d5fd29af-6336-4100-9b46-52c5eb374a41",
   "metadata": {
    "jp-MarkdownHeadingCollapsed": true
   },
   "source": [
    "<h3>Normalization: MinMaxScaler</h3>"
   ]
  },
  {
   "cell_type": "code",
   "execution_count": 14,
   "id": "ea49bc40-cea0-494d-8fb3-f7d37bfbd9c4",
   "metadata": {
    "scrolled": true
   },
   "outputs": [],
   "source": [
    "# Normalization\n",
    "mmscaler = MinMaxScaler()\n",
    "\n",
    "Xtrain_normal = mmscaler.fit_transform(Xtrain)\n",
    "Xtrain_normal = pd.DataFrame(Xtrain_normal, columns=Xtrain.columns, index=Xtrain.index)\n",
    "\n",
    "Xvalid_normal = mmscaler.transform(Xvalid)\n",
    "Xvalid_normal = pd.DataFrame(Xvalid_normal, columns=Xvalid.columns, index=Xvalid.index)\n",
    "\n",
    "Xtest_normal = mmscaler.transform(Xtest)\n",
    "Xtest_normal = pd.DataFrame(Xtest_normal, columns=Xtest.columns, index=Xtest.index)\n",
    "\n",
    "#############################\n",
    "Xtrain_log_normal = mmscaler.fit_transform(Xtrain_log)\n",
    "Xtrain_log_normal = pd.DataFrame(Xtrain_log_normal, columns=Xtrain_log.columns, index=Xtrain_log.index)\n",
    "\n",
    "Xvalid_log_normal = mmscaler.transform(Xvalid_log)\n",
    "Xvalid_log_normal = pd.DataFrame(Xvalid_log_normal, columns=Xvalid_log.columns, index=Xvalid_log.index)\n",
    "\n",
    "Xtest_log_normal = mmscaler.transform(Xtest_log)\n",
    "Xtest_log_normal = pd.DataFrame(Xtest_log_normal, columns=Xtest_log.columns, index=Xtest_log.index)\n",
    "\n",
    "#############################\n",
    "Xtrain_clip_normal = mmscaler.fit_transform(Xtrain_clip)\n",
    "Xtrain_clip_normal = pd.DataFrame(Xtrain_clip_normal, columns=Xtrain_clip.columns, index=Xtrain_clip.index)\n",
    "\n",
    "Xvalid_clip_normal = mmscaler.transform(Xvalid_clip)\n",
    "Xvalid_clip_normal = pd.DataFrame(Xvalid_clip_normal, columns=Xvalid_clip.columns, index=Xvalid_clip.index)\n",
    "\n",
    "Xtest_clip_normal = mmscaler.transform(Xtest_clip)\n",
    "Xtest_clip_normal = pd.DataFrame(Xtest_clip_normal, columns=Xtest_clip.columns, index=Xtest_clip.index)\n",
    "\n",
    "#############################\n",
    "Xtrain_log_clip_normal = mmscaler.fit_transform(Xtrain_log_clip)\n",
    "Xtrain_log_clip_normal = pd.DataFrame(Xtrain_log_clip_normal, columns=Xtrain_log_clip.columns, index=Xtrain_log_clip.index)\n",
    "\n",
    "Xvalid_log_clip_normal = mmscaler.transform(Xvalid_log_clip)\n",
    "Xvalid_log_clip_normal = pd.DataFrame(Xvalid_log_clip_normal, columns=Xvalid_log_clip.columns, index=Xvalid_log_clip.index)\n",
    "\n",
    "Xtest_log_clip_normal = mmscaler.transform(Xtest_log_clip)\n",
    "Xtest_log_clip_normal = pd.DataFrame(Xtest_log_clip_normal, columns=Xtest_log_clip.columns, index=Xtest_log_clip.index)"
   ]
  },
  {
   "cell_type": "markdown",
   "id": "6957de77-6ab8-4e40-b264-50150e1485e6",
   "metadata": {
    "jp-MarkdownHeadingCollapsed": true
   },
   "source": [
    "<h3>Over Sampling</h3>"
   ]
  },
  {
   "cell_type": "code",
   "execution_count": 15,
   "id": "3e496bc1-a883-4d7f-ad49-4bb84bd59b3e",
   "metadata": {},
   "outputs": [],
   "source": [
    "# Over-Sampling\n",
    "over_sampler = SMOTE()\n",
    "\n",
    "########### train #############\n",
    "Xtrain_over, ytrain_over = over_sampler.fit_resample(Xtrain, ytrain)\n",
    "Xtrain_normal_over, ytrain_normal_over = over_sampler.fit_resample(Xtrain_normal, ytrain)\n",
    "Xtrain_log_normal_over, ytrain_log_normal_over = over_sampler.fit_resample(Xtrain_log_normal, ytrain)\n",
    "Xtrain_clip_normal_over, ytrain_clip_normal_over = over_sampler.fit_resample(Xtrain_clip_normal, ytrain)\n",
    "Xtrain_log_clip_normal_over, ytrain_log_clip_normal_over = over_sampler.fit_resample(Xtrain_log_clip_normal, ytrain)"
   ]
  },
  {
   "cell_type": "markdown",
   "id": "95141fa2-e738-4d13-af4c-6a170828bb80",
   "metadata": {
    "jp-MarkdownHeadingCollapsed": true
   },
   "source": [
    "<h3>Under Sampling</h3>"
   ]
  },
  {
   "cell_type": "code",
   "execution_count": 16,
   "id": "09ce56d3-6275-43d5-81b3-36f565e88c5a",
   "metadata": {},
   "outputs": [],
   "source": [
    "# Under-Sampling\n",
    "under_sampler = RandomUnderSampler()\n",
    "\n",
    "########### train #############\n",
    "Xtrain_under, ytrain_under = under_sampler.fit_resample(Xtrain, ytrain)\n",
    "Xtrain_normal_under, ytrain_normal_under = under_sampler.fit_resample(Xtrain_normal, ytrain)\n",
    "Xtrain_log_normal_under, ytrain_log_normal_under = under_sampler.fit_resample(Xtrain_log_normal, ytrain)\n",
    "Xtrain_clip_normal_under, ytrain_clip_normal_under = under_sampler.fit_resample(Xtrain_clip_normal, ytrain)\n",
    "Xtrain_log_clip_normal_under, ytrain_log_clip_normal_under = under_sampler.fit_resample(Xtrain_log_clip_normal, ytrain)"
   ]
  },
  {
   "cell_type": "markdown",
   "id": "60a2e4a3-b5e5-4d6d-a0d5-693e085ee4cf",
   "metadata": {
    "jp-MarkdownHeadingCollapsed": true
   },
   "source": [
    "<h3>PCA</h3>"
   ]
  },
  {
   "cell_type": "code",
   "execution_count": 17,
   "id": "4666472b-94aa-4928-837e-33219a23b138",
   "metadata": {},
   "outputs": [],
   "source": [
    "# PCA with Under Sampled Data\n",
    "from sklearn.decomposition import PCA\n",
    "pca = PCA(n_components=0.99)\n",
    "\n",
    "Xtrain_pca = pd.DataFrame(pca.fit_transform(Xtrain_under), index=Xtrain_under.index)\n",
    "Xtrain_under_pca = pd.concat([Xtrain_under, Xtrain_pca], axis=1)\n",
    "Xtrain_under_pca.columns=Xtrain_under_pca.columns.astype(str)\n",
    "\n",
    "Xvalid_pca = pd.DataFrame(pca.transform(Xvalid), index=Xvalid.index)\n",
    "Xvalid_pca = pd.concat([Xvalid, Xvalid_pca], axis=1)\n",
    "Xvalid_pca.columns = Xvalid_pca.columns.astype(str)\n",
    "\n",
    "Xtest_pca = pd.DataFrame(pca.transform(Xtest), index=Xtest.index)\n",
    "Xtest_pca = pd.concat([Xtest, Xtest_pca], axis=1)\n",
    "Xtest_pca.columns = Xtest_pca.columns.astype(str)\n",
    "\n",
    "###########################################\n",
    "Xtrain_normal_pca = pd.DataFrame(pca.fit_transform(Xtrain_normal_under), index=Xtrain_normal_under.index)\n",
    "Xtrain_normal_under_pca = pd.concat([Xtrain_normal_under, Xtrain_normal_pca], axis=1)\n",
    "Xtrain_normal_under_pca.columns=Xtrain_normal_under_pca.columns.astype(str)\n",
    "\n",
    "Xvalid_normal_pca = pd.DataFrame(pca.transform(Xvalid_normal), index=Xvalid_normal.index)\n",
    "Xvalid_normal_pca = pd.concat([Xvalid_normal, Xvalid_normal_pca], axis=1)\n",
    "Xvalid_normal_pca.columns = Xvalid_normal_pca.columns.astype(str)\n",
    "\n",
    "Xtest_normal_pca = pd.DataFrame(pca.transform(Xtest_normal), index=Xtest_normal.index)\n",
    "Xtest_normal_pca = pd.concat([Xtest_normal, Xtest_normal_pca], axis=1)\n",
    "Xtest_normal_pca.columns = Xtest_normal_pca.columns.astype(str)\n",
    "\n",
    "###########################################\n",
    "Xtrain_log_normal_pca = pd.DataFrame(pca.fit_transform(Xtrain_log_normal_under), index=Xtrain_log_normal_under.index)\n",
    "Xtrain_log_normal_under_pca = pd.concat([Xtrain_log_normal_under, Xtrain_log_normal_pca], axis=1)\n",
    "Xtrain_log_normal_under_pca.columns=Xtrain_log_normal_under_pca.columns.astype(str)\n",
    "\n",
    "Xvalid_log_normal_pca = pd.DataFrame(pca.transform(Xvalid_log_normal), index=Xvalid_log_normal.index)\n",
    "Xvalid_log_normal_pca = pd.concat([Xvalid_log_normal, Xvalid_log_normal_pca], axis=1)\n",
    "Xvalid_log_normal_pca.columns = Xvalid_log_normal_pca.columns.astype(str)\n",
    "\n",
    "Xtest_log_normal_pca = pd.DataFrame(pca.transform(Xtest_log_normal), index=Xtest_log_normal.index)\n",
    "Xtest_log_normal_pca = pd.concat([Xtest_log_normal, Xtest_log_normal_pca], axis=1)\n",
    "Xtest_log_normal_pca.columns = Xtest_log_normal_pca.columns.astype(str)\n",
    "\n",
    "###########################################\n",
    "Xtrain_clip_normal_pca = pd.DataFrame(pca.fit_transform(Xtrain_clip_normal_under), index=Xtrain_clip_normal_under.index)\n",
    "Xtrain_clip_normal_under_pca = pd.concat([Xtrain_clip_normal_under, Xtrain_clip_normal_pca], axis=1)\n",
    "Xtrain_clip_normal_under_pca.columns=Xtrain_clip_normal_under_pca.columns.astype(str)\n",
    "\n",
    "Xvalid_clip_normal_pca = pd.DataFrame(pca.transform(Xvalid_clip_normal), index=Xvalid_clip_normal.index)\n",
    "Xvalid_clip_normal_pca = pd.concat([Xvalid_clip_normal, Xvalid_clip_normal_pca], axis=1)\n",
    "Xvalid_clip_normal_pca.columns=Xvalid_clip_normal_pca.columns.astype(str)\n",
    "\n",
    "Xtest_clip_normal_pca = pd.DataFrame(pca.transform(Xtest_clip_normal), index=Xtest_clip_normal.index)\n",
    "Xtest_clip_normal_pca = pd.concat([Xtest_clip_normal, Xtest_clip_normal_pca], axis=1)\n",
    "Xtest_clip_normal_pca.columns=Xtest_clip_normal_pca.columns.astype(str)\n",
    "\n",
    "###########################################\n",
    "Xtrain_log_clip_normal_pca = pd.DataFrame(pca.fit_transform(Xtrain_log_clip_normal_under), index=Xtrain_log_clip_normal_under.index)\n",
    "Xtrain_log_clip_normal_under_pca = pd.concat([Xtrain_log_clip_normal_under, Xtrain_log_clip_normal_pca], axis=1)\n",
    "Xtrain_log_clip_normal_under_pca.columns=Xtrain_log_clip_normal_under_pca.columns.astype(str)\n",
    "\n",
    "Xvalid_log_clip_normal_pca = pd.DataFrame(pca.transform(Xvalid_log_clip_normal), index=Xvalid_log_clip_normal.index)\n",
    "Xvalid_log_clip_normal_pca = pd.concat([Xvalid_log_clip_normal, Xvalid_log_clip_normal_pca], axis=1)\n",
    "Xvalid_log_clip_normal_pca.columns=Xvalid_log_clip_normal_pca.columns.astype(str)\n",
    "\n",
    "Xtest_log_clip_normal_pca = pd.DataFrame(pca.transform(Xtest_log_clip_normal), index=Xtest_log_clip_normal.index)\n",
    "Xtest_log_clip_normal_pca = pd.concat([Xtest_log_clip_normal, Xtest_log_clip_normal_pca], axis=1)\n",
    "Xtest_log_clip_normal_pca.columns=Xtest_log_clip_normal_pca.columns.astype(str)"
   ]
  },
  {
   "cell_type": "markdown",
   "id": "e5bd6222-607d-4c18-a6b4-45a063f539cb",
   "metadata": {},
   "source": [
    "<h1>MLP</h1>"
   ]
  },
  {
   "cell_type": "markdown",
   "id": "161ab873-227d-4267-a440-bc96d91db7cf",
   "metadata": {},
   "source": [
    "<h3 dir='rtl'>\n",
    "    برای هر مدل، کد زیر در گوگل کولب اجرا و هایپرپارامترهای بهینه به این کد منتقل شده است.\n",
    "</h3>"
   ]
  },
  {
   "cell_type": "markdown",
   "id": "d14d925c-c5ee-4f6a-913b-4dd9f577db3f",
   "metadata": {},
   "source": [
    "https://colab.research.google.com/drive/1HACqfi8j2Zzwt54cZg4XKmY0TR88RMeH?usp=sharing"
   ]
  },
  {
   "cell_type": "raw",
   "id": "26aa032a-aded-45c8-a76b-ef65a0299f7e",
   "metadata": {},
   "source": [
    "def objective(trial):\n",
    "    mlp = Sequential()\n",
    "\n",
    "    # input layer\n",
    "    mlp.add(Input(shape=(int(Xtrain.shape[1]),)))\n",
    "\n",
    "    # hidden layers\n",
    "    mlp.add(Dense(units=trial.suggest_int('units1', 8, 64), activation='relu'))\n",
    "    mlp.add(Dense(units=trial.suggest_int('units2', 8, 64), activation='relu'))\n",
    "    mlp.add(Dense(units=trial.suggest_int('units3', 8, 64), activation='relu'))\n",
    "\n",
    "    # Output layer\n",
    "    mlp.add(Dense(1, activation='sigmoid'))\n",
    "\n",
    "    lr = trial.suggest_float('lr', 1e-3, 1e-2, log=True)\n",
    "    mlp.compile(optimizer=Adam(learning_rate=lr), loss='binary_crossentropy')\n",
    "\n",
    "    mlp.fit(Xtrain, ytrain, epochs=100, batch_size=10000, verbose=0, validation_data=(Xvalid_, yvalid))\n",
    "    \n",
    "    ypred = mlp.predict(Xtest)\n",
    "    ypred = (ypred > 0.5).astype(int)\n",
    "    \n",
    "    f1 = f1_score(y_true=ytest, y_pred=ypred)\n",
    "    return f1\n",
    "\n",
    "\n",
    "study = optuna.create_study(direction='maximize')\n",
    "study.optimize(objective, n_trials=100, n_jobs=-1)"
   ]
  },
  {
   "cell_type": "markdown",
   "id": "8acfd09e-cb88-4ccd-bf12-fb396c021254",
   "metadata": {
    "jp-MarkdownHeadingCollapsed": true
   },
   "source": [
    "<h3>Normal Data</h3>"
   ]
  },
  {
   "cell_type": "code",
   "execution_count": 18,
   "id": "9cfde551-15d3-4c96-b828-0772193d5e95",
   "metadata": {},
   "outputs": [
    {
     "name": "stdout",
     "output_type": "stream",
     "text": [
      "\u001b[1m384/384\u001b[0m \u001b[32m━━━━━━━━━━━━━━━━━━━━\u001b[0m\u001b[37m\u001b[0m \u001b[1m1s\u001b[0m 1ms/step\n",
      "Xtest result:  0.38900414937759337\n"
     ]
    }
   ],
   "source": [
    "# Encoded Imputed Normal Over-Sampled Data\n",
    "mlpno = Sequential()\n",
    "\n",
    "# input layer\n",
    "mlpno.add(Input(shape=(int(Xtrain_normal_over.shape[1]),)))\n",
    "\n",
    "# hidden layers\n",
    "mlpno.add(Dense(units=9, activation='relu'))\n",
    "mlpno.add(Dense(units=16, activation='relu'))\n",
    "mlpno.add(Dense(units=56, activation='relu'))\n",
    "\n",
    "# Output layer\n",
    "mlpno.add(Dense(1, activation='sigmoid'))\n",
    "\n",
    "mlpno.compile(optimizer=Adam(learning_rate=0.0012369264413803532), loss='binary_crossentropy')\n",
    "mlpno.fit(Xtrain_normal_over, ytrain_over, epochs=100, batch_size=10000, verbose=0, \n",
    "          validation_data=(Xvalid_normal, yvalid))\n",
    "\n",
    "pred = mlpno.predict(Xtest_normal)\n",
    "pred = (pred > 0.5).astype(int)\n",
    "\n",
    "print('Xtest result: ', f1_score(y_true=ytest, y_pred=pred))"
   ]
  },
  {
   "cell_type": "code",
   "execution_count": 19,
   "id": "b435926d-60a3-4b49-856a-04e40985a7c3",
   "metadata": {},
   "outputs": [
    {
     "name": "stdout",
     "output_type": "stream",
     "text": [
      "\u001b[1m384/384\u001b[0m \u001b[32m━━━━━━━━━━━━━━━━━━━━\u001b[0m\u001b[37m\u001b[0m \u001b[1m1s\u001b[0m 1ms/step\n",
      "Xtest result:  0.3931576769209546\n"
     ]
    }
   ],
   "source": [
    "mlpnu = Sequential()\n",
    "\n",
    "# input layer\n",
    "mlpnu.add(Input(shape=(int(Xtrain_normal_under.shape[1]),)))\n",
    "\n",
    "# hidden layers\n",
    "mlpnu.add(Dense(units=44, activation='relu'))\n",
    "mlpnu.add(Dense(units=9, activation='relu'))\n",
    "mlpnu.add(Dense(units=9, activation='relu'))\n",
    "\n",
    "# Output layer\n",
    "mlpnu.add(Dense(1, activation='sigmoid'))\n",
    "\n",
    "mlpnu.compile(optimizer=Adam(learning_rate=0.005704837988708971), loss='binary_crossentropy')\n",
    "mlpnu.fit(Xtrain_normal_under, ytrain_under, epochs=100, batch_size=10000, verbose=0,\n",
    "          validation_data=(Xvalid_normal, yvalid))\n",
    "\n",
    "pred = mlpnu.predict(Xtest_normal)\n",
    "pred = (pred > 0.5).astype(int)\n",
    "\n",
    "print('Xtest result: ', f1_score(y_true=ytest, y_pred=pred))"
   ]
  },
  {
   "cell_type": "code",
   "execution_count": 20,
   "id": "008f3cc8-b3c6-45ab-a4c5-9e16c6eb401d",
   "metadata": {},
   "outputs": [
    {
     "name": "stdout",
     "output_type": "stream",
     "text": [
      "\u001b[1m384/384\u001b[0m \u001b[32m━━━━━━━━━━━━━━━━━━━━\u001b[0m\u001b[37m\u001b[0m \u001b[1m1s\u001b[0m 1ms/step\n",
      "Xtest result:  0.39430363208779723\n"
     ]
    }
   ],
   "source": [
    "mlpnup = Sequential()\n",
    "\n",
    "# input layer\n",
    "mlpnup.add(Input(shape=(int(Xtrain_normal_under_pca.shape[1]),)))\n",
    "\n",
    "# hidden layers\n",
    "mlpnup.add(Dense(units=44, activation='relu'))\n",
    "mlpnup.add(Dense(units=38, activation='relu'))\n",
    "mlpnup.add(Dense(units=14, activation='relu'))\n",
    "\n",
    "# Output layer\n",
    "mlpnup.add(Dense(1, activation='sigmoid'))\n",
    "\n",
    "mlpnup.compile(optimizer=Adam(learning_rate=0.0010010530931948824), loss='binary_crossentropy')\n",
    "mlpnup.fit(Xtrain_normal_under_pca, ytrain_under, epochs=100, batch_size=10000, verbose=0,\n",
    "          validation_data=(Xvalid_normal_pca, yvalid))\n",
    "\n",
    "pred = mlpnup.predict(Xtest_normal_pca)\n",
    "pred = (pred > 0.5).astype(int)\n",
    "\n",
    "print('Xtest result: ', f1_score(y_true=ytest, y_pred=pred))"
   ]
  },
  {
   "cell_type": "markdown",
   "id": "67a5c918-9eaf-439f-adf2-f51b15becb4d",
   "metadata": {
    "jp-MarkdownHeadingCollapsed": true
   },
   "source": [
    "<h3>Log Normal Data</h3>"
   ]
  },
  {
   "cell_type": "code",
   "execution_count": 21,
   "id": "f5ca84e3-287a-4f67-8575-e616e57ba972",
   "metadata": {},
   "outputs": [
    {
     "name": "stdout",
     "output_type": "stream",
     "text": [
      "\u001b[1m384/384\u001b[0m \u001b[32m━━━━━━━━━━━━━━━━━━━━\u001b[0m\u001b[37m\u001b[0m \u001b[1m1s\u001b[0m 1ms/step\n",
      "Xtest result:  0.3918421052631579\n"
     ]
    }
   ],
   "source": [
    "mlplno = Sequential()\n",
    "\n",
    "# input layer\n",
    "mlplno.add(Input(shape=(int(Xtrain_log_normal_over.shape[1]),)))\n",
    "\n",
    "# hidden layers\n",
    "mlplno.add(Dense(units=9, activation='relu'))\n",
    "mlplno.add(Dense(units=22, activation='relu'))\n",
    "mlplno.add(Dense(units=17, activation='relu'))\n",
    "\n",
    "# Output layer\n",
    "mlplno.add(Dense(1, activation='sigmoid'))\n",
    "\n",
    "mlplno.compile(optimizer=Adam(learning_rate=0.0010655670130010795), loss='binary_crossentropy')\n",
    "mlplno.fit(Xtrain_log_normal_over, ytrain_over, epochs=100, batch_size=10000, verbose=0,\n",
    "          validation_data=(Xvalid_log_normal, yvalid))\n",
    "\n",
    "pred = mlplno.predict(Xtest_log_normal)\n",
    "pred = (pred > 0.5).astype(int)\n",
    "\n",
    "print('Xtest result: ', f1_score(y_true=ytest, y_pred=pred))"
   ]
  },
  {
   "cell_type": "code",
   "execution_count": 22,
   "id": "43410e2d-d0df-4ce1-a260-a7deb2f41652",
   "metadata": {},
   "outputs": [
    {
     "name": "stdout",
     "output_type": "stream",
     "text": [
      "\u001b[1m384/384\u001b[0m \u001b[32m━━━━━━━━━━━━━━━━━━━━\u001b[0m\u001b[37m\u001b[0m \u001b[1m1s\u001b[0m 1ms/step\n",
      "Xtest result:  0.38850828729281767\n"
     ]
    }
   ],
   "source": [
    "mlplnu = Sequential()\n",
    "\n",
    "# input layer\n",
    "mlplnu.add(Input(shape=(int(Xtrain_log_normal_under.shape[1]),)))\n",
    "\n",
    "# hidden layers\n",
    "mlplnu.add(Dense(units=58, activation='relu'))\n",
    "mlplnu.add(Dense(units=54, activation='relu'))\n",
    "mlplnu.add(Dense(units=16, activation='relu'))\n",
    "\n",
    "# Output layer\n",
    "mlplnu.add(Dense(1, activation='sigmoid'))\n",
    "\n",
    "mlplnu.compile(optimizer=Adam(learning_rate=0.009039811894517835), loss='binary_crossentropy')\n",
    "mlplnu.fit(Xtrain_log_normal_under, ytrain_under, epochs=100, batch_size=10000, verbose=0,\n",
    "          validation_data=(Xvalid_log_normal, yvalid))\n",
    "\n",
    "pred = mlplnu.predict(Xtest_log_normal)\n",
    "pred = (pred > 0.5).astype(int)\n",
    "\n",
    "print('Xtest result: ', f1_score(y_true=ytest, y_pred=pred))"
   ]
  },
  {
   "cell_type": "code",
   "execution_count": 23,
   "id": "ce894edc-d004-4757-abe7-5071863b24c9",
   "metadata": {},
   "outputs": [
    {
     "name": "stdout",
     "output_type": "stream",
     "text": [
      "\u001b[1m384/384\u001b[0m \u001b[32m━━━━━━━━━━━━━━━━━━━━\u001b[0m\u001b[37m\u001b[0m \u001b[1m1s\u001b[0m 1ms/step\n",
      "Xtest result:  0.39503571010420324\n"
     ]
    }
   ],
   "source": [
    "mlplnop = Sequential()\n",
    "\n",
    "# input layer\n",
    "mlplnop.add(Input(shape=(int(Xtrain_log_normal_under_pca.shape[1]),)))\n",
    "\n",
    "# hidden layers\n",
    "mlplnop.add(Dense(units=50, activation='relu'))\n",
    "mlplnop.add(Dense(units=50, activation='relu'))\n",
    "mlplnop.add(Dense(units=23, activation='relu'))\n",
    "\n",
    "# Output layer\n",
    "mlplnop.add(Dense(1, activation='sigmoid'))\n",
    "\n",
    "mlplnop.compile(optimizer=Adam(learning_rate=0.002780072866542793), loss='binary_crossentropy')\n",
    "mlplnop.fit(Xtrain_log_normal_under_pca, ytrain_under, epochs=100, batch_size=10000, verbose=0,\n",
    "          validation_data=(Xvalid_log_normal_pca, yvalid))\n",
    "\n",
    "pred = mlplnop.predict(Xtest_log_normal_pca)\n",
    "pred = (pred > 0.5).astype(int)\n",
    "\n",
    "print('Xtest result: ', f1_score(y_true=ytest, y_pred=pred))"
   ]
  },
  {
   "cell_type": "markdown",
   "id": "c20d66ea-3310-4736-8fa8-2a64f44be1c8",
   "metadata": {
    "jp-MarkdownHeadingCollapsed": true
   },
   "source": [
    "<h3>Clip Normal Data</h3>"
   ]
  },
  {
   "cell_type": "code",
   "execution_count": 24,
   "id": "6a2e2140-7e5b-4741-a029-fdb1b0051b1d",
   "metadata": {},
   "outputs": [
    {
     "name": "stdout",
     "output_type": "stream",
     "text": [
      "\u001b[1m384/384\u001b[0m \u001b[32m━━━━━━━━━━━━━━━━━━━━\u001b[0m\u001b[37m\u001b[0m \u001b[1m1s\u001b[0m 1ms/step\n",
      "Xtest result:  0.10179869881362419\n"
     ]
    }
   ],
   "source": [
    "mlpcn = Sequential()\n",
    "\n",
    "# input layer\n",
    "mlpcn.add(Input(shape=(int(Xtrain_clip_normal.shape[1]),)))\n",
    "\n",
    "# hidden layers\n",
    "mlpcn.add(Dense(units=49, activation='relu'))\n",
    "mlpcn.add(Dense(units=34, activation='relu'))\n",
    "mlpcn.add(Dense(units=41, activation='relu'))\n",
    "\n",
    "# Output layer\n",
    "mlpcn.add(Dense(1, activation='sigmoid'))\n",
    "\n",
    "mlpcn.compile(optimizer=Adam(learning_rate=0.006765994491629928), loss='binary_crossentropy')\n",
    "mlpcn.fit(Xtrain_clip_normal, ytrain, epochs=100, batch_size=10000, verbose=0,\n",
    "          validation_data=(Xvalid_clip_normal, yvalid))\n",
    "\n",
    "pred = mlpcn.predict(Xtest_clip_normal)\n",
    "pred = (pred > 0.5).astype(int)\n",
    "\n",
    "print('Xtest result: ', f1_score(y_true=ytest, y_pred=pred))"
   ]
  },
  {
   "cell_type": "code",
   "execution_count": 25,
   "id": "1729d8df-38ac-4ef4-9de6-7e6decdc76d4",
   "metadata": {},
   "outputs": [
    {
     "name": "stdout",
     "output_type": "stream",
     "text": [
      "\u001b[1m384/384\u001b[0m \u001b[32m━━━━━━━━━━━━━━━━━━━━\u001b[0m\u001b[37m\u001b[0m \u001b[1m1s\u001b[0m 1ms/step\n",
      "Xtest result:  0.3885657715629254\n"
     ]
    }
   ],
   "source": [
    "mlpcno = Sequential()\n",
    "\n",
    "# input layer\n",
    "mlpcno.add(Input(shape=(int(Xtrain_clip_normal_over.shape[1]),)))\n",
    "\n",
    "# hidden layers\n",
    "mlpcno.add(Dense(units=11, activation='relu'))\n",
    "mlpcno.add(Dense(units=26, activation='relu'))\n",
    "mlpcno.add(Dense(units=36, activation='relu'))\n",
    "\n",
    "# Output layer\n",
    "mlpcno.add(Dense(1, activation='sigmoid'))\n",
    "\n",
    "mlpcno.compile(optimizer=Adam(learning_rate=0.0016286903740268563), loss='binary_crossentropy')\n",
    "mlpcno.fit(Xtrain_clip_normal_over, ytrain_over, epochs=100, batch_size=10000, verbose=0,\n",
    "          validation_data=(Xvalid_clip_normal, yvalid))\n",
    "\n",
    "pred = mlpcno.predict(Xtest_clip_normal)\n",
    "pred = (pred > 0.5).astype(int)\n",
    "\n",
    "print('Xtest result: ', f1_score(y_true=ytest, y_pred=pred))"
   ]
  },
  {
   "cell_type": "code",
   "execution_count": 26,
   "id": "3d6551b5-c1a7-4649-8512-28c4b55ee81b",
   "metadata": {},
   "outputs": [
    {
     "name": "stdout",
     "output_type": "stream",
     "text": [
      "\u001b[1m384/384\u001b[0m \u001b[32m━━━━━━━━━━━━━━━━━━━━\u001b[0m\u001b[37m\u001b[0m \u001b[1m1s\u001b[0m 1ms/step\n",
      "Xtest result:  0.39361430395913155\n"
     ]
    }
   ],
   "source": [
    "mlpcnu = Sequential()\n",
    "\n",
    "# input layer\n",
    "mlpcnu.add(Input(shape=(int(Xtrain_clip_normal_under.shape[1]),)))\n",
    "\n",
    "# hidden layers\n",
    "mlpcnu.add(Dense(units=31, activation='relu'))\n",
    "mlpcnu.add(Dense(units=8, activation='relu'))\n",
    "mlpcnu.add(Dense(units=8, activation='relu'))\n",
    "\n",
    "# Output layer\n",
    "mlpcnu.add(Dense(1, activation='sigmoid'))\n",
    "\n",
    "mlpcnu.compile(optimizer=Adam(learning_rate=0.005572312091054415), loss='binary_crossentropy')\n",
    "mlpcnu.fit(Xtrain_clip_normal_under, ytrain_under, epochs=100, batch_size=10000, verbose=0,\n",
    "          validation_data=(Xvalid_clip_normal, yvalid))\n",
    "\n",
    "pred = mlpcnu.predict(Xtest_clip_normal)\n",
    "pred = (pred > 0.5).astype(int)\n",
    "\n",
    "print('Xtest result: ', f1_score(y_true=ytest, y_pred=pred))"
   ]
  },
  {
   "cell_type": "code",
   "execution_count": 27,
   "id": "3d22bc98-69dd-4fbc-85b1-d91f73b54da9",
   "metadata": {
    "scrolled": true
   },
   "outputs": [
    {
     "name": "stdout",
     "output_type": "stream",
     "text": [
      "\u001b[1m384/384\u001b[0m \u001b[32m━━━━━━━━━━━━━━━━━━━━\u001b[0m\u001b[37m\u001b[0m \u001b[1m1s\u001b[0m 1ms/step\n",
      "Xtest result:  0.394907908992416\n"
     ]
    }
   ],
   "source": [
    "mlpcnup = Sequential()\n",
    "\n",
    "# input layer\n",
    "mlpcnup.add(Input(shape=(int(Xtrain_clip_normal_under_pca.shape[1]),)))\n",
    "\n",
    "# hidden layers\n",
    "mlpcnup.add(Dense(units=49, activation='relu'))\n",
    "mlpcnup.add(Dense(units=20, activation='relu'))\n",
    "mlpcnup.add(Dense(units=35, activation='relu'))\n",
    "\n",
    "# Output layer\n",
    "mlpcnup.add(Dense(1, activation='sigmoid'))\n",
    "\n",
    "mlpcnup.compile(optimizer=Adam(learning_rate=0.002002357043019399), loss='binary_crossentropy')\n",
    "mlpcnup.fit(Xtrain_clip_normal_under_pca, ytrain_under, epochs=100, batch_size=10000, verbose=0, \n",
    "            validation_data=(Xvalid_clip_normal_pca, yvalid))\n",
    "\n",
    "pred = mlpcnup.predict(Xtest_clip_normal_pca)\n",
    "pred = (pred > 0.5).astype(int)\n",
    "\n",
    "print('Xtest result: ', f1_score(y_true=ytest, y_pred=pred))"
   ]
  },
  {
   "cell_type": "markdown",
   "id": "f4b3d20b-c547-4a71-bff4-8a0dd05afd18",
   "metadata": {
    "jp-MarkdownHeadingCollapsed": true
   },
   "source": [
    "<h3>Log Clip Normal Data</h3>"
   ]
  },
  {
   "cell_type": "code",
   "execution_count": 28,
   "id": "ac8d85b3-e0eb-4582-96ed-8d6c5ea696f8",
   "metadata": {},
   "outputs": [
    {
     "name": "stdout",
     "output_type": "stream",
     "text": [
      "\u001b[1m384/384\u001b[0m \u001b[32m━━━━━━━━━━━━━━━━━━━━\u001b[0m\u001b[37m\u001b[0m \u001b[1m1s\u001b[0m 1ms/step\n",
      "Xtest result:  0.155005382131324\n"
     ]
    }
   ],
   "source": [
    "mlplcn = Sequential()\n",
    "\n",
    "# input layer\n",
    "mlplcn.add(Input(shape=(int(Xtrain_log_clip_normal.shape[1]),)))\n",
    "\n",
    "# hidden layers\n",
    "mlplcn.add(Dense(units=38, activation='relu'))\n",
    "mlplcn.add(Dense(units=33, activation='relu'))\n",
    "mlplcn.add(Dense(units=47, activation='relu'))\n",
    "\n",
    "# Output layer\n",
    "mlplcn.add(Dense(1, activation='sigmoid'))\n",
    "\n",
    "mlplcn.compile(optimizer=Adam(learning_rate=0.006143152408454745), loss='binary_crossentropy')\n",
    "mlplcn.fit(Xtrain_log_clip_normal, ytrain, epochs=100, batch_size=10000, verbose=0,\n",
    "          validation_data=(Xvalid_log_clip_normal, yvalid))\n",
    "\n",
    "pred = mlplcn.predict(Xtest_log_clip_normal)\n",
    "pred = (pred > 0.5).astype(int)\n",
    "\n",
    "print('Xtest result: ', f1_score(y_true=ytest, y_pred=pred))"
   ]
  },
  {
   "cell_type": "code",
   "execution_count": 29,
   "id": "5a92ba28-578a-4148-9249-77b161472548",
   "metadata": {},
   "outputs": [
    {
     "name": "stdout",
     "output_type": "stream",
     "text": [
      "\u001b[1m384/384\u001b[0m \u001b[32m━━━━━━━━━━━━━━━━━━━━\u001b[0m\u001b[37m\u001b[0m \u001b[1m1s\u001b[0m 1ms/step\n",
      "Xtest result:  0.3916048118761198\n"
     ]
    }
   ],
   "source": [
    "mlplcno = Sequential()\n",
    "\n",
    "# input layer\n",
    "mlplcno.add(Input(shape=(int(Xtrain_log_clip_normal_over.shape[1]),)))\n",
    "\n",
    "# hidden layers\n",
    "mlplcno.add(Dense(units=10, activation='relu'))\n",
    "mlplcno.add(Dense(units=15, activation='relu'))\n",
    "mlplcno.add(Dense(units=10, activation='relu'))\n",
    "\n",
    "# Output layer\n",
    "mlplcno.add(Dense(1, activation='sigmoid'))\n",
    "\n",
    "mlplcno.compile(optimizer=Adam(learning_rate=0.0038168640881971858), loss='binary_crossentropy')\n",
    "mlplcno.fit(Xtrain_log_clip_normal_over, ytrain_over, epochs=100, batch_size=10000, verbose=0,\n",
    "            validation_data=(Xvalid_log_clip_normal, yvalid))\n",
    "\n",
    "pred = mlplcno.predict(Xtest_log_clip_normal)\n",
    "pred = (pred > 0.5).astype(int)\n",
    "\n",
    "print('Xtest result: ', f1_score(y_true=ytest, y_pred=pred))"
   ]
  },
  {
   "cell_type": "code",
   "execution_count": 30,
   "id": "2562e3fc-2592-4215-916f-35224dc97a1f",
   "metadata": {},
   "outputs": [
    {
     "name": "stdout",
     "output_type": "stream",
     "text": [
      "\u001b[1m384/384\u001b[0m \u001b[32m━━━━━━━━━━━━━━━━━━━━\u001b[0m\u001b[37m\u001b[0m \u001b[1m1s\u001b[0m 1ms/step\n",
      "Xtest result:  0.3966372657111356\n"
     ]
    }
   ],
   "source": [
    "mlplcnu = Sequential()\n",
    "\n",
    "# input layer\n",
    "mlplcnu.add(Input(shape=(int(Xtrain_log_clip_normal_under.shape[1]),)))\n",
    "\n",
    "# hidden layers\n",
    "mlplcnu.add(Dense(units=13, activation='relu'))\n",
    "mlplcnu.add(Dense(units=20, activation='relu'))\n",
    "mlplcnu.add(Dense(units=36, activation='relu'))\n",
    "\n",
    "# Output layer\n",
    "mlplcnu.add(Dense(1, activation='sigmoid'))\n",
    "\n",
    "mlplcnu.compile(optimizer=Adam(learning_rate=0.006757752320006498), loss='binary_crossentropy')\n",
    "mlplcnu.fit(Xtrain_log_clip_normal_under, ytrain_under, epochs=100, batch_size=10000, verbose=0,\n",
    "          validation_data=(Xvalid_log_clip_normal, yvalid))\n",
    "\n",
    "pred = mlplcnu.predict(Xtest_log_clip_normal)\n",
    "pred = (pred > 0.5).astype(int)\n",
    "\n",
    "print('Xtest result: ', f1_score(y_true=ytest, y_pred=pred))"
   ]
  },
  {
   "cell_type": "code",
   "execution_count": 31,
   "id": "afb655da-c655-4832-8cdb-011c14b99736",
   "metadata": {},
   "outputs": [
    {
     "name": "stdout",
     "output_type": "stream",
     "text": [
      "\u001b[1m384/384\u001b[0m \u001b[32m━━━━━━━━━━━━━━━━━━━━\u001b[0m\u001b[37m\u001b[0m \u001b[1m1s\u001b[0m 1ms/step\n",
      "Xtest result:  0.392287418504647\n"
     ]
    }
   ],
   "source": [
    "mlplcnup = Sequential()\n",
    "\n",
    "# input layer\n",
    "mlplcnup.add(Input(shape=(int(Xtrain_log_clip_normal_under_pca.shape[1]),)))\n",
    "\n",
    "# hidden layers\n",
    "mlplcnup.add(Dense(units=49, activation='relu'))\n",
    "mlplcnup.add(Dense(units=39, activation='relu'))\n",
    "mlplcnup.add(Dense(units=51, activation='relu'))\n",
    "\n",
    "# Output layer\n",
    "mlplcnup.add(Dense(1, activation='sigmoid'))\n",
    "\n",
    "mlplcnup.compile(optimizer=Adam(learning_rate=0.0012724824346682212), loss='binary_crossentropy')\n",
    "\n",
    "mlplcnup.fit(Xtrain_log_clip_normal_under_pca, ytrain_under, epochs=100, batch_size=10000, verbose=0,\n",
    "          validation_data=(Xvalid_log_clip_normal_pca, yvalid))\n",
    "\n",
    "pred = mlplcnup.predict(Xtest_log_clip_normal_pca)\n",
    "pred = (pred > 0.5).astype(int)\n",
    "\n",
    "print('Xtest result: ', f1_score(y_true=ytest, y_pred=pred))"
   ]
  },
  {
   "cell_type": "code",
   "execution_count": null,
   "id": "5933d1af-8987-4e5f-afdd-9b7c74ce3fc8",
   "metadata": {},
   "outputs": [],
   "source": []
  },
  {
   "cell_type": "code",
   "execution_count": null,
   "id": "fda25611-5933-4cd6-b137-1158fc3243d9",
   "metadata": {},
   "outputs": [],
   "source": []
  }
 ],
 "metadata": {
  "kernelspec": {
   "display_name": "Python 3 (ipykernel)",
   "language": "python",
   "name": "python3"
  },
  "language_info": {
   "codemirror_mode": {
    "name": "ipython",
    "version": 3
   },
   "file_extension": ".py",
   "mimetype": "text/x-python",
   "name": "python",
   "nbconvert_exporter": "python",
   "pygments_lexer": "ipython3",
   "version": "3.10.11"
  }
 },
 "nbformat": 4,
 "nbformat_minor": 5
}
