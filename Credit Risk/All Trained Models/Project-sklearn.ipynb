{
 "cells": [
  {
   "cell_type": "code",
   "execution_count": 31,
   "id": "e499c0bc-cbec-4d01-8ca5-177840863d03",
   "metadata": {},
   "outputs": [],
   "source": [
    "import pandas as pd\n",
    "import numpy as np\n",
    "import matplotlib.pyplot as plt\n",
    "from sklearn.model_selection import train_test_split, StratifiedKFold, RandomizedSearchCV\n",
    "from sklearn.preprocessing import MinMaxScaler\n",
    "from imblearn.over_sampling import SMOTE, RandomOverSampler\n",
    "from imblearn.under_sampling import RandomUnderSampler, NearMiss, TomekLinks\n",
    "from sklearn.metrics import f1_score\n",
    "from sklearn.naive_bayes import GaussianNB\n",
    "from sklearn.neighbors import KNeighborsClassifier\n",
    "from sklearn.tree import DecisionTreeClassifier\n",
    "from sklearn.decomposition import PCA\n",
    "from sklearn.preprocessing import LabelEncoder\n",
    "\n",
    "\n",
    "import warnings\n",
    "warnings.filterwarnings('ignore')"
   ]
  },
  {
   "cell_type": "code",
   "execution_count": 32,
   "id": "34538f69-172d-4ee0-9eda-2fdccf343a39",
   "metadata": {},
   "outputs": [],
   "source": [
    "train_loan = pd.read_csv('credit risk train.csv')"
   ]
  },
  {
   "cell_type": "code",
   "execution_count": 38,
   "id": "355297d6-d16c-41c7-87c5-8ad5c8ba056f",
   "metadata": {},
   "outputs": [],
   "source": [
    "X = train_loan.drop(columns='bad_loans')\n",
    "y = train_loan.bad_loans"
   ]
  },
  {
   "cell_type": "code",
   "execution_count": 40,
   "id": "e21de6b3-5d6b-4591-93db-648c86bd7c51",
   "metadata": {},
   "outputs": [],
   "source": [
    "# pymnt_plan has only one value\n",
    "X.drop(columns='pymnt_plan', inplace=True)"
   ]
  },
  {
   "cell_type": "code",
   "execution_count": 41,
   "id": "75171d8f-42fa-4966-a545-b5390caf8f08",
   "metadata": {},
   "outputs": [],
   "source": [
    "# drop columns with collinearity\n",
    "X.drop(columns=['funded_amnt', 'delinq_2yrs_zero', 'pub_rec'], inplace=True)"
   ]
  },
  {
   "cell_type": "code",
   "execution_count": 42,
   "id": "9146cdab-ee6e-49c5-9ae0-8ed56ecfeaa0",
   "metadata": {},
   "outputs": [],
   "source": [
    "le_grade = LabelEncoder()\n",
    "X.grade = le_grade.fit_transform(X.grade)\n",
    "# X.head()"
   ]
  },
  {
   "cell_type": "code",
   "execution_count": 43,
   "id": "d2f114f4-455a-4528-8da0-dd566cec0445",
   "metadata": {},
   "outputs": [],
   "source": [
    "X = pd.get_dummies(X, columns=['home_ownership', 'purpose'], drop_first=True, dtype=int)\n",
    "# X.head()"
   ]
  },
  {
   "cell_type": "code",
   "execution_count": 44,
   "id": "d417fd65-8779-4d48-a09a-c67ea7844446",
   "metadata": {},
   "outputs": [],
   "source": [
    "Xtrain, Xtest, ytrain, ytest = train_test_split(X, y, stratify=y, test_size=0.20)"
   ]
  },
  {
   "cell_type": "markdown",
   "id": "cd90a661-5b28-405f-96e0-777c52615065",
   "metadata": {
    "jp-MarkdownHeadingCollapsed": true
   },
   "source": [
    "<h1>Handling Missing Value</h1>"
   ]
  },
  {
   "cell_type": "code",
   "execution_count": 45,
   "id": "e4703902-c9f6-4c6b-8b07-e52115d06059",
   "metadata": {},
   "outputs": [],
   "source": [
    "Xtrain.payment_inc_ratio.fillna(0, inplace=True)\n",
    "Xtrain.fillna(-1, inplace=True)"
   ]
  },
  {
   "cell_type": "code",
   "execution_count": 46,
   "id": "f735a76f-9259-4cf8-8f78-47b1b05920a0",
   "metadata": {},
   "outputs": [],
   "source": [
    "Xtest.payment_inc_ratio.fillna(0, inplace=True)\n",
    "Xtest.fillna(-1, inplace=True)"
   ]
  },
  {
   "cell_type": "markdown",
   "id": "9de04cef-1843-4d05-b7c9-b96b2b7b8e4a",
   "metadata": {
    "jp-MarkdownHeadingCollapsed": true
   },
   "source": [
    "<h1>Handling Outliers</h1>"
   ]
  },
  {
   "cell_type": "code",
   "execution_count": 47,
   "id": "5b4bac98-2e4f-42b2-967c-ab18995d997e",
   "metadata": {
    "scrolled": true
   },
   "outputs": [],
   "source": [
    "# Log Transform\n",
    "Xtrain_log = Xtrain.copy()\n",
    "cols = ['payment_inc_ratio', 'open_acc']\n",
    "for c in cols:\n",
    "    Xtrain_log[c] = np.log(Xtrain_log[c] + 1.1)\n",
    "\n",
    "Xtest_log = Xtest.copy()\n",
    "cols = ['payment_inc_ratio', 'open_acc']\n",
    "for c in cols:\n",
    "    Xtest_log[c] = np.log(Xtest_log[c] + 1.1)"
   ]
  },
  {
   "cell_type": "code",
   "execution_count": 48,
   "id": "d949feb6-9d24-4ca3-a4de-927de5502cd5",
   "metadata": {
    "scrolled": true
   },
   "outputs": [],
   "source": [
    "# z-score outlier detection\n",
    "Xtrain_clip = Xtrain.copy()\n",
    "columns = ['loan_amnt', 'grade', 'sub_grade_num', 'emp_length_num', 'dti', 'delinq_2yrs',\n",
    "           'inq_last_6mths', 'revol_util', 'payment_inc_ratio', 'open_acc']\n",
    "\n",
    "for c in columns:\n",
    "    if (Xtrain_clip[c].dtypes == int) | (Xtrain_clip[c].dtypes == float):\n",
    "        L = Xtrain[c].mean() - 3*Xtrain[c].std()\n",
    "        U = Xtrain[c].mean() + 3*Xtrain[c].std()\n",
    "        Xtrain_clip[c] = Xtrain_clip[c].clip(L,U)\n",
    "\n",
    "Xtest_clip = Xtest.copy()\n",
    "columns = ['loan_amnt', 'grade', 'sub_grade_num', 'emp_length_num', 'dti', 'delinq_2yrs',\n",
    "           'inq_last_6mths', 'revol_util', 'payment_inc_ratio', 'open_acc']\n",
    "\n",
    "for c in columns:\n",
    "    if (Xtest_clip[c].dtypes == int) | (Xtest_clip[c].dtypes == float):\n",
    "        L = Xtrain[c].mean() - 3*Xtrain[c].std()\n",
    "        U = Xtrain[c].mean() + 3*Xtrain[c].std()\n",
    "        Xtest_clip[c] =Xtest_clip[c].clip(L,U)"
   ]
  },
  {
   "cell_type": "code",
   "execution_count": 49,
   "id": "a7c48bab-0bd4-4bee-b1ae-1d57820a7fed",
   "metadata": {},
   "outputs": [],
   "source": [
    "# Log and z-score\n",
    "Xtrain_log_clip = Xtrain_clip.drop(columns=['payment_inc_ratio', 'open_acc'])\n",
    "Xtrain_log_clip = pd.concat([Xtrain_log_clip, Xtrain_log.loc[:,['payment_inc_ratio', 'open_acc']]], axis=1)\n",
    "\n",
    "Xtest_log_clip = Xtest_clip.drop(columns=['payment_inc_ratio', 'open_acc'])\n",
    "Xtest_log_clip = pd.concat([Xtest_log_clip, Xtest_log.loc[:,['payment_inc_ratio', 'open_acc']]], axis=1)"
   ]
  },
  {
   "cell_type": "markdown",
   "id": "f0f87854-6c58-4b86-a65e-06ff33e8d98c",
   "metadata": {
    "jp-MarkdownHeadingCollapsed": true
   },
   "source": [
    "<h1>Normalization: MinMaxScaler</h1>"
   ]
  },
  {
   "cell_type": "code",
   "execution_count": 50,
   "id": "d50584c3-ab8f-4c49-ae84-a863dcb59322",
   "metadata": {
    "scrolled": true
   },
   "outputs": [],
   "source": [
    "# Normalization\n",
    "mmscaler = MinMaxScaler()\n",
    "\n",
    "Xtrain_normal = mmscaler.fit_transform(Xtrain)\n",
    "Xtrain_normal = pd.DataFrame(Xtrain_normal, columns=Xtrain.columns, index=Xtrain.index)\n",
    "\n",
    "Xtest_normal = mmscaler.transform(Xtest)\n",
    "Xtest_normal = pd.DataFrame(Xtest_normal, columns=Xtest.columns, index=Xtest.index)\n",
    "\n",
    "#############################\n",
    "Xtrain_log_normal = mmscaler.fit_transform(Xtrain_log)\n",
    "Xtrain_log_normal = pd.DataFrame(Xtrain_log_normal, columns=Xtrain_log.columns, index=Xtrain_log.index)\n",
    "\n",
    "Xtest_log_normal = mmscaler.transform(Xtest_log)\n",
    "Xtest_log_normal = pd.DataFrame(Xtest_log_normal, columns=Xtest_log.columns, index=Xtest_log.index)\n",
    "\n",
    "#############################\n",
    "Xtrain_clip_normal = mmscaler.fit_transform(Xtrain_clip)\n",
    "Xtrain_clip_normal = pd.DataFrame(Xtrain_clip_normal, columns=Xtrain_clip.columns, index=Xtrain_clip.index)\n",
    "\n",
    "Xtest_clip_normal = mmscaler.transform(Xtest_clip)\n",
    "Xtest_clip_normal = pd.DataFrame(Xtest_clip_normal, columns=Xtest_clip.columns, index=Xtest_clip.index)\n",
    "\n",
    "#############################\n",
    "Xtrain_log_clip_normal = mmscaler.fit_transform(Xtrain_log_clip)\n",
    "Xtrain_log_clip_normal = pd.DataFrame(Xtrain_log_clip_normal, columns=Xtrain_log_clip.columns, index=Xtrain_log_clip.index)\n",
    "\n",
    "Xtest_log_clip_normal = mmscaler.transform(Xtest_log_clip)\n",
    "Xtest_log_clip_normal = pd.DataFrame(Xtest_log_clip_normal, columns=Xtest_log_clip.columns, index=Xtest_log_clip.index)\n"
   ]
  },
  {
   "cell_type": "markdown",
   "id": "3d534d61-5443-43bf-bbd5-9f24d49d2c8e",
   "metadata": {
    "jp-MarkdownHeadingCollapsed": true
   },
   "source": [
    "<h1>Over Sampling</h1>"
   ]
  },
  {
   "cell_type": "code",
   "execution_count": 51,
   "id": "a9734a86-0120-4630-b7fa-77ef13e264d1",
   "metadata": {},
   "outputs": [],
   "source": [
    "# Over-Sampling\n",
    "over_sampler = SMOTE()\n",
    "\n",
    "Xtrain_over, ytrain_over = over_sampler.fit_resample(Xtrain, ytrain)\n",
    "Xtrain_normal_over, ytrain_normal_over = over_sampler.fit_resample(Xtrain_normal, ytrain)\n",
    "Xtrain_log_normal_over, ytrain_log_normal_over = over_sampler.fit_resample(Xtrain_log_normal, ytrain)\n",
    "Xtrain_clip_normal_over, ytrain_clip_normal_over = over_sampler.fit_resample(Xtrain_clip_normal, ytrain)\n",
    "Xtrain_log_clip_normal_over, ytrain_log_clip_normal_over = over_sampler.fit_resample(Xtrain_log_clip_normal, ytrain)\n"
   ]
  },
  {
   "cell_type": "markdown",
   "id": "25e4c2ad-9497-40f2-b954-c8d0c8851394",
   "metadata": {},
   "source": [
    "<h1>Under Sampling</h1>"
   ]
  },
  {
   "cell_type": "code",
   "execution_count": 52,
   "id": "9b2bb329-22b5-4670-b2cc-6c7b1024bf7c",
   "metadata": {},
   "outputs": [],
   "source": [
    "# Under-Sampling\n",
    "under_sampler = RandomUnderSampler()\n",
    "\n",
    "Xtrain_under, ytrain_under = under_sampler.fit_resample(Xtrain, ytrain)\n",
    "Xtrain_normal_under, ytrain_normal_under = under_sampler.fit_resample(Xtrain_normal, ytrain)\n",
    "Xtrain_log_normal_under, ytrain_log_normal_under = under_sampler.fit_resample(Xtrain_log_normal, ytrain)\n",
    "Xtrain_clip_normal_under, ytrain_clip_normal_under = under_sampler.fit_resample(Xtrain_clip_normal, ytrain)\n",
    "Xtrain_log_clip_normal_under, ytrain_log_clip_normal_under = under_sampler.fit_resample(Xtrain_log_clip_normal, ytrain)\n"
   ]
  },
  {
   "cell_type": "markdown",
   "id": "7173e3aa-1771-45e2-abf4-217fde601957",
   "metadata": {
    "jp-MarkdownHeadingCollapsed": true
   },
   "source": [
    "<h1>PCA</h1>"
   ]
  },
  {
   "cell_type": "code",
   "execution_count": 54,
   "id": "1ae537bf-38f4-4300-ae77-acbb722b33b9",
   "metadata": {},
   "outputs": [],
   "source": [
    "# PCA with Over Sampled Data\n",
    "from sklearn.decomposition import PCA\n",
    "pca = PCA(n_components=0.99)\n",
    "\n",
    "Xtrain_pca = pd.DataFrame(pca.fit_transform(Xtrain_over), index=Xtrain_over.index)\n",
    "Xtrain_over_pca = pd.concat([Xtrain_over, Xtrain_pca], axis=1)\n",
    "Xtrain_over_pca.columns=Xtrain_over_pca.columns.astype(str)\n",
    "\n",
    "Xtest_pca = pd.DataFrame(pca.transform(Xtest), index=Xtest.index)\n",
    "Xtest_pca = pd.concat([Xtest, Xtest_pca], axis=1)\n",
    "Xtest_pca.columns = Xtest_pca.columns.astype(str)\n",
    "\n",
    "###########################################\n",
    "Xtrain_normal_pca = pd.DataFrame(pca.fit_transform(Xtrain_normal_over), index=Xtrain_normal_over.index)\n",
    "Xtrain_normal_over_pca = pd.concat([Xtrain_normal_over, Xtrain_normal_pca], axis=1)\n",
    "Xtrain_normal_over_pca.columns=Xtrain_normal_over_pca.columns.astype(str)\n",
    "\n",
    "Xtest_normal_pca = pd.DataFrame(pca.transform(Xtest_normal), index=Xtest_normal.index)\n",
    "Xtest_normal_pca = pd.concat([Xtest_normal, Xtest_normal_pca], axis=1)\n",
    "Xtest_normal_pca.columns = Xtest_normal_pca.columns.astype(str)\n",
    "\n",
    "###########################################\n",
    "Xtrain_log_normal_pca = pd.DataFrame(pca.fit_transform(Xtrain_log_normal_over), index=Xtrain_log_normal_over.index)\n",
    "Xtrain_log_normal_over_pca = pd.concat([Xtrain_log_normal_over, Xtrain_log_normal_pca], axis=1)\n",
    "Xtrain_log_normal_over_pca.columns=Xtrain_log_normal_over_pca.columns.astype(str)\n",
    "\n",
    "Xtest_log_normal_pca = pd.DataFrame(pca.transform(Xtest_log_normal), index=Xtest_log_normal.index)\n",
    "Xtest_log_normal_pca = pd.concat([Xtest_log_normal, Xtest_log_normal_pca], axis=1)\n",
    "Xtest_log_normal_pca.columns = Xtest_log_normal_pca.columns.astype(str)\n",
    "\n",
    "###########################################\n",
    "Xtrain_clip_normal_pca = pd.DataFrame(pca.fit_transform(Xtrain_clip_normal_over), index=Xtrain_clip_normal_over.index)\n",
    "Xtrain_clip_normal_over_pca = pd.concat([Xtrain_clip_normal_over, Xtrain_clip_normal_pca], axis=1)\n",
    "Xtrain_clip_normal_over_pca.columns=Xtrain_clip_normal_over_pca.columns.astype(str)\n",
    "\n",
    "Xtest_clip_normal_pca = pd.DataFrame(pca.transform(Xtest_clip_normal), index=Xtest_clip_normal.index)\n",
    "Xtest_clip_normal_pca = pd.concat([Xtest_clip_normal, Xtest_clip_normal_pca], axis=1)\n",
    "Xtest_clip_normal_pca.columns=Xtest_clip_normal_pca.columns.astype(str)\n",
    "\n",
    "###########################################\n",
    "Xtrain_log_clip_normal_pca = pd.DataFrame(pca.fit_transform(Xtrain_log_clip_normal_over), index=Xtrain_log_clip_normal_over.index)\n",
    "Xtrain_log_clip_normal_over_pca = pd.concat([Xtrain_log_clip_normal_over, Xtrain_log_clip_normal_pca], axis=1)\n",
    "Xtrain_log_clip_normal_over_pca.columns=Xtrain_log_clip_normal_over_pca.columns.astype(str)\n",
    "\n",
    "Xtest_log_clip_normal_pca = pd.DataFrame(pca.transform(Xtest_log_clip_normal), index=Xtest_log_clip_normal.index)\n",
    "Xtest_log_clip_normal_pca = pd.concat([Xtest_log_clip_normal, Xtest_log_clip_normal_pca], axis=1)\n",
    "Xtest_log_clip_normal_pca.columns=Xtest_log_clip_normal_pca.columns.astype(str)\n"
   ]
  },
  {
   "cell_type": "code",
   "execution_count": 53,
   "id": "44960d1a-cd93-4ff0-bf55-dcc82358878b",
   "metadata": {},
   "outputs": [],
   "source": [
    "# PCA with Under Sampled Data\n",
    "from sklearn.decomposition import PCA\n",
    "pca = PCA(n_components=0.99)\n",
    "\n",
    "Xtrain_pca = pd.DataFrame(pca.fit_transform(Xtrain_under), index=Xtrain_under.index)\n",
    "Xtrain_under_pca = pd.concat([Xtrain_under, Xtrain_pca], axis=1)\n",
    "Xtrain_under_pca.columns=Xtrain_under_pca.columns.astype(str)\n",
    "\n",
    "Xtest_pca = pd.DataFrame(pca.transform(Xtest), index=Xtest.index)\n",
    "Xtest_pca = pd.concat([Xtest, Xtest_pca], axis=1)\n",
    "Xtest_pca.columns = Xtest_pca.columns.astype(str)\n",
    "\n",
    "###########################################\n",
    "Xtrain_normal_pca = pd.DataFrame(pca.fit_transform(Xtrain_normal_under), index=Xtrain_normal_under.index)\n",
    "Xtrain_normal_under_pca = pd.concat([Xtrain_normal_under, Xtrain_normal_pca], axis=1)\n",
    "Xtrain_normal_under_pca.columns=Xtrain_normal_under_pca.columns.astype(str)\n",
    "\n",
    "Xtest_normal_pca = pd.DataFrame(pca.transform(Xtest_normal), index=Xtest_normal.index)\n",
    "Xtest_normal_pca = pd.concat([Xtest_normal, Xtest_normal_pca], axis=1)\n",
    "Xtest_normal_pca.columns = Xtest_normal_pca.columns.astype(str)\n",
    "\n",
    "###########################################\n",
    "Xtrain_log_normal_pca = pd.DataFrame(pca.fit_transform(Xtrain_log_normal_under), index=Xtrain_log_normal_under.index)\n",
    "Xtrain_log_normal_under_pca = pd.concat([Xtrain_log_normal_under, Xtrain_log_normal_pca], axis=1)\n",
    "Xtrain_log_normal_under_pca.columns=Xtrain_log_normal_under_pca.columns.astype(str)\n",
    "\n",
    "Xtest_log_normal_pca = pd.DataFrame(pca.transform(Xtest_log_normal), index=Xtest_log_normal.index)\n",
    "Xtest_log_normal_pca = pd.concat([Xtest_log_normal, Xtest_log_normal_pca], axis=1)\n",
    "Xtest_log_normal_pca.columns = Xtest_log_normal_pca.columns.astype(str)\n",
    "\n",
    "###########################################\n",
    "Xtrain_clip_normal_pca = pd.DataFrame(pca.fit_transform(Xtrain_clip_normal_under), index=Xtrain_clip_normal_under.index)\n",
    "Xtrain_clip_normal_under_pca = pd.concat([Xtrain_clip_normal_under, Xtrain_clip_normal_pca], axis=1)\n",
    "Xtrain_clip_normal_under_pca.columns=Xtrain_clip_normal_under_pca.columns.astype(str)\n",
    "\n",
    "Xtest_clip_normal_pca = pd.DataFrame(pca.transform(Xtest_clip_normal), index=Xtest_clip_normal.index)\n",
    "Xtest_clip_normal_pca = pd.concat([Xtest_clip_normal, Xtest_clip_normal_pca], axis=1)\n",
    "Xtest_clip_normal_pca.columns=Xtest_clip_normal_pca.columns.astype(str)\n",
    "\n",
    "###########################################\n",
    "Xtrain_log_clip_normal_pca = pd.DataFrame(pca.fit_transform(Xtrain_log_clip_normal_under), index=Xtrain_log_clip_normal_under.index)\n",
    "Xtrain_log_clip_normal_under_pca = pd.concat([Xtrain_log_clip_normal_under, Xtrain_log_clip_normal_pca], axis=1)\n",
    "Xtrain_log_clip_normal_under_pca.columns=Xtrain_log_clip_normal_under_pca.columns.astype(str)\n",
    "\n",
    "Xtest_log_clip_normal_pca = pd.DataFrame(pca.transform(Xtest_log_clip_normal), index=Xtest_log_clip_normal.index)\n",
    "Xtest_log_clip_normal_pca = pd.concat([Xtest_log_clip_normal, Xtest_log_clip_normal_pca], axis=1)\n",
    "Xtest_log_clip_normal_pca.columns=Xtest_log_clip_normal_pca.columns.astype(str)"
   ]
  },
  {
   "cell_type": "markdown",
   "id": "33904b59-cde9-4efb-9714-dc8719355eee",
   "metadata": {},
   "source": [
    "<h1>Stratified K-Fold</h1>"
   ]
  },
  {
   "cell_type": "code",
   "execution_count": 55,
   "id": "338f527a-fdba-4edd-83ab-eae4733fab41",
   "metadata": {},
   "outputs": [],
   "source": [
    "skf = StratifiedKFold(n_splits=5, shuffle=True)"
   ]
  },
  {
   "cell_type": "markdown",
   "id": "d0c722e7-8288-4843-ad45-66da4e0f6dde",
   "metadata": {},
   "source": [
    "<h1>Gaussian Naive Bayes</h1>"
   ]
  },
  {
   "cell_type": "markdown",
   "id": "23a99f98-8194-4da5-9a59-bad473d61180",
   "metadata": {
    "jp-MarkdownHeadingCollapsed": true
   },
   "source": [
    "<h4 dir='rtl'>بدلیل نداشتن هایپرپارامتر در این الگوریتم، از RandomizedSearchCV برای اعمال Cross Validation استفاده شده است.</h4>"
   ]
  },
  {
   "cell_type": "markdown",
   "id": "8f8252f2-62cf-4d3d-9ebf-ea58b1ce7851",
   "metadata": {
    "jp-MarkdownHeadingCollapsed": true
   },
   "source": [
    "<h3>Train Data</h3>"
   ]
  },
  {
   "cell_type": "code",
   "execution_count": 25,
   "id": "8eb0005f-5266-4885-b245-ee4c865cf170",
   "metadata": {},
   "outputs": [],
   "source": [
    "gnb = GaussianNB()"
   ]
  },
  {
   "cell_type": "code",
   "execution_count": 27,
   "id": "48bcdb90-9074-4a5e-a918-8d63be3bfb8a",
   "metadata": {
    "scrolled": true
   },
   "outputs": [
    {
     "data": {
      "text/plain": [
       "0.2500548365869708"
      ]
     },
     "execution_count": 27,
     "metadata": {},
     "output_type": "execute_result"
    }
   ],
   "source": [
    "# Xtrain\n",
    "space = {}\n",
    "gnbrs = RandomizedSearchCV(estimator=gnb, param_distributions=space, n_iter=100, scoring='f1', cv=skf, n_jobs=5)\n",
    "gnbrs.fit(Xtrain, ytrain)\n",
    "\n",
    "gnb_pred = gnbrs.best_estimator_.predict(Xtest)\n",
    "f1_score(y_true=ytest, y_pred=gnb_pred)"
   ]
  },
  {
   "cell_type": "code",
   "execution_count": 28,
   "id": "c53821e1-957f-455b-9a7f-f1b6f8e4972a",
   "metadata": {},
   "outputs": [
    {
     "data": {
      "text/plain": [
       "0.33981430045234506"
      ]
     },
     "execution_count": 28,
     "metadata": {},
     "output_type": "execute_result"
    }
   ],
   "source": [
    "# Over-Samlping\n",
    "space = {}\n",
    "gnbrso = RandomizedSearchCV(estimator=gnb, param_distributions=space, n_iter=100, scoring='f1', cv=skf, n_jobs=5)\n",
    "gnbrso.fit(Xtrain_over, ytrain_over)\n",
    "\n",
    "gnbo_pred = gnbrso.best_estimator_.predict(Xtest)\n",
    "f1_score(y_true=ytest, y_pred=gnbo_pred)"
   ]
  },
  {
   "cell_type": "code",
   "execution_count": 29,
   "id": "2cbc2848-7b66-4a31-b291-3f4182589f6f",
   "metadata": {},
   "outputs": [
    {
     "data": {
      "text/plain": [
       "0.3917061077304485"
      ]
     },
     "execution_count": 29,
     "metadata": {},
     "output_type": "execute_result"
    }
   ],
   "source": [
    "# Under-Sampling\n",
    "space = {}\n",
    "gnbrsu = RandomizedSearchCV(estimator=gnb, param_distributions=space, n_iter=100, scoring='f1', cv=skf, n_jobs=5)\n",
    "gnbrsu.fit(Xtrain_under, ytrain_under)\n",
    "\n",
    "gnbu_pred = gnbrsu.best_estimator_.predict(Xtest)\n",
    "f1_score(y_true=ytest, y_pred=gnbu_pred)"
   ]
  },
  {
   "cell_type": "code",
   "execution_count": 107,
   "id": "c7afbaaf-a537-4db3-adf2-c8224be53966",
   "metadata": {
    "scrolled": true
   },
   "outputs": [
    {
     "data": {
      "text/plain": [
       "0.34031582339671285"
      ]
     },
     "execution_count": 107,
     "metadata": {},
     "output_type": "execute_result"
    }
   ],
   "source": [
    "# Over PCA\n",
    "space = {}\n",
    "gnbrsop = RandomizedSearchCV(estimator=gnb, param_distributions=space, n_iter=200, scoring='f1', cv=skf, n_jobs=5)\n",
    "gnbrsop.fit(Xtrain_over_pca, ytrain_over)\n",
    "\n",
    "gnbop_pred = gnbrsop.best_estimator_.predict(Xtest_pca)\n",
    "f1_score(y_true=ytest, y_pred=gnbop_pred)"
   ]
  },
  {
   "cell_type": "code",
   "execution_count": 31,
   "id": "f12c1b1c-11dc-489f-9915-6d391719e9d2",
   "metadata": {
    "scrolled": true
   },
   "outputs": [
    {
     "data": {
      "text/plain": [
       "0.3857810185712658"
      ]
     },
     "execution_count": 31,
     "metadata": {},
     "output_type": "execute_result"
    }
   ],
   "source": [
    "# Under PCA\n",
    "space = {}\n",
    "gnbrsup = RandomizedSearchCV(estimator=gnb, param_distributions=space, n_iter=200, scoring='f1', cv=skf, n_jobs=5)\n",
    "gnbrsup.fit(Xtrain_under_pca, ytrain_under)\n",
    "\n",
    "gnbup_pred = gnbrsup.best_estimator_.predict(Xtest_pca)\n",
    "f1_score(y_true=ytest, y_pred=gnbup_pred)"
   ]
  },
  {
   "cell_type": "raw",
   "id": "0f787a2f-5c16-4c60-8609-9fa8fb23d2e9",
   "metadata": {},
   "source": []
  },
  {
   "cell_type": "code",
   "execution_count": null,
   "id": "12f94b8c-175f-43f8-af85-baacea279db0",
   "metadata": {},
   "outputs": [],
   "source": []
  },
  {
   "cell_type": "markdown",
   "id": "31be8f17-929c-4b30-87e2-b07b058dfebf",
   "metadata": {
    "jp-MarkdownHeadingCollapsed": true
   },
   "source": [
    "<h3>Train Normal Data</h3>"
   ]
  },
  {
   "cell_type": "code",
   "execution_count": 34,
   "id": "7a557a19-cc35-4fe4-b80a-6f725b35134c",
   "metadata": {},
   "outputs": [],
   "source": [
    "gnb = GaussianNB()"
   ]
  },
  {
   "cell_type": "code",
   "execution_count": 32,
   "id": "4f93540a-2740-4e5e-9d0c-269a6f673283",
   "metadata": {},
   "outputs": [
    {
     "data": {
      "text/plain": [
       "0.2571025589361273"
      ]
     },
     "execution_count": 32,
     "metadata": {},
     "output_type": "execute_result"
    }
   ],
   "source": [
    "# Xtrain Normal\n",
    "space = {}\n",
    "gnbrsn = RandomizedSearchCV(estimator=gnb, param_distributions=space, n_iter=100, scoring='f1', cv=skf, n_jobs=5)\n",
    "gnbrsn.fit(Xtrain_normal, ytrain)\n",
    "\n",
    "gnbn_pred = gnbrsn.best_estimator_.predict(Xtest_normal)\n",
    "f1_score(y_true=ytest, y_pred=gnbn_pred)"
   ]
  },
  {
   "cell_type": "code",
   "execution_count": 33,
   "id": "46f25483-fbdc-4f97-8964-783a366b1c0e",
   "metadata": {},
   "outputs": [
    {
     "data": {
      "text/plain": [
       "0.3820335636722606"
      ]
     },
     "execution_count": 33,
     "metadata": {},
     "output_type": "execute_result"
    }
   ],
   "source": [
    "# Normal Over Samlping\n",
    "space = {}\n",
    "gnbrsno = RandomizedSearchCV(estimator=gnb, param_distributions=space, n_iter=100, scoring='f1', cv=skf, n_jobs=5)\n",
    "gnbrsno.fit(Xtrain_normal_over, ytrain_normal_over)\n",
    "\n",
    "gnbno_pred = gnbrsno.best_estimator_.predict(Xtest_normal)\n",
    "f1_score(y_true=ytest, y_pred=gnbno_pred)"
   ]
  },
  {
   "cell_type": "code",
   "execution_count": 34,
   "id": "b898829b-0fc3-4546-a15d-b2ebfffdec1a",
   "metadata": {},
   "outputs": [
    {
     "data": {
      "text/plain": [
       "0.3690137359237718"
      ]
     },
     "execution_count": 34,
     "metadata": {},
     "output_type": "execute_result"
    }
   ],
   "source": [
    "# Normal Under Sampling\n",
    "space = {}\n",
    "gnbrsnu = RandomizedSearchCV(estimator=gnb, param_distributions=space, n_iter=100, scoring='f1', cv=skf, n_jobs=5)\n",
    "gnbrsnu.fit(Xtrain_normal_under, ytrain_normal_under)\n",
    "\n",
    "gnbnu_pred = gnbrsnu.best_estimator_.predict(Xtest_normal)\n",
    "f1_score(y_true=ytest, y_pred=gnbnu_pred)"
   ]
  },
  {
   "cell_type": "code",
   "execution_count": 108,
   "id": "b8961ac8-2038-4e69-bf3b-f2439cd3f307",
   "metadata": {},
   "outputs": [
    {
     "data": {
      "text/plain": [
       "0.38572884811416924"
      ]
     },
     "execution_count": 108,
     "metadata": {},
     "output_type": "execute_result"
    }
   ],
   "source": [
    "# Over PCA\n",
    "space = {}\n",
    "gnbrsnop = RandomizedSearchCV(estimator=gnb, param_distributions=space, n_iter=200, scoring='f1', cv=skf, n_jobs=5)\n",
    "gnbrsnop.fit(Xtrain_normal_over_pca, ytrain_normal_over)\n",
    "\n",
    "gnbnop_pred = gnbrsnop.best_estimator_.predict(Xtest_normal_pca)\n",
    "f1_score(y_true=ytest, y_pred=gnbnop_pred)"
   ]
  },
  {
   "cell_type": "code",
   "execution_count": 36,
   "id": "593e4fcf-33d2-4596-927e-ca08dfbad101",
   "metadata": {},
   "outputs": [
    {
     "data": {
      "text/plain": [
       "0.3810923340680872"
      ]
     },
     "execution_count": 36,
     "metadata": {},
     "output_type": "execute_result"
    }
   ],
   "source": [
    "# Under PCA\n",
    "space = {}\n",
    "gnbrsnup = RandomizedSearchCV(estimator=gnb, param_distributions=space, n_iter=200, scoring='f1', cv=skf, n_jobs=5)\n",
    "gnbrsnup.fit(Xtrain_normal_under_pca, ytrain_normal_under)\n",
    "\n",
    "gnbnup_pred = gnbrsnup.best_estimator_.predict(Xtest_normal_pca)\n",
    "f1_score(y_true=ytest, y_pred=gnbnup_pred)"
   ]
  },
  {
   "cell_type": "code",
   "execution_count": null,
   "id": "321431f4-24da-428d-9e9e-3079fde93132",
   "metadata": {},
   "outputs": [],
   "source": []
  },
  {
   "cell_type": "code",
   "execution_count": null,
   "id": "37b0f28f-4206-4c41-b4bc-bbeba0871096",
   "metadata": {},
   "outputs": [],
   "source": []
  },
  {
   "cell_type": "markdown",
   "id": "c8d9fe8a-d3ba-4252-8536-f25a7b662a6c",
   "metadata": {
    "jp-MarkdownHeadingCollapsed": true
   },
   "source": [
    "<h3>Train Log Normal Data</h3>"
   ]
  },
  {
   "cell_type": "code",
   "execution_count": 37,
   "id": "bf75e9f5-99d8-49b1-aba2-5f83a9fdb4fa",
   "metadata": {},
   "outputs": [],
   "source": [
    "gnb = GaussianNB()"
   ]
  },
  {
   "cell_type": "code",
   "execution_count": 38,
   "id": "679416ca-2120-4c4c-a24c-e424e15a4fb0",
   "metadata": {},
   "outputs": [
    {
     "data": {
      "text/plain": [
       "0.24959016393442623"
      ]
     },
     "execution_count": 38,
     "metadata": {},
     "output_type": "execute_result"
    }
   ],
   "source": [
    "# Xtrain Log Normal\n",
    "space = {}\n",
    "gnbrsln = RandomizedSearchCV(estimator=gnb, param_distributions=space, n_iter=100, scoring='f1', cv=skf, n_jobs=5)\n",
    "gnbrsln.fit(Xtrain_log_normal, ytrain)\n",
    "\n",
    "gnbln_pred = gnbrsln.best_estimator_.predict(Xtest_log_normal)\n",
    "f1_score(y_true=ytest, y_pred=gnbln_pred)"
   ]
  },
  {
   "cell_type": "code",
   "execution_count": 39,
   "id": "80837626-762c-4bfa-8a12-2c830f3a51f2",
   "metadata": {},
   "outputs": [
    {
     "data": {
      "text/plain": [
       "0.37832588852204313"
      ]
     },
     "execution_count": 39,
     "metadata": {},
     "output_type": "execute_result"
    }
   ],
   "source": [
    "# Log Normal Over Samlping\n",
    "space = {}\n",
    "gnbrslno = RandomizedSearchCV(estimator=gnb, param_distributions=space, n_iter=100, scoring='f1', cv=skf, n_jobs=5)\n",
    "gnbrslno.fit(Xtrain_log_normal_over, ytrain_log_normal_over)\n",
    "\n",
    "gnblno_pred = gnbrslno.best_estimator_.predict(Xtest_log_normal)\n",
    "f1_score(y_true=ytest, y_pred=gnblno_pred)"
   ]
  },
  {
   "cell_type": "code",
   "execution_count": 40,
   "id": "b7fbca2f-56b6-42ce-b643-3f6e7629909b",
   "metadata": {},
   "outputs": [
    {
     "data": {
      "text/plain": [
       "0.37482646922720964"
      ]
     },
     "execution_count": 40,
     "metadata": {},
     "output_type": "execute_result"
    }
   ],
   "source": [
    "# Log Normal Under Sampling\n",
    "space = {}\n",
    "gnbrslnu = RandomizedSearchCV(estimator=gnb, param_distributions=space, n_iter=100, scoring='f1', cv=skf, n_jobs=5)\n",
    "gnbrslnu.fit(Xtrain_log_normal_under, ytrain_log_normal_under)\n",
    "\n",
    "gnblnu_pred = gnbrslnu.best_estimator_.predict(Xtest_log_normal)\n",
    "f1_score(y_true=ytest, y_pred=gnblnu_pred)"
   ]
  },
  {
   "cell_type": "code",
   "execution_count": 109,
   "id": "84fb7c42-ea26-4b39-968e-03cf41043bd0",
   "metadata": {},
   "outputs": [
    {
     "data": {
      "text/plain": [
       "0.3826086956521739"
      ]
     },
     "execution_count": 109,
     "metadata": {},
     "output_type": "execute_result"
    }
   ],
   "source": [
    "# Over PCA\n",
    "space = {}\n",
    "gnbrslnop = RandomizedSearchCV(estimator=gnb, param_distributions=space, n_iter=100, scoring='f1', cv=skf, n_jobs=5)\n",
    "gnbrslnop.fit(Xtrain_log_normal_over_pca, ytrain_log_normal_over)\n",
    "\n",
    "gnblnop_pred = gnbrslnop.best_estimator_.predict(Xtest_log_normal_pca)\n",
    "f1_score(y_true=ytest, y_pred=gnblnop_pred)"
   ]
  },
  {
   "cell_type": "code",
   "execution_count": 41,
   "id": "7e99d75a-668c-4239-87ba-3bc9a5a87abc",
   "metadata": {},
   "outputs": [
    {
     "data": {
      "text/plain": [
       "0.3851381966470322"
      ]
     },
     "execution_count": 41,
     "metadata": {},
     "output_type": "execute_result"
    }
   ],
   "source": [
    "# Under PCA\n",
    "space = {}\n",
    "gnbrslnup = RandomizedSearchCV(estimator=gnb, param_distributions=space, n_iter=100, scoring='f1', cv=skf, n_jobs=5)\n",
    "gnbrslnup.fit(Xtrain_log_normal_under_pca, ytrain_log_normal_under)\n",
    "\n",
    "gnblnup_pred = gnbrslnup.best_estimator_.predict(Xtest_log_normal_pca)\n",
    "f1_score(y_true=ytest, y_pred=gnblnup_pred)"
   ]
  },
  {
   "cell_type": "raw",
   "id": "3c11fd99-adb1-45cf-932e-4b1760bd7629",
   "metadata": {},
   "source": []
  },
  {
   "cell_type": "code",
   "execution_count": null,
   "id": "e23623ba-d321-4866-80fe-9eac3b25d783",
   "metadata": {},
   "outputs": [],
   "source": []
  },
  {
   "cell_type": "markdown",
   "id": "66fae03d-1d77-485a-8867-3ecf118eaff6",
   "metadata": {
    "jp-MarkdownHeadingCollapsed": true
   },
   "source": [
    "<h3>Train Clip Normal Data</h3>"
   ]
  },
  {
   "cell_type": "code",
   "execution_count": 42,
   "id": "59bfff57-d5b0-4074-8604-676fa6767ecd",
   "metadata": {},
   "outputs": [],
   "source": [
    "gnb = GaussianNB()"
   ]
  },
  {
   "cell_type": "code",
   "execution_count": 43,
   "id": "8fd4dbdf-07d4-4e2b-9d1a-953f8455aa2c",
   "metadata": {},
   "outputs": [
    {
     "data": {
      "text/plain": [
       "0.2621105527638191"
      ]
     },
     "execution_count": 43,
     "metadata": {},
     "output_type": "execute_result"
    }
   ],
   "source": [
    "# Xtrain Clip Normal\n",
    "space = {}\n",
    "gnbrscn = RandomizedSearchCV(estimator=gnb, param_distributions=space, n_iter=100, scoring='f1', cv=skf, n_jobs=5)\n",
    "gnbrscn.fit(Xtrain_clip_normal, ytrain)\n",
    "\n",
    "gnbcn_pred = gnbrscn.best_estimator_.predict(Xtest_clip_normal)\n",
    "f1_score(y_true=ytest, y_pred=gnbcn_pred)"
   ]
  },
  {
   "cell_type": "code",
   "execution_count": 44,
   "id": "b89cbdd9-4fd0-4638-bd76-8ea4370347b2",
   "metadata": {},
   "outputs": [
    {
     "data": {
      "text/plain": [
       "0.3828197945845005"
      ]
     },
     "execution_count": 44,
     "metadata": {},
     "output_type": "execute_result"
    }
   ],
   "source": [
    "# Clip Normal Over Samlping\n",
    "space = {}\n",
    "gnbrscno = RandomizedSearchCV(estimator=gnb, param_distributions=space, n_iter=100, scoring='f1', cv=skf, n_jobs=5)\n",
    "gnbrscno.fit(Xtrain_clip_normal_over, ytrain_clip_normal_over)\n",
    "\n",
    "gnbcno_pred = gnbrscno.best_estimator_.predict(Xtest_clip_normal)\n",
    "f1_score(y_true=ytest, y_pred=gnbcno_pred)"
   ]
  },
  {
   "cell_type": "code",
   "execution_count": 45,
   "id": "d8cacb51-f81c-429e-a984-01cd29a9473e",
   "metadata": {},
   "outputs": [
    {
     "data": {
      "text/plain": [
       "0.36278342455043"
      ]
     },
     "execution_count": 45,
     "metadata": {},
     "output_type": "execute_result"
    }
   ],
   "source": [
    "# Clip Normal Under Sampling\n",
    "space = {}\n",
    "gnbrscnu = RandomizedSearchCV(estimator=gnb, param_distributions=space, n_iter=100, scoring='f1', cv=skf, n_jobs=5)\n",
    "gnbrscnu.fit(Xtrain_clip_normal_under, ytrain_clip_normal_under)\n",
    "\n",
    "gnbcnu_pred = gnbrscnu.best_estimator_.predict(Xtest_clip_normal)\n",
    "f1_score(y_true=ytest, y_pred=gnbcnu_pred)"
   ]
  },
  {
   "cell_type": "code",
   "execution_count": 110,
   "id": "93518efa-40bc-421f-93d7-801f87f0c4e3",
   "metadata": {},
   "outputs": [
    {
     "data": {
      "text/plain": [
       "0.3840744570837642"
      ]
     },
     "execution_count": 110,
     "metadata": {},
     "output_type": "execute_result"
    }
   ],
   "source": [
    "# Over PCA\n",
    "space = {}\n",
    "gnbrscnop = RandomizedSearchCV(estimator=gnb, param_distributions=space, n_iter=100, scoring='f1', cv=skf, n_jobs=5)\n",
    "gnbrscnop.fit(Xtrain_clip_normal_over_pca, ytrain_clip_normal_over)\n",
    "\n",
    "gnbcnop_pred = gnbrscnop.best_estimator_.predict(Xtest_clip_normal_pca)\n",
    "f1_score(y_true=ytest, y_pred=gnbcnop_pred)"
   ]
  },
  {
   "cell_type": "code",
   "execution_count": 46,
   "id": "63548339-950a-4b6a-b3bc-88ecf814dc78",
   "metadata": {},
   "outputs": [
    {
     "data": {
      "text/plain": [
       "0.37731653076352856"
      ]
     },
     "execution_count": 46,
     "metadata": {},
     "output_type": "execute_result"
    }
   ],
   "source": [
    "# Under PCA\n",
    "space = {}\n",
    "gnbrscnup = RandomizedSearchCV(estimator=gnb, param_distributions=space, n_iter=100, scoring='f1', cv=skf, n_jobs=5)\n",
    "gnbrscnup.fit(Xtrain_clip_normal_under_pca, ytrain_clip_normal_under)\n",
    "\n",
    "gnbcnup_pred = gnbrscnup.best_estimator_.predict(Xtest_clip_normal_pca)\n",
    "f1_score(y_true=ytest, y_pred=gnbcnup_pred)"
   ]
  },
  {
   "cell_type": "raw",
   "id": "c7867228-8942-4e77-b9f8-3ffcc9b2a7a5",
   "metadata": {},
   "source": []
  },
  {
   "cell_type": "code",
   "execution_count": null,
   "id": "fc3ba145-6bc9-4637-811e-933f0033cebd",
   "metadata": {},
   "outputs": [],
   "source": []
  },
  {
   "cell_type": "markdown",
   "id": "5853f7fd-203f-4e92-9c06-a857c7239db7",
   "metadata": {
    "jp-MarkdownHeadingCollapsed": true
   },
   "source": [
    "<h3>Train Log Clip Normal Data</h3>"
   ]
  },
  {
   "cell_type": "code",
   "execution_count": 47,
   "id": "c7cfad45-2dab-46ba-8408-92e36d8cdcbf",
   "metadata": {},
   "outputs": [],
   "source": [
    "gnb = GaussianNB()"
   ]
  },
  {
   "cell_type": "code",
   "execution_count": 48,
   "id": "70b6ea5a-a48b-4a3c-944b-8130fac59e2f",
   "metadata": {
    "scrolled": true
   },
   "outputs": [
    {
     "data": {
      "text/plain": [
       "0.25467241733415485"
      ]
     },
     "execution_count": 48,
     "metadata": {},
     "output_type": "execute_result"
    }
   ],
   "source": [
    "# Xtrain Clip Normal\n",
    "space = {}\n",
    "gnbrslcn = RandomizedSearchCV(estimator=gnb, param_distributions=space, n_iter=100, scoring='f1', cv=skf, n_jobs=5)\n",
    "gnbrslcn.fit(Xtrain_log_clip_normal, ytrain)\n",
    "\n",
    "gnblcn_pred = gnbrslcn.best_estimator_.predict(Xtest_log_clip_normal)\n",
    "f1_score(y_true=ytest, y_pred=gnblcn_pred)"
   ]
  },
  {
   "cell_type": "code",
   "execution_count": 49,
   "id": "69f4f559-36dc-474d-a400-c70996a8f550",
   "metadata": {
    "scrolled": true
   },
   "outputs": [
    {
     "data": {
      "text/plain": [
       "0.3787200933670492"
      ]
     },
     "execution_count": 49,
     "metadata": {},
     "output_type": "execute_result"
    }
   ],
   "source": [
    "# Clip Normal Over Samlping\n",
    "space = {}\n",
    "gnbrslcno = RandomizedSearchCV(estimator=gnb, param_distributions=space, n_iter=100, scoring='f1', cv=skf, n_jobs=5)\n",
    "gnbrslcno.fit(Xtrain_log_clip_normal_over, ytrain_log_clip_normal_over)\n",
    "\n",
    "gnblcno_pred = gnbrslcno.best_estimator_.predict(Xtest_log_clip_normal)\n",
    "f1_score(y_true=ytest, y_pred=gnblcno_pred)"
   ]
  },
  {
   "cell_type": "code",
   "execution_count": 50,
   "id": "39a093e7-11ec-45c2-b714-37419439c56a",
   "metadata": {
    "scrolled": true
   },
   "outputs": [
    {
     "data": {
      "text/plain": [
       "0.37777529844917995"
      ]
     },
     "execution_count": 50,
     "metadata": {},
     "output_type": "execute_result"
    }
   ],
   "source": [
    "# Clip Normal Under Sampling\n",
    "space = {}\n",
    "gnbrslcnu = RandomizedSearchCV(estimator=gnb, param_distributions=space, n_iter=100, scoring='f1', cv=skf, n_jobs=5)\n",
    "gnbrslcnu.fit(Xtrain_log_clip_normal_under, ytrain_log_clip_normal_under)\n",
    "\n",
    "gnblcnu_pred = gnbrslcnu.best_estimator_.predict(Xtest_log_clip_normal)\n",
    "f1_score(y_true=ytest, y_pred=gnblcnu_pred)"
   ]
  },
  {
   "cell_type": "code",
   "execution_count": 111,
   "id": "a073eb43-8467-4032-a046-3b0555f73cba",
   "metadata": {
    "scrolled": true
   },
   "outputs": [
    {
     "data": {
      "text/plain": [
       "0.38261552045521435"
      ]
     },
     "execution_count": 111,
     "metadata": {},
     "output_type": "execute_result"
    }
   ],
   "source": [
    "# Over PCA\n",
    "space = {}\n",
    "gnbrslcnop = RandomizedSearchCV(estimator=gnb, param_distributions=space, n_iter=100, scoring='f1', cv=skf, n_jobs=5)\n",
    "gnbrslcnop.fit(Xtrain_log_clip_normal_over_pca, ytrain_log_clip_normal_over)\n",
    "\n",
    "gnblcnop_pred = gnbrslcnop.best_estimator_.predict(Xtest_log_clip_normal_pca)\n",
    "f1_score(y_true=ytest, y_pred=gnblcnop_pred)"
   ]
  },
  {
   "cell_type": "code",
   "execution_count": 51,
   "id": "d6d7c201-937c-46ea-bd12-e4eaced5a6c6",
   "metadata": {
    "scrolled": true
   },
   "outputs": [
    {
     "data": {
      "text/plain": [
       "0.38564329099944783"
      ]
     },
     "execution_count": 51,
     "metadata": {},
     "output_type": "execute_result"
    }
   ],
   "source": [
    "# Under PCA\n",
    "space = {}\n",
    "gnbrslcnup = RandomizedSearchCV(estimator=gnb, param_distributions=space, n_iter=100, scoring='f1', cv=skf, n_jobs=5)\n",
    "gnbrslcnup.fit(Xtrain_log_clip_normal_under_pca, ytrain_log_clip_normal_under)\n",
    "\n",
    "gnblcnup_pred = gnbrslcnup.best_estimator_.predict(Xtest_log_clip_normal_pca)\n",
    "f1_score(y_true=ytest, y_pred=gnblcnup_pred)"
   ]
  },
  {
   "cell_type": "raw",
   "id": "493e41fd-d7e1-4ec0-ae96-2b1c2ea6731f",
   "metadata": {},
   "source": []
  },
  {
   "cell_type": "code",
   "execution_count": null,
   "id": "86db2f2c-291c-4f75-b758-6056f8dafd3f",
   "metadata": {},
   "outputs": [],
   "source": []
  },
  {
   "cell_type": "markdown",
   "id": "483ba113-de23-41fe-811f-ec8cf57afba3",
   "metadata": {},
   "source": [
    "<h1>KNN Classifier</h1>"
   ]
  },
  {
   "cell_type": "markdown",
   "id": "60b813c0-b2cb-4495-84bc-5a88f10f58e4",
   "metadata": {
    "jp-MarkdownHeadingCollapsed": true
   },
   "source": [
    "<h4 dir='rtl'>پارامترهای بهینه تمام مدل ها با استفاده از RandomizedSearchCV بدست آمده و با همان پارامترهای بهینه مدلسازی نهایی انجام شده است.</h4>"
   ]
  },
  {
   "cell_type": "markdown",
   "id": "0fd3cd85-12af-44ab-b70f-d3235de9b318",
   "metadata": {
    "jp-MarkdownHeadingCollapsed": true
   },
   "source": [
    "<h3>Train Data</h3>"
   ]
  },
  {
   "cell_type": "code",
   "execution_count": 52,
   "id": "c06be9eb-4717-4ffd-9c41-85d4a8a779a1",
   "metadata": {},
   "outputs": [],
   "source": [
    "knn = KNeighborsClassifier()"
   ]
  },
  {
   "cell_type": "code",
   "execution_count": 53,
   "id": "10f349b2-e851-4262-b783-d93452701ac2",
   "metadata": {},
   "outputs": [
    {
     "data": {
      "text/plain": [
       "0.22076171216717222"
      ]
     },
     "execution_count": 53,
     "metadata": {},
     "output_type": "execute_result"
    }
   ],
   "source": [
    "# Xtrain\n",
    "# space = {'n_neighbors' : range(1, 100), 'weights' : ['uniform','distance']}\n",
    "space = {'n_neighbors' : [1], 'weights' : ['distance']}\n",
    "knnrs = RandomizedSearchCV(estimator=knn, param_distributions=space, n_iter=100, scoring='f1', cv=skf, n_jobs=5)\n",
    "knnrs.fit(Xtrain, ytrain)\n",
    "# print(knnrs.best_score_)\n",
    "# print(knnrs.best_params_)\n",
    "\n",
    "knn_pred = knnrs.best_estimator_.predict(Xtest)\n",
    "f1_score(y_true=ytest, y_pred=knn_pred)"
   ]
  },
  {
   "cell_type": "code",
   "execution_count": 54,
   "id": "1bb7d868-5bc7-4837-a76d-4febc0bb9eaa",
   "metadata": {},
   "outputs": [
    {
     "data": {
      "text/plain": [
       "0.2580560305142707"
      ]
     },
     "execution_count": 54,
     "metadata": {},
     "output_type": "execute_result"
    }
   ],
   "source": [
    "# Over Sampling\n",
    "# space = {'n_neighbors' : range(1, 100), 'weights' : ['uniform','distance']}\n",
    "space = {'n_neighbors' : [1], 'weights' : ['uniform']}\n",
    "knnrso = RandomizedSearchCV(estimator=knn, param_distributions=space, n_iter=100, scoring='f1', cv=skf, n_jobs=5)\n",
    "knnrso.fit(Xtrain_over, ytrain_over)\n",
    "# print(knnrso.best_score_)\n",
    "# print(knnrso.best_params_)\n",
    "\n",
    "knno_pred = knnrso.best_estimator_.predict(Xtest)\n",
    "f1_score(y_true=ytest, y_pred=knno_pred)"
   ]
  },
  {
   "cell_type": "code",
   "execution_count": 55,
   "id": "467f3216-709b-41e6-9080-0f41615c4044",
   "metadata": {},
   "outputs": [
    {
     "data": {
      "text/plain": [
       "0.3267550319096711"
      ]
     },
     "execution_count": 55,
     "metadata": {},
     "output_type": "execute_result"
    }
   ],
   "source": [
    "# Under Sampling\n",
    "# space = {'n_neighbors' : range(1, 100), 'weights' : ['uniform','distance']}\n",
    "space = {'n_neighbors' : [27], 'weights' : ['uniform']}\n",
    "knnrsu = RandomizedSearchCV(estimator=knn, param_distributions=space, n_iter=100, scoring='f1', cv=skf, n_jobs=5)\n",
    "knnrsu.fit(Xtrain_under, ytrain_under)\n",
    "# print(knnrsu.best_score_)\n",
    "# print(knnrsu.best_params_)\n",
    "\n",
    "knnu_pred = knnrsu.best_estimator_.predict(Xtest)\n",
    "f1_score(y_true=ytest, y_pred=knnu_pred)"
   ]
  },
  {
   "cell_type": "code",
   "execution_count": 112,
   "id": "7bbbbf7b-b247-48de-830b-285f48fa2f7f",
   "metadata": {},
   "outputs": [
    {
     "data": {
      "text/plain": [
       "0.25643055005935894"
      ]
     },
     "execution_count": 112,
     "metadata": {},
     "output_type": "execute_result"
    }
   ],
   "source": [
    "# Over PCA\n",
    "# space = {'n_neighbors' : range(1, 100), 'weights' : ['uniform','distance']}\n",
    "space = {'n_neighbors' : [1], 'weights' : ['uniform']}\n",
    "knnrsop = RandomizedSearchCV(estimator=knn, param_distributions=space, n_iter=100, scoring='f1', cv=skf, n_jobs=5)\n",
    "knnrsop.fit(Xtrain_over_pca, ytrain_over)\n",
    "# print(knnrsop.best_score_)\n",
    "# print(knnrsop.best_params_)\n",
    "\n",
    "knnop_pred = knnrsop.best_estimator_.predict(Xtest_pca)\n",
    "f1_score(y_true=ytest, y_pred=knnop_pred)"
   ]
  },
  {
   "cell_type": "code",
   "execution_count": 58,
   "id": "2a990129-5814-47e2-9546-5792d498e8ab",
   "metadata": {},
   "outputs": [
    {
     "data": {
      "text/plain": [
       "0.2979394839428253"
      ]
     },
     "execution_count": 58,
     "metadata": {},
     "output_type": "execute_result"
    }
   ],
   "source": [
    "# Under PCA\n",
    "# space = {'n_neighbors' : range(1, 100), 'weights' : ['uniform','distance']}\n",
    "space = {'n_neighbors' : [1], 'weights' : ['uniform']}\n",
    "knnrsup = RandomizedSearchCV(estimator=knn, param_distributions=space, n_iter=100, scoring='f1', cv=skf, n_jobs=5)\n",
    "knnrsup.fit(Xtrain_under_pca, ytrain_under)\n",
    "# print(knnrsup.best_score_)\n",
    "# print(knnrsup.best_params_)\n",
    "\n",
    "knnup_pred = knnrsup.best_estimator_.predict(Xtest_pca)\n",
    "f1_score(y_true=ytest, y_pred=knnup_pred)"
   ]
  },
  {
   "cell_type": "code",
   "execution_count": null,
   "id": "7faa1bb1-b35f-4dfb-b624-d303efb8181d",
   "metadata": {},
   "outputs": [],
   "source": []
  },
  {
   "cell_type": "code",
   "execution_count": null,
   "id": "2dcd6ee2-f64b-41e3-bd2e-1b0b78e3f6c4",
   "metadata": {},
   "outputs": [],
   "source": []
  },
  {
   "cell_type": "markdown",
   "id": "7d261273-29d3-4192-a1aa-f0aec907f5c7",
   "metadata": {
    "jp-MarkdownHeadingCollapsed": true
   },
   "source": [
    "<h3>Train Normal Data</h3>"
   ]
  },
  {
   "cell_type": "code",
   "execution_count": 59,
   "id": "da255feb-d7a2-4b5c-9a6d-2b4dac8b42f1",
   "metadata": {},
   "outputs": [],
   "source": [
    "knn = KNeighborsClassifier()"
   ]
  },
  {
   "cell_type": "code",
   "execution_count": 60,
   "id": "3570b811-1160-4089-9d08-df92e8d36b5d",
   "metadata": {},
   "outputs": [
    {
     "data": {
      "text/plain": [
       "0.2491716368455931"
      ]
     },
     "execution_count": 60,
     "metadata": {},
     "output_type": "execute_result"
    }
   ],
   "source": [
    "# Xtrain Normal\n",
    "# space = {'n_neighbors' : range(1, 100), 'weights' : ['uniform','distance']}\n",
    "space = {'n_neighbors' : [1], 'weights' : ['uniform']}\n",
    "knnrsn = RandomizedSearchCV(estimator=knn, param_distributions=space, n_iter=100, scoring='f1', cv=skf, n_jobs=5)\n",
    "knnrsn.fit(Xtrain_normal, ytrain)\n",
    "# print(knnrsn.best_score_)\n",
    "# print(knnrsn.best_params_)\n",
    "\n",
    "knnn_pred = knnrsn.best_estimator_.predict(Xtest_normal)\n",
    "f1_score(y_true=ytest, y_pred=knnn_pred)"
   ]
  },
  {
   "cell_type": "code",
   "execution_count": 61,
   "id": "c595e314-f29f-4233-b4c1-434bbc363e97",
   "metadata": {},
   "outputs": [
    {
     "data": {
      "text/plain": [
       "0.2831688596491228"
      ]
     },
     "execution_count": 61,
     "metadata": {},
     "output_type": "execute_result"
    }
   ],
   "source": [
    "# Normal Over Sampling\n",
    "# space = {'n_neighbors' : range(1, 100), 'weights' : ['uniform','distance']}\n",
    "space = {'n_neighbors' : [1], 'weights' : ['uniform']}\n",
    "knnrsno = RandomizedSearchCV(estimator=knn, param_distributions=space, n_iter=100, scoring='f1', cv=skf, n_jobs=5)\n",
    "knnrsno.fit(Xtrain_normal_over, ytrain_normal_over)\n",
    "# print(knnrsno.best_score_)\n",
    "# print(knnrsno.best_params_)\n",
    "\n",
    "knnno_pred = knnrsno.best_estimator_.predict(Xtest_normal)\n",
    "f1_score(y_true=ytest, y_pred=knnno_pred)"
   ]
  },
  {
   "cell_type": "code",
   "execution_count": 62,
   "id": "c453c31e-e27a-478f-b16f-d3ccd8d65c90",
   "metadata": {},
   "outputs": [
    {
     "data": {
      "text/plain": [
       "0.37330892076085853"
      ]
     },
     "execution_count": 62,
     "metadata": {},
     "output_type": "execute_result"
    }
   ],
   "source": [
    "# Normal Under Sampling\n",
    "# space = {'n_neighbors' : range(1, 100), 'weights' : ['uniform','distance']}\n",
    "space = {'n_neighbors' : [60], 'weights' : ['distance']}\n",
    "knnrsnu = RandomizedSearchCV(estimator=knn, param_distributions=space, n_iter=100, scoring='f1', cv=skf, n_jobs=5)\n",
    "knnrsnu.fit(Xtrain_normal_under, ytrain_normal_under)\n",
    "# print(knnrsnu.best_score_)\n",
    "# print(knnrsnu.best_params_)\n",
    "\n",
    "knnnu_pred = knnrsnu.best_estimator_.predict(Xtest_normal)\n",
    "f1_score(y_true=ytest, y_pred=knnnu_pred)"
   ]
  },
  {
   "cell_type": "code",
   "execution_count": 113,
   "id": "ee630d29-eb12-4f80-9630-05aa2d175939",
   "metadata": {},
   "outputs": [
    {
     "data": {
      "text/plain": [
       "0.2854387656702025"
      ]
     },
     "execution_count": 113,
     "metadata": {},
     "output_type": "execute_result"
    }
   ],
   "source": [
    "# Over PCA\n",
    "# space = {'n_neighbors' : range(1, 100), 'weights' : ['uniform','distance']}\n",
    "space = {'n_neighbors' : [1], 'weights' : ['uniform']}\n",
    "knnrsnop = RandomizedSearchCV(estimator=knn, param_distributions=space, n_iter=100, scoring='f1', cv=skf, n_jobs=5)\n",
    "knnrsnop.fit(Xtrain_normal_over_pca, ytrain_normal_over)\n",
    "# print(knnrsnop.best_score_)\n",
    "# print(knnrsnop.best_params_)\n",
    "\n",
    "knnnop_pred = knnrsnop.best_estimator_.predict(Xtest_normal_pca)\n",
    "f1_score(y_true=ytest, y_pred=knnnop_pred)"
   ]
  },
  {
   "cell_type": "code",
   "execution_count": 64,
   "id": "39733ed1-8fe6-45e5-81f6-16478df82689",
   "metadata": {},
   "outputs": [
    {
     "data": {
      "text/plain": [
       "0.3183873398643557"
      ]
     },
     "execution_count": 64,
     "metadata": {},
     "output_type": "execute_result"
    }
   ],
   "source": [
    "# Under PCA\n",
    "# space = {'n_neighbors' : range(1, 100), 'weights' : ['uniform','distance']}\n",
    "space = {'n_neighbors' : [1], 'weights' : ['uniform']}\n",
    "knnrsnup = RandomizedSearchCV(estimator=knn, param_distributions=space, n_iter=100, scoring='f1', cv=skf, n_jobs=5)\n",
    "knnrsnup.fit(Xtrain_normal_under_pca, ytrain_normal_under)\n",
    "# print(knnrsnup.best_score_)\n",
    "# print(knnrsnup.best_params_)\n",
    "\n",
    "knnnup_pred = knnrsnup.best_estimator_.predict(Xtest_normal_pca)\n",
    "f1_score(y_true=ytest, y_pred=knnnup_pred)"
   ]
  },
  {
   "cell_type": "code",
   "execution_count": null,
   "id": "9f680ffe-9015-46f4-9d89-6a5a90804983",
   "metadata": {},
   "outputs": [],
   "source": []
  },
  {
   "cell_type": "code",
   "execution_count": null,
   "id": "f434afc5-0004-4132-b4de-d1d7828a15a2",
   "metadata": {},
   "outputs": [],
   "source": []
  },
  {
   "cell_type": "markdown",
   "id": "8d2cce7e-a05f-41d8-97af-05fcaa04b9f2",
   "metadata": {
    "jp-MarkdownHeadingCollapsed": true
   },
   "source": [
    "<h3>Train Log Normal Data</h3>"
   ]
  },
  {
   "cell_type": "code",
   "execution_count": 28,
   "id": "448a63ac-2860-45f9-99d7-77607b253070",
   "metadata": {},
   "outputs": [],
   "source": [
    "knn = KNeighborsClassifier()"
   ]
  },
  {
   "cell_type": "code",
   "execution_count": 66,
   "id": "377d2999-d775-413b-ae24-57e91b1f5390",
   "metadata": {
    "scrolled": true
   },
   "outputs": [
    {
     "data": {
      "text/plain": [
       "0.25164473684210525"
      ]
     },
     "execution_count": 66,
     "metadata": {},
     "output_type": "execute_result"
    }
   ],
   "source": [
    "# Xtrain Log Normal\n",
    "# space = {'n_neighbors' : range(1, 100), 'weights' : ['uniform','distance']}\n",
    "space = {'n_neighbors' : [1], 'weights' : ['uniform']}\n",
    "knnrsln = RandomizedSearchCV(estimator=knn, param_distributions=space, n_iter=100, scoring='f1', cv=skf, n_jobs=5)\n",
    "knnrsln.fit(Xtrain_log_normal, ytrain)\n",
    "# print(knnrsln.best_score_)\n",
    "# print(knnrsln.best_params_)\n",
    "\n",
    "knnln_pred = knnrsln.best_estimator_.predict(Xtest_log_normal)\n",
    "f1_score(y_true=ytest, y_pred=knnln_pred)"
   ]
  },
  {
   "cell_type": "code",
   "execution_count": 67,
   "id": "605663a1-3992-45f2-ace0-09c4c5850bf9",
   "metadata": {
    "scrolled": true
   },
   "outputs": [
    {
     "data": {
      "text/plain": [
       "0.2815639424382297"
      ]
     },
     "execution_count": 67,
     "metadata": {},
     "output_type": "execute_result"
    }
   ],
   "source": [
    "# Log Normal Over Sampling\n",
    "# space = {'n_neighbors' : range(1, 100), 'weights' : ['uniform','distance']}\n",
    "space = {'n_neighbors' : [1], 'weights' : ['uniform']}\n",
    "knnrslno = RandomizedSearchCV(estimator=knn, param_distributions=space, n_iter=100, scoring='f1', cv=skf, n_jobs=5)\n",
    "knnrslno.fit(Xtrain_log_normal_over, ytrain_log_normal_over)\n",
    "# print(knnrslno.best_score_)\n",
    "# print(knnrslno.best_params_)\n",
    "\n",
    "knnlno_pred = knnrslno.best_estimator_.predict(Xtest_log_normal)\n",
    "f1_score(y_true=ytest, y_pred=knnlno_pred)"
   ]
  },
  {
   "cell_type": "code",
   "execution_count": 56,
   "id": "a37d2c18-2e4d-432f-be22-4f0c8f7f4bb2",
   "metadata": {
    "scrolled": true
   },
   "outputs": [
    {
     "data": {
      "text/plain": [
       "0.37111479486116866"
      ]
     },
     "execution_count": 56,
     "metadata": {},
     "output_type": "execute_result"
    }
   ],
   "source": [
    "# Log Normal Under Sampling\n",
    "# space = {'n_neighbors' : range(1, 100), 'weights' : ['uniform','distance']}\n",
    "space = {'n_neighbors' : [46], 'weights' : ['distance']}\n",
    "knnrslnu = RandomizedSearchCV(estimator=knn, param_distributions=space, n_iter=100, scoring='f1', cv=skf, n_jobs=5)\n",
    "knnrslnu.fit(Xtrain_log_normal_under, ytrain_log_normal_under)\n",
    "# print(knnrslnu.best_score_)\n",
    "# print(knnrslnu.best_params_)\n",
    "\n",
    "knnlnu_pred = knnrslnu.best_estimator_.predict(Xtest_log_normal)\n",
    "f1_score(y_true=ytest, y_pred=knnlnu_pred)"
   ]
  },
  {
   "cell_type": "code",
   "execution_count": 114,
   "id": "c1cb828c-0d1a-45ed-93e5-0b5780344541",
   "metadata": {
    "scrolled": true
   },
   "outputs": [
    {
     "data": {
      "text/plain": [
       "0.2813522355507088"
      ]
     },
     "execution_count": 114,
     "metadata": {},
     "output_type": "execute_result"
    }
   ],
   "source": [
    "# Over PCA\n",
    "# space = {'n_neighbors' : range(1, 100), 'weights' : ['uniform','distance']}\n",
    "space = {'n_neighbors' : [1], 'weights' : ['uniform']}\n",
    "knnrslnop = RandomizedSearchCV(estimator=knn, param_distributions=space, n_iter=100, scoring='f1', cv=skf, n_jobs=5)\n",
    "knnrslnop.fit(Xtrain_log_normal_over_pca, ytrain_log_normal_over)\n",
    "# print(knnrslnop.best_score_)\n",
    "# print(knnrslnop.best_params_)\n",
    "\n",
    "knnlnop_pred = knnrslnop.best_estimator_.predict(Xtest_log_normal_pca)\n",
    "f1_score(y_true=ytest, y_pred=knnlnop_pred)"
   ]
  },
  {
   "cell_type": "code",
   "execution_count": 69,
   "id": "7deae998-b5ed-43ad-bdcc-56b7c0ecabda",
   "metadata": {
    "scrolled": true
   },
   "outputs": [
    {
     "data": {
      "text/plain": [
       "0.3252185355766519"
      ]
     },
     "execution_count": 69,
     "metadata": {},
     "output_type": "execute_result"
    }
   ],
   "source": [
    "# Under PCA\n",
    "# space = {'n_neighbors' : range(1, 100), 'weights' : ['uniform','distance']}\n",
    "space = {'n_neighbors' : [1], 'weights' : ['uniform']}\n",
    "knnrslnup = RandomizedSearchCV(estimator=knn, param_distributions=space, n_iter=100, scoring='f1', cv=skf, n_jobs=5)\n",
    "knnrslnup.fit(Xtrain_log_normal_under_pca, ytrain_log_normal_under)\n",
    "# print(knnrslnup.best_score_)\n",
    "# print(knnrslnup.best_params_)\n",
    "\n",
    "knnlnup_pred = knnrslnup.best_estimator_.predict(Xtest_log_normal_pca)\n",
    "f1_score(y_true=ytest, y_pred=knnlnup_pred)"
   ]
  },
  {
   "cell_type": "code",
   "execution_count": null,
   "id": "2e30ffdc-8615-43e2-a1b3-12bbf65ecd4a",
   "metadata": {},
   "outputs": [],
   "source": []
  },
  {
   "cell_type": "code",
   "execution_count": null,
   "id": "25fa9604-f93f-4ff9-8b2f-6c9280dd464b",
   "metadata": {},
   "outputs": [],
   "source": []
  },
  {
   "cell_type": "markdown",
   "id": "bcf253ca-d01c-4790-ac41-8debaf33510b",
   "metadata": {
    "jp-MarkdownHeadingCollapsed": true
   },
   "source": [
    "<h3>Train Clip Normal Data</h3>"
   ]
  },
  {
   "cell_type": "code",
   "execution_count": 70,
   "id": "4b0a69b7-18ae-4c8c-a588-1fa2568b6ea7",
   "metadata": {},
   "outputs": [],
   "source": [
    "knn = KNeighborsClassifier()"
   ]
  },
  {
   "cell_type": "code",
   "execution_count": 71,
   "id": "d6355724-bc6e-45dd-8a81-a46413bae47b",
   "metadata": {
    "scrolled": true
   },
   "outputs": [
    {
     "data": {
      "text/plain": [
       "0.2555427820660207"
      ]
     },
     "execution_count": 71,
     "metadata": {},
     "output_type": "execute_result"
    }
   ],
   "source": [
    "# Xtrain Clip Normal\n",
    "# space = {'n_neighbors' : range(1, 100), 'weights' : ['uniform','distance']}\n",
    "space = {'n_neighbors' : [1], 'weights' : ['uniform']}\n",
    "knnrscn = RandomizedSearchCV(estimator=knn, param_distributions=space, n_iter=100, scoring='f1', cv=skf, n_jobs=5)\n",
    "knnrscn.fit(Xtrain_clip_normal, ytrain)\n",
    "# print(knnrscn.best_score_)\n",
    "# print(knnrscn.best_params_)\n",
    "\n",
    "knncn_pred = knnrscn.best_estimator_.predict(Xtest_clip_normal)\n",
    "f1_score(y_true=ytest, y_pred=knncn_pred)"
   ]
  },
  {
   "cell_type": "code",
   "execution_count": 72,
   "id": "c85ee196-f247-4a6d-b7e4-330e1e2604ce",
   "metadata": {
    "scrolled": true
   },
   "outputs": [
    {
     "data": {
      "text/plain": [
       "0.28957580623578216"
      ]
     },
     "execution_count": 72,
     "metadata": {},
     "output_type": "execute_result"
    }
   ],
   "source": [
    "# Normal Clip Over Sampling\n",
    "# space = {'n_neighbors' : range(1, 100), 'weights' : ['uniform','distance']}\n",
    "space = {'n_neighbors' : [1], 'weights' : ['uniform']}\n",
    "knnrscno = RandomizedSearchCV(estimator=knn, param_distributions=space, n_iter=100, scoring='f1', cv=skf, n_jobs=5)\n",
    "knnrscno.fit(Xtrain_clip_normal_over, ytrain_clip_normal_over)\n",
    "# print(knnrscno.best_score_)\n",
    "# print(knnrscno.best_params_)\n",
    "\n",
    "knncno_pred = knnrscno.best_estimator_.predict(Xtest_clip_normal)\n",
    "f1_score(y_true=ytest, y_pred=knncno_pred)"
   ]
  },
  {
   "cell_type": "code",
   "execution_count": 73,
   "id": "8065e122-56a4-4d76-914b-9a9e53c426b2",
   "metadata": {
    "scrolled": true
   },
   "outputs": [
    {
     "data": {
      "text/plain": [
       "0.3797311271975181"
      ]
     },
     "execution_count": 73,
     "metadata": {},
     "output_type": "execute_result"
    }
   ],
   "source": [
    "# Normal Clip Under Sampling\n",
    "# space = {'n_neighbors' : range(1, 100), 'weights' : ['uniform','distance']}\n",
    "space = {'n_neighbors' : [53], 'weights' : ['distance']}\n",
    "knnrscnu = RandomizedSearchCV(estimator=knn, param_distributions=space, n_iter=100, scoring='f1', cv=skf, n_jobs=5)\n",
    "knnrscnu.fit(Xtrain_clip_normal_under, ytrain_clip_normal_under)\n",
    "# print(knnrscnu.best_score_)\n",
    "# print(knnrscnu.best_params_)\n",
    "\n",
    "knncnu_pred = knnrscnu.best_estimator_.predict(Xtest_clip_normal)\n",
    "f1_score(y_true=ytest, y_pred=knncnu_pred)"
   ]
  },
  {
   "cell_type": "code",
   "execution_count": 115,
   "id": "a0520934-3987-4a8e-898a-6d2d1e76461c",
   "metadata": {
    "scrolled": true
   },
   "outputs": [
    {
     "data": {
      "text/plain": [
       "0.2898046561412898"
      ]
     },
     "execution_count": 115,
     "metadata": {},
     "output_type": "execute_result"
    }
   ],
   "source": [
    "# Over PCA\n",
    "# space = {'n_neighbors' : range(1, 100), 'weights' : ['uniform','distance']}\n",
    "space = {'n_neighbors' : [1], 'weights' : ['uniform']}\n",
    "knnrscnop = RandomizedSearchCV(estimator=knn, param_distributions=space, n_iter=100, scoring='f1', cv=skf, n_jobs=5)\n",
    "knnrscnop.fit(Xtrain_clip_normal_over_pca, ytrain_clip_normal_over)\n",
    "# print(knnrscnop.best_score_)\n",
    "# print(knnrscnop.best_params_)\n",
    "\n",
    "knncnop_pred = knnrscnop.best_estimator_.predict(Xtest_clip_normal_pca)\n",
    "f1_score(y_true=ytest, y_pred=knncnop_pred)"
   ]
  },
  {
   "cell_type": "code",
   "execution_count": 74,
   "id": "133e7ea0-48b1-4a46-97ab-ac178d5a5c9d",
   "metadata": {
    "scrolled": true
   },
   "outputs": [
    {
     "data": {
      "text/plain": [
       "0.3174663379480372"
      ]
     },
     "execution_count": 74,
     "metadata": {},
     "output_type": "execute_result"
    }
   ],
   "source": [
    "# under PCA\n",
    "# space = {'n_neighbors' : range(1, 100), 'weights' : ['uniform','distance']}\n",
    "space = {'n_neighbors' : [1], 'weights' : ['uniform']}\n",
    "knnrscnup = RandomizedSearchCV(estimator=knn, param_distributions=space, n_iter=100, scoring='f1', cv=skf, n_jobs=5)\n",
    "knnrscnup.fit(Xtrain_clip_normal_under_pca, ytrain_clip_normal_under)\n",
    "# print(knnrscnup.best_score_)\n",
    "# print(knnrscnup.best_params_)\n",
    "\n",
    "knncnup_pred = knnrscnup.best_estimator_.predict(Xtest_clip_normal_pca)\n",
    "f1_score(y_true=ytest, y_pred=knncnup_pred)"
   ]
  },
  {
   "cell_type": "code",
   "execution_count": null,
   "id": "27498774-6eb9-4240-8f85-a168736f260c",
   "metadata": {},
   "outputs": [],
   "source": []
  },
  {
   "cell_type": "code",
   "execution_count": null,
   "id": "74e22e71-3944-4ade-aa4b-c2d8ebd4f4c7",
   "metadata": {},
   "outputs": [],
   "source": []
  },
  {
   "cell_type": "markdown",
   "id": "400d1105-880a-48d5-be3c-8c37db57c255",
   "metadata": {
    "jp-MarkdownHeadingCollapsed": true
   },
   "source": [
    "<h3>Train Log Clip Normal Data</h3>"
   ]
  },
  {
   "cell_type": "code",
   "execution_count": 75,
   "id": "706d1c6f-797f-4dcc-b568-b14c42fc864c",
   "metadata": {},
   "outputs": [],
   "source": [
    "knn = KNeighborsClassifier()"
   ]
  },
  {
   "cell_type": "code",
   "execution_count": 76,
   "id": "623e44d9-3414-406c-bdfc-540e279424a1",
   "metadata": {
    "scrolled": true
   },
   "outputs": [
    {
     "data": {
      "text/plain": [
       "0.2470762642068852"
      ]
     },
     "execution_count": 76,
     "metadata": {},
     "output_type": "execute_result"
    }
   ],
   "source": [
    "# Xtrain Log Clip Normal\n",
    "# space = {'n_neighbors' : range(1, 100), 'weights' : ['uniform','distance']}\n",
    "space = {'n_neighbors' : [1], 'weights' : ['uniform']}\n",
    "knnrslcn = RandomizedSearchCV(estimator=knn, param_distributions=space, n_iter=100, scoring='f1', cv=skf, n_jobs=5)\n",
    "knnrslcn.fit(Xtrain_log_clip_normal, ytrain)\n",
    "# print(knnrslcn.best_score_)\n",
    "# print(knnrslcn.best_params_)\n",
    "\n",
    "knnlcn_pred = knnrslcn.best_estimator_.predict(Xtest_log_clip_normal)\n",
    "f1_score(y_true=ytest, y_pred=knnlcn_pred)"
   ]
  },
  {
   "cell_type": "code",
   "execution_count": 77,
   "id": "e4c95754-ff26-40f9-9d62-0f06f4383e7f",
   "metadata": {
    "scrolled": true
   },
   "outputs": [
    {
     "data": {
      "text/plain": [
       "0.27422652310208534"
      ]
     },
     "execution_count": 77,
     "metadata": {},
     "output_type": "execute_result"
    }
   ],
   "source": [
    "# Normal Log Clip Over Sampling\n",
    "# space = {'n_neighbors' : range(1, 100), 'weights' : ['uniform','distance']}\n",
    "space = {'n_neighbors' : [1], 'weights' : ['uniform']}\n",
    "knnrslcno = RandomizedSearchCV(estimator=knn, param_distributions=space, n_iter=100, scoring='f1', cv=skf, n_jobs=5)\n",
    "knnrslcno.fit(Xtrain_log_clip_normal_over, ytrain_log_clip_normal_over)\n",
    "# print(knnrslcno.best_score_)\n",
    "# print(knnrslcno.best_params_)\n",
    "\n",
    "knnlcno_pred = knnrslcno.best_estimator_.predict(Xtest_log_clip_normal)\n",
    "f1_score(y_true=ytest, y_pred=knnlcno_pred)"
   ]
  },
  {
   "cell_type": "code",
   "execution_count": 78,
   "id": "a86946f6-955d-4867-89ae-b91181db6830",
   "metadata": {
    "scrolled": true
   },
   "outputs": [
    {
     "data": {
      "text/plain": [
       "0.37826131793338147"
      ]
     },
     "execution_count": 78,
     "metadata": {},
     "output_type": "execute_result"
    }
   ],
   "source": [
    "# Normal Log Clip Under Sampling\n",
    "# space = {'n_neighbors' : range(1, 100), 'weights' : ['uniform','distance']}\n",
    "space = {'n_neighbors' : [60], 'weights' : ['distance']}\n",
    "knnrslcnu = RandomizedSearchCV(estimator=knn, param_distributions=space, n_iter=100, scoring='f1', cv=skf, n_jobs=5)\n",
    "knnrslcnu.fit(Xtrain_log_clip_normal_under, ytrain_log_clip_normal_under)\n",
    "# print(knnrslcnu.best_score_)\n",
    "# print(knnrslcnu.best_params_)\n",
    "\n",
    "knnlcnu_pred = knnrslcnu.best_estimator_.predict(Xtest_log_clip_normal)\n",
    "f1_score(y_true=ytest, y_pred=knnlcnu_pred)"
   ]
  },
  {
   "cell_type": "code",
   "execution_count": 116,
   "id": "6f94e86b-ce4b-481a-b871-6f17e100a8bd",
   "metadata": {
    "scrolled": true
   },
   "outputs": [
    {
     "data": {
      "text/plain": [
       "0.27247807017543857"
      ]
     },
     "execution_count": 116,
     "metadata": {},
     "output_type": "execute_result"
    }
   ],
   "source": [
    "# Over PCA\n",
    "# space = {'n_neighbors' : range(1, 100), 'weights' : ['uniform','distance']}\n",
    "space = {'n_neighbors' : [1], 'weights' : ['uniform']}\n",
    "knnrslcnop = RandomizedSearchCV(estimator=knn, param_distributions=space, n_iter=100, scoring='f1', cv=skf, n_jobs=5)\n",
    "knnrslcnop.fit(Xtrain_log_clip_normal_over_pca, ytrain_log_clip_normal_over)\n",
    "# print(knnrslcnop.best_score_)\n",
    "# print(knnrslcnop.best_params_)\n",
    "\n",
    "knnlcnop_pred = knnrslcnop.best_estimator_.predict(Xtest_log_clip_normal_pca)\n",
    "f1_score(y_true=ytest, y_pred=knnlcnop_pred)"
   ]
  },
  {
   "cell_type": "code",
   "execution_count": 80,
   "id": "7052fd67-ca94-4f6f-9dba-005772bf983f",
   "metadata": {
    "scrolled": true
   },
   "outputs": [
    {
     "data": {
      "text/plain": [
       "0.3131237055168518"
      ]
     },
     "execution_count": 80,
     "metadata": {},
     "output_type": "execute_result"
    }
   ],
   "source": [
    "# Under PCA\n",
    "# space = {'n_neighbors' : range(1, 100), 'weights' : ['uniform','distance']}\n",
    "space = {'n_neighbors' : [1], 'weights' : ['uniform']}\n",
    "knnrslcnup = RandomizedSearchCV(estimator=knn, param_distributions=space, n_iter=100, scoring='f1', cv=skf, n_jobs=5)\n",
    "knnrslcnup.fit(Xtrain_log_clip_normal_under_pca, ytrain_log_clip_normal_under)\n",
    "# print(knnrslcnup.best_score_)\n",
    "# print(knnrslcnup.best_params_)\n",
    "\n",
    "knnlcnup_pred = knnrslcnup.best_estimator_.predict(Xtest_log_clip_normal_pca)\n",
    "f1_score(y_true=ytest, y_pred=knnlcnup_pred)"
   ]
  },
  {
   "cell_type": "code",
   "execution_count": null,
   "id": "cf4e17bf-7015-4416-bd13-90dbec5165af",
   "metadata": {},
   "outputs": [],
   "source": []
  },
  {
   "cell_type": "code",
   "execution_count": null,
   "id": "d0b09b35-1fef-4786-bc40-8167c1bd04d4",
   "metadata": {},
   "outputs": [],
   "source": []
  },
  {
   "cell_type": "markdown",
   "id": "0864f07b-a683-4740-b20d-f86e97fd2be2",
   "metadata": {},
   "source": [
    "<h1>Decision Tree Classifier</h1>"
   ]
  },
  {
   "cell_type": "markdown",
   "id": "f1d2d037-2a48-4d01-a50a-4b922ded31a7",
   "metadata": {
    "jp-MarkdownHeadingCollapsed": true
   },
   "source": [
    "<h4 dir='rtl'>پارامترهای بهینه تمام مدل ها با استفاده از RandomizedSearchCV بدست آمده و با همان پارامترهای بهینه مدلسازی نهایی انجام شده است.</h4>"
   ]
  },
  {
   "cell_type": "markdown",
   "id": "7167795d-613a-4f9e-9880-b30c26e24821",
   "metadata": {
    "jp-MarkdownHeadingCollapsed": true
   },
   "source": [
    "<h3>Train Data</h3>"
   ]
  },
  {
   "cell_type": "code",
   "execution_count": 81,
   "id": "d7ce9a5c-6fef-4bd9-a5e5-c2639f6bcfd0",
   "metadata": {},
   "outputs": [],
   "source": [
    "dtc = DecisionTreeClassifier()"
   ]
  },
  {
   "cell_type": "code",
   "execution_count": 82,
   "id": "0ad8c6e6-91ba-481f-b80b-ae3bf877840d",
   "metadata": {
    "scrolled": true
   },
   "outputs": [
    {
     "data": {
      "text/plain": [
       "0.242974928487296"
      ]
     },
     "execution_count": 82,
     "metadata": {},
     "output_type": "execute_result"
    }
   ],
   "source": [
    "# Xtrain\n",
    "# space = {'max_depth': [100, 120, 150],'min_samples_leaf': [2, 5, 10],'criterion': ['gini', 'entropy']}\n",
    "space = {'max_depth': [120],'min_samples_leaf': [5],'criterion': ['entropy']}\n",
    "dtcrs = RandomizedSearchCV(estimator=dtc, param_distributions=space, n_iter=100, scoring='f1', cv=skf, n_jobs=5)\n",
    "dtcrs.fit(Xtrain, ytrain)\n",
    "# print(dtcrs.best_score_)\n",
    "# print(dtcrs.best_params_)\n",
    "\n",
    "dtc_pred = dtcrs.best_estimator_.predict(Xtest)\n",
    "f1_score(y_true=ytest, y_pred=dtc_pred)"
   ]
  },
  {
   "cell_type": "code",
   "execution_count": 83,
   "id": "54eca1f6-2933-4e8d-bc73-5153195fe0b4",
   "metadata": {
    "scrolled": true
   },
   "outputs": [
    {
     "data": {
      "text/plain": [
       "0.21614173228346456"
      ]
     },
     "execution_count": 83,
     "metadata": {},
     "output_type": "execute_result"
    }
   ],
   "source": [
    "# Over Sampling\n",
    "# space = {'max_depth': range(1, 101, 10),'min_samples_leaf': range(1, 101, 10),'criterion': ['gini', 'entropy']}\n",
    "space = {'max_depth': [81],'min_samples_leaf': [21],'criterion': ['gini']}\n",
    "dtcrso = RandomizedSearchCV(estimator=dtc, param_distributions=space, n_iter=200, scoring='f1', cv=skf, n_jobs=5)\n",
    "dtcrso.fit(Xtrain_over, ytrain_over)\n",
    "# print(dtcrso.best_score_)\n",
    "# print(dtcrso.best_params_)\n",
    "\n",
    "dtco_pred = dtcrso.best_estimator_.predict(Xtest)\n",
    "f1_score(y_true=ytest, y_pred=dtco_pred)"
   ]
  },
  {
   "cell_type": "code",
   "execution_count": 84,
   "id": "320396a4-61f8-4064-9cc8-044f95ca7426",
   "metadata": {
    "scrolled": true
   },
   "outputs": [
    {
     "data": {
      "text/plain": [
       "0.37647618292779583"
      ]
     },
     "execution_count": 84,
     "metadata": {},
     "output_type": "execute_result"
    }
   ],
   "source": [
    "# Under Sampling\n",
    "# space = {'max_depth': range(1, 20),'min_samples_leaf': range(1, 20),'criterion': ['gini', 'entropy']}\n",
    "space = {'max_depth': [3],'min_samples_leaf': [1],'criterion': ['gini']}\n",
    "dtcrsu = RandomizedSearchCV(estimator=dtc, param_distributions=space, n_iter=200, scoring='f1', cv=skf, n_jobs=5)\n",
    "dtcrsu.fit(Xtrain_under, ytrain_under)\n",
    "# print(dtcrsu.best_score_)\n",
    "# print(dtcrsu.best_params_)\n",
    "\n",
    "dtcu_pred = dtcrsu.best_estimator_.predict(Xtest)\n",
    "f1_score(y_true=ytest, y_pred=dtcu_pred)"
   ]
  },
  {
   "cell_type": "code",
   "execution_count": 117,
   "id": "0be897b9-6e02-4af2-bc00-1bf8fbcd3d81",
   "metadata": {
    "scrolled": true
   },
   "outputs": [
    {
     "data": {
      "text/plain": [
       "0.2634599617381798"
      ]
     },
     "execution_count": 117,
     "metadata": {},
     "output_type": "execute_result"
    }
   ],
   "source": [
    "# Over PCA\n",
    "# space = {'max_depth': range(1, 10),'min_samples_leaf': range(1, 10),'criterion': ['gini', 'entropy']}\n",
    "space = {'max_depth': [3],'min_samples_leaf': [4],'criterion': ['entropy']}\n",
    "dtcrsop = RandomizedSearchCV(estimator=dtc, param_distributions=space, n_iter=200, scoring='f1', cv=skf, n_jobs=5)\n",
    "dtcrsop.fit(Xtrain_over_pca, ytrain_over)\n",
    "# print(dtcrsop.best_score_)\n",
    "# print(dtcrsop.best_params_)\n",
    "\n",
    "dtcop_pred = dtcrsop.best_estimator_.predict(Xtest_pca)\n",
    "f1_score(y_true=ytest, y_pred=dtcop_pred)"
   ]
  },
  {
   "cell_type": "code",
   "execution_count": 85,
   "id": "e4034416-ad35-4fb2-99a0-9041d41a1ce2",
   "metadata": {
    "scrolled": true
   },
   "outputs": [
    {
     "data": {
      "text/plain": [
       "0.3859416445623342"
      ]
     },
     "execution_count": 85,
     "metadata": {},
     "output_type": "execute_result"
    }
   ],
   "source": [
    "# Under PCA\n",
    "# space = {'max_depth': range(1, 10),'min_samples_leaf': range(1, 10),'criterion': ['gini', 'entropy']}\n",
    "space = {'max_depth': [7],'min_samples_leaf': [6],'criterion': ['entropy']}\n",
    "dtcrsup = RandomizedSearchCV(estimator=dtc, param_distributions=space, n_iter=200, scoring='f1', cv=skf, n_jobs=5)\n",
    "dtcrsup.fit(Xtrain_under_pca, ytrain_under)\n",
    "# print(dtcrsup.best_score_)\n",
    "# print(dtcrsup.best_params_)\n",
    "\n",
    "dtcup_pred = dtcrsup.best_estimator_.predict(Xtest_pca)\n",
    "f1_score(y_true=ytest, y_pred=dtcup_pred)"
   ]
  },
  {
   "cell_type": "code",
   "execution_count": null,
   "id": "ce6e5db1-0f1c-4bc5-a37b-83ac30f5ca32",
   "metadata": {},
   "outputs": [],
   "source": []
  },
  {
   "cell_type": "code",
   "execution_count": null,
   "id": "57a007cb-1bff-46fc-b8b3-67738644122c",
   "metadata": {},
   "outputs": [],
   "source": []
  },
  {
   "cell_type": "markdown",
   "id": "af69a2e3-52e0-4c2a-8167-778e06664941",
   "metadata": {
    "jp-MarkdownHeadingCollapsed": true
   },
   "source": [
    "<h3>Train Normal Data</h3>"
   ]
  },
  {
   "cell_type": "code",
   "execution_count": 86,
   "id": "574a3a5e-9a00-4c97-add6-e6268be11202",
   "metadata": {},
   "outputs": [],
   "source": [
    "dtc = DecisionTreeClassifier()"
   ]
  },
  {
   "cell_type": "code",
   "execution_count": 87,
   "id": "3d708b51-d64b-45b7-a915-909df5686620",
   "metadata": {
    "scrolled": true
   },
   "outputs": [
    {
     "data": {
      "text/plain": [
       "0.24907438572871088"
      ]
     },
     "execution_count": 87,
     "metadata": {},
     "output_type": "execute_result"
    }
   ],
   "source": [
    "# Xtrain Normal\n",
    "# space = {'max_depth': [100, 120, 150],'min_samples_leaf': [2, 5, 10],'criterion': ['gini', 'entropy']}\n",
    "space = {'max_depth': [120],'min_samples_leaf': [5],'criterion': ['entropy']}\n",
    "dtcrsn = RandomizedSearchCV(estimator=dtc, param_distributions=space, n_iter=100, scoring='f1', cv=skf, n_jobs=5)\n",
    "dtcrsn.fit(Xtrain_normal, ytrain)\n",
    "# print(dtcrsn.best_score_)\n",
    "# print(dtcrsn.best_params_)\n",
    "\n",
    "dtcn_pred = dtcrsn.best_estimator_.predict(Xtest_normal)\n",
    "f1_score(y_true=ytest, y_pred=dtcn_pred)"
   ]
  },
  {
   "cell_type": "code",
   "execution_count": 88,
   "id": "3ba194cf-b2e9-4227-afba-1eea397db706",
   "metadata": {
    "scrolled": true
   },
   "outputs": [
    {
     "data": {
      "text/plain": [
       "0.26593045814057603"
      ]
     },
     "execution_count": 88,
     "metadata": {},
     "output_type": "execute_result"
    }
   ],
   "source": [
    "# Normal Over Sampling\n",
    "# space = {'max_depth': range(1, 101, 10),'min_samples_leaf': range(1, 101, 10),'criterion': ['gini', 'entropy']}\n",
    "space = {'max_depth': [81],'min_samples_leaf': [1],'criterion': ['entropy']}\n",
    "dtcrsno = RandomizedSearchCV(estimator=dtc, param_distributions=space, n_iter=200, scoring='f1', cv=skf, n_jobs=5)\n",
    "dtcrsno.fit(Xtrain_normal_over, ytrain_normal_over)\n",
    "# print(dtcrsno.best_score_)\n",
    "# print(dtcrsno.best_params_)\n",
    "\n",
    "dtcno_pred = dtcrsno.best_estimator_.predict(Xtest_normal)\n",
    "f1_score(y_true=ytest, y_pred=dtcno_pred)"
   ]
  },
  {
   "cell_type": "code",
   "execution_count": 89,
   "id": "dc362f3f-758c-45a8-b115-d99b534e8c85",
   "metadata": {
    "scrolled": true
   },
   "outputs": [
    {
     "data": {
      "text/plain": [
       "0.37647618292779583"
      ]
     },
     "execution_count": 89,
     "metadata": {},
     "output_type": "execute_result"
    }
   ],
   "source": [
    "# Normal Under Sampling\n",
    "# space = {'max_depth': range(1, 20),'min_samples_leaf': range(1, 20),'criterion': ['gini', 'entropy']}\n",
    "space = {'max_depth': [3],'min_samples_leaf': [1],'criterion': ['gini']}\n",
    "dtcrsnu = RandomizedSearchCV(estimator=dtc, param_distributions=space, n_iter=200, scoring='f1', cv=skf, n_jobs=5)\n",
    "dtcrsnu.fit(Xtrain_normal_under, ytrain_normal_under)\n",
    "# print(dtcrsnu.best_score_)\n",
    "# print(dtcrsnu.best_params_)\n",
    "\n",
    "dtcnu_pred = dtcrsnu.best_estimator_.predict(Xtest_normal)\n",
    "f1_score(y_true=ytest, y_pred=dtcnu_pred)"
   ]
  },
  {
   "cell_type": "code",
   "execution_count": 118,
   "id": "d4971fd8-f3b8-48d1-8430-c98b90f19b4c",
   "metadata": {
    "scrolled": true
   },
   "outputs": [
    {
     "data": {
      "text/plain": [
       "0.333180638265384"
      ]
     },
     "execution_count": 118,
     "metadata": {},
     "output_type": "execute_result"
    }
   ],
   "source": [
    "# Over PCA\n",
    "# space = {'max_depth': range(1, 11),'min_samples_leaf': range(1, 10),'criterion': ['gini', 'entropy']}\n",
    "space = {'max_depth': [6],'min_samples_leaf': [3],'criterion': ['gini']}\n",
    "dtcrsnop = RandomizedSearchCV(estimator=dtc, param_distributions=space, n_iter=200, scoring='f1', cv=skf, n_jobs=5)\n",
    "dtcrsnop.fit(Xtrain_normal_over_pca, ytrain_normal_over)\n",
    "# print(dtcrsnop.best_score_)\n",
    "# print(dtcrsnop.best_params_)\n",
    "\n",
    "dtcnop_pred = dtcrsnop.best_estimator_.predict(Xtest_normal_pca)\n",
    "f1_score(y_true=ytest, y_pred=dtcnop_pred)"
   ]
  },
  {
   "cell_type": "code",
   "execution_count": 90,
   "id": "4ad61131-06e4-452b-a30e-19a87de283a0",
   "metadata": {
    "scrolled": true
   },
   "outputs": [
    {
     "data": {
      "text/plain": [
       "0.3780403057678944"
      ]
     },
     "execution_count": 90,
     "metadata": {},
     "output_type": "execute_result"
    }
   ],
   "source": [
    "# Under PCA\n",
    "# space = {'max_depth': range(1, 11),'min_samples_leaf': range(1, 10),'criterion': ['gini', 'entropy']}\n",
    "space = {'max_depth': [6],'min_samples_leaf': [3],'criterion': ['gini']}\n",
    "dtcrsnup = RandomizedSearchCV(estimator=dtc, param_distributions=space, n_iter=200, scoring='f1', cv=skf, n_jobs=5)\n",
    "dtcrsnup.fit(Xtrain_normal_under_pca, ytrain_normal_under)\n",
    "# print(dtcrsnup.best_score_)\n",
    "# print(dtcrsnup.best_params_)\n",
    "\n",
    "dtcnup_pred = dtcrsnup.best_estimator_.predict(Xtest_normal_pca)\n",
    "f1_score(y_true=ytest, y_pred=dtcnup_pred)"
   ]
  },
  {
   "cell_type": "code",
   "execution_count": null,
   "id": "a852d3dc-50dd-4c48-8662-cf9e703585dc",
   "metadata": {},
   "outputs": [],
   "source": []
  },
  {
   "cell_type": "code",
   "execution_count": null,
   "id": "3c9560a5-4bf2-4e40-b3fa-d360bdcffea3",
   "metadata": {},
   "outputs": [],
   "source": []
  },
  {
   "cell_type": "markdown",
   "id": "353216b9-6e06-452b-985a-4e0bcbeb4c53",
   "metadata": {
    "jp-MarkdownHeadingCollapsed": true
   },
   "source": [
    "<h3>Train Log Normal Data</h3>"
   ]
  },
  {
   "cell_type": "code",
   "execution_count": 91,
   "id": "01d1f9de-1aaf-4683-a7b2-3c1392ea8b5e",
   "metadata": {},
   "outputs": [],
   "source": [
    "dtc = DecisionTreeClassifier()"
   ]
  },
  {
   "cell_type": "code",
   "execution_count": 92,
   "id": "4cc4caec-9b89-4ba9-8385-b134b1ed0673",
   "metadata": {
    "scrolled": true
   },
   "outputs": [
    {
     "data": {
      "text/plain": [
       "0.2444032991078943"
      ]
     },
     "execution_count": 92,
     "metadata": {},
     "output_type": "execute_result"
    }
   ],
   "source": [
    "# Xtrain Log Normal\n",
    "# space = {'max_depth': [40, 20, 60],'min_samples_leaf': [2, 5, 10],'criterion': ['gini', 'entropy']}\n",
    "space = {'max_depth': [40],'min_samples_leaf': [5],'criterion': ['entropy']}\n",
    "dtcrsln = RandomizedSearchCV(estimator=dtc, param_distributions=space, n_iter=100, scoring='f1', cv=skf, n_jobs=5)\n",
    "dtcrsln.fit(Xtrain_log_normal, ytrain)\n",
    "# print(dtcrsln.best_score_)\n",
    "# print(dtcrsln.best_params_)\n",
    "\n",
    "dtcln_pred = dtcrsln.best_estimator_.predict(Xtest_log_normal)\n",
    "f1_score(y_true=ytest, y_pred=dtcln_pred)"
   ]
  },
  {
   "cell_type": "code",
   "execution_count": 93,
   "id": "62f9be68-47f9-486d-805c-ab94e6c131a2",
   "metadata": {
    "scrolled": true
   },
   "outputs": [
    {
     "data": {
      "text/plain": [
       "0.2647895761569567"
      ]
     },
     "execution_count": 93,
     "metadata": {},
     "output_type": "execute_result"
    }
   ],
   "source": [
    "# Log Normal Over Sampling\n",
    "# space = {'max_depth': range(1, 101, 10),'min_samples_leaf': range(1, 101, 10),'criterion': ['gini', 'entropy']}\n",
    "space = {'max_depth': [41],'min_samples_leaf': [1],'criterion': ['gini']}\n",
    "dtcrslno = RandomizedSearchCV(estimator=dtc, param_distributions=space, n_iter=100, scoring='f1', cv=skf, n_jobs=5)\n",
    "dtcrslno.fit(Xtrain_log_normal_over, ytrain_log_normal_over)\n",
    "# print(dtcrslno.best_score_)\n",
    "# print(dtcrslno.best_params_)\n",
    "\n",
    "dtclno_pred = dtcrslno.best_estimator_.predict(Xtest_log_normal)\n",
    "f1_score(y_true=ytest, y_pred=dtclno_pred)"
   ]
  },
  {
   "cell_type": "code",
   "execution_count": 94,
   "id": "cbbaf946-9ab4-4fd4-8adb-61b0bc7bbbbd",
   "metadata": {
    "scrolled": true
   },
   "outputs": [
    {
     "data": {
      "text/plain": [
       "0.37491277041172366"
      ]
     },
     "execution_count": 94,
     "metadata": {},
     "output_type": "execute_result"
    }
   ],
   "source": [
    "# Log Normal Under Sampling\n",
    "# space = {'max_depth': range(1, 20),'min_samples_leaf': range(1, 20),'criterion': ['gini', 'entropy']}\n",
    "space = {'max_depth': [1],'min_samples_leaf': [1],'criterion': ['gini']}\n",
    "dtcrslnu = RandomizedSearchCV(estimator=dtc, param_distributions=space, n_iter=100, scoring='f1', cv=skf, n_jobs=5)\n",
    "dtcrslnu.fit(Xtrain_log_normal_under, ytrain_log_normal_under)\n",
    "# print(dtcrslnu.best_score_)\n",
    "# print(dtcrslnu.best_params_)\n",
    "\n",
    "dtclnu_pred = dtcrslnu.best_estimator_.predict(Xtest_log_normal)\n",
    "f1_score(y_true=ytest, y_pred=dtclnu_pred)"
   ]
  },
  {
   "cell_type": "code",
   "execution_count": 119,
   "id": "dc7a6724-73f4-4dc9-8ddc-7994e6ed5905",
   "metadata": {
    "scrolled": true
   },
   "outputs": [
    {
     "data": {
      "text/plain": [
       "0.2644661776691117"
      ]
     },
     "execution_count": 119,
     "metadata": {},
     "output_type": "execute_result"
    }
   ],
   "source": [
    "# Log Normal Over PCA\n",
    "# space = {'max_depth': range(1, 11),'min_samples_leaf': range(1, 10),'criterion': ['gini', 'entropy']}\n",
    "space = {'max_depth': [7],'min_samples_leaf': [6],'criterion': ['gini']}\n",
    "dtcrslnop = RandomizedSearchCV(estimator=dtc, param_distributions=space, n_iter=200, scoring='f1', cv=skf, n_jobs=5)\n",
    "dtcrslnop.fit(Xtrain_log_normal_over_pca, ytrain_log_normal_over)\n",
    "# print(dtcrslnop.best_score_)\n",
    "# print(dtcrslnop.best_params_)\n",
    "\n",
    "dtclnop_pred = dtcrslnop.best_estimator_.predict(Xtest_log_normal_pca)\n",
    "f1_score(y_true=ytest, y_pred=dtclnop_pred)"
   ]
  },
  {
   "cell_type": "code",
   "execution_count": 95,
   "id": "cc277553-95a6-468f-8b32-54b7d0d2aebc",
   "metadata": {
    "scrolled": true
   },
   "outputs": [
    {
     "data": {
      "text/plain": [
       "0.37215477996965096"
      ]
     },
     "execution_count": 95,
     "metadata": {},
     "output_type": "execute_result"
    }
   ],
   "source": [
    "# Under PCA\n",
    "# space = {'max_depth': range(1, 11),'min_samples_leaf': range(1, 10),'criterion': ['gini', 'entropy']}\n",
    "space = {'max_depth': [7],'min_samples_leaf': [6],'criterion': ['gini']}\n",
    "dtcrslnup = RandomizedSearchCV(estimator=dtc, param_distributions=space, n_iter=200, scoring='f1', cv=skf, n_jobs=5)\n",
    "dtcrslnup.fit(Xtrain_log_normal_under_pca, ytrain_log_normal_under)\n",
    "# print(dtcrslnup.best_score_)\n",
    "# print(dtcrslnup.best_params_)\n",
    "\n",
    "dtclnup_pred = dtcrslnup.best_estimator_.predict(Xtest_log_normal_pca)\n",
    "f1_score(y_true=ytest, y_pred=dtclnup_pred)"
   ]
  },
  {
   "cell_type": "code",
   "execution_count": null,
   "id": "efcd3c89-a4de-4fc5-8f5a-e47fd9bbf1e7",
   "metadata": {},
   "outputs": [],
   "source": []
  },
  {
   "cell_type": "code",
   "execution_count": null,
   "id": "46ed0bf8-3c35-4d02-a8f4-b923c2560e60",
   "metadata": {},
   "outputs": [],
   "source": []
  },
  {
   "cell_type": "markdown",
   "id": "05af70a7-54ef-43a3-ba50-aebd45f25eb5",
   "metadata": {
    "jp-MarkdownHeadingCollapsed": true
   },
   "source": [
    "<h3>Train Clip Normal Data</h3>"
   ]
  },
  {
   "cell_type": "code",
   "execution_count": 96,
   "id": "db2d9fde-1ece-4802-acee-4dbe4ebe1bf5",
   "metadata": {},
   "outputs": [],
   "source": [
    "dtc = DecisionTreeClassifier()"
   ]
  },
  {
   "cell_type": "code",
   "execution_count": 97,
   "id": "14faba33-9a53-4111-b077-2a56c36942a1",
   "metadata": {
    "scrolled": true
   },
   "outputs": [
    {
     "data": {
      "text/plain": [
       "0.26433761014067086"
      ]
     },
     "execution_count": 97,
     "metadata": {},
     "output_type": "execute_result"
    }
   ],
   "source": [
    "# Xtrain Clip Normal\n",
    "# space = {'max_depth': [20,40,60,80,100],'min_samples_leaf': [1, 2, 5, 10],'criterion': ['gini', 'entropy']}\n",
    "space = {'max_depth': [60],'min_samples_leaf': [1],'criterion': ['gini']}\n",
    "dtcrscn = RandomizedSearchCV(estimator=dtc, param_distributions=space, n_iter=100, scoring='f1', cv=skf, n_jobs=5)\n",
    "dtcrscn.fit(Xtrain_clip_normal, ytrain)\n",
    "# print(dtcrscn.best_score_)\n",
    "# print(dtcrscn.best_params_)\n",
    "\n",
    "dtccn_pred = dtcrscn.best_estimator_.predict(Xtest_clip_normal)\n",
    "f1_score(y_true=ytest, y_pred=dtccn_pred)"
   ]
  },
  {
   "cell_type": "code",
   "execution_count": 98,
   "id": "1545570b-3171-40be-b27e-05b9e9ae252a",
   "metadata": {
    "scrolled": true
   },
   "outputs": [
    {
     "data": {
      "text/plain": [
       "0.2816778327993009"
      ]
     },
     "execution_count": 98,
     "metadata": {},
     "output_type": "execute_result"
    }
   ],
   "source": [
    "# Clip Normal Over Sampling\n",
    "# space = {'max_depth': range(80, 101, 1),'min_samples_leaf': range(1, 101, 10),'criterion': ['gini', 'entropy']}\n",
    "space = {'max_depth': [89],'min_samples_leaf': [1],'criterion': ['gini']}\n",
    "dtcrscno = RandomizedSearchCV(estimator=dtc, param_distributions=space, n_iter=1000, scoring='f1', cv=skf, n_jobs=5)\n",
    "dtcrscno.fit(Xtrain_clip_normal_over, ytrain_clip_normal_over)\n",
    "# print(dtcrscno.best_score_)\n",
    "# print(dtcrscno.best_params_)\n",
    "\n",
    "dtccno_pred = dtcrscno.best_estimator_.predict(Xtest_clip_normal)\n",
    "f1_score(y_true=ytest, y_pred=dtccno_pred)"
   ]
  },
  {
   "cell_type": "code",
   "execution_count": 99,
   "id": "2d47eeff-748d-4d3c-beed-e42843ac356a",
   "metadata": {
    "scrolled": true
   },
   "outputs": [
    {
     "data": {
      "text/plain": [
       "0.37647618292779583"
      ]
     },
     "execution_count": 99,
     "metadata": {},
     "output_type": "execute_result"
    }
   ],
   "source": [
    "# Clip Normal Under Sampling\n",
    "# space = {'max_depth': range(1, 20),'min_samples_leaf': range(1, 20),'criterion': ['gini', 'entropy']}\n",
    "space = {'max_depth': [3],'min_samples_leaf': [1],'criterion': ['gini']}\n",
    "dtcrscnu = RandomizedSearchCV(estimator=dtc, param_distributions=space, n_iter=100, scoring='f1', cv=skf, n_jobs=5)\n",
    "dtcrscnu.fit(Xtrain_clip_normal_under, ytrain_clip_normal_under)\n",
    "# print(dtcrscnu.best_score_)\n",
    "# print(dtcrscnu.best_params_)\n",
    "\n",
    "dtccnu_pred = dtcrscnu.best_estimator_.predict(Xtest_clip_normal)\n",
    "f1_score(y_true=ytest, y_pred=dtccnu_pred)"
   ]
  },
  {
   "cell_type": "code",
   "execution_count": 120,
   "id": "7c3aa916-ad8f-478f-aa6c-55a9df5b6dc2",
   "metadata": {
    "scrolled": true
   },
   "outputs": [
    {
     "data": {
      "text/plain": [
       "0.3338704479535933"
      ]
     },
     "execution_count": 120,
     "metadata": {},
     "output_type": "execute_result"
    }
   ],
   "source": [
    "# Clip Normal Over PCA\n",
    "# space = {'max_depth': range(1, 11),'min_samples_leaf': range(1, 10),'criterion': ['gini', 'entropy']}\n",
    "space = {'max_depth': [7],'min_samples_leaf': [6],'criterion': ['entropy']}\n",
    "dtcrscnop = RandomizedSearchCV(estimator=dtc, param_distributions=space, n_iter=200, scoring='f1', cv=skf, n_jobs=5)\n",
    "dtcrscnop.fit(Xtrain_clip_normal_over_pca, ytrain_clip_normal_over)\n",
    "# print(dtcrscnop.best_score_)\n",
    "# print(dtcrscnop.best_params_)\n",
    "\n",
    "dtccnop_pred = dtcrscnop.best_estimator_.predict(Xtest_clip_normal_pca)\n",
    "f1_score(y_true=ytest, y_pred=dtccnop_pred)"
   ]
  },
  {
   "cell_type": "code",
   "execution_count": 100,
   "id": "eb9b0d89-9f9e-4feb-b1d0-d6eab9780181",
   "metadata": {
    "scrolled": true
   },
   "outputs": [
    {
     "data": {
      "text/plain": [
       "0.3816037268312023"
      ]
     },
     "execution_count": 100,
     "metadata": {},
     "output_type": "execute_result"
    }
   ],
   "source": [
    "# Under PCA\n",
    "# space = {'max_depth': range(1, 11),'min_samples_leaf': range(1, 10),'criterion': ['gini', 'entropy']}\n",
    "space = {'max_depth': [7],'min_samples_leaf': [6],'criterion': ['entropy']}\n",
    "dtcrscnup = RandomizedSearchCV(estimator=dtc, param_distributions=space, n_iter=200, scoring='f1', cv=skf, n_jobs=5)\n",
    "dtcrscnup.fit(Xtrain_clip_normal_under_pca, ytrain_clip_normal_under)\n",
    "# print(dtcrscnup.best_score_)\n",
    "# print(dtcrscnup.best_params_)\n",
    "\n",
    "dtccnup_pred = dtcrscnup.best_estimator_.predict(Xtest_clip_normal_pca)\n",
    "f1_score(y_true=ytest, y_pred=dtccnup_pred)"
   ]
  },
  {
   "cell_type": "code",
   "execution_count": null,
   "id": "020cd4e1-2506-4f30-87d4-258092f7ebdb",
   "metadata": {},
   "outputs": [],
   "source": []
  },
  {
   "cell_type": "code",
   "execution_count": null,
   "id": "db0388d3-8beb-4bd1-9372-7f25dac84675",
   "metadata": {},
   "outputs": [],
   "source": []
  },
  {
   "cell_type": "markdown",
   "id": "fb47cc86-ea90-407f-ac97-d9a5c4b1ce45",
   "metadata": {
    "jp-MarkdownHeadingCollapsed": true
   },
   "source": [
    "<h3>Train Log Clip Normal Data</h3>"
   ]
  },
  {
   "cell_type": "code",
   "execution_count": 101,
   "id": "361dbe0b-4659-46f8-8583-161ecc706747",
   "metadata": {},
   "outputs": [],
   "source": [
    "dtc = DecisionTreeClassifier()"
   ]
  },
  {
   "cell_type": "code",
   "execution_count": 102,
   "id": "6c5a3525-b025-4aa6-af61-fef6e0d6d086",
   "metadata": {},
   "outputs": [
    {
     "data": {
      "text/plain": [
       "0.2390719569603228"
      ]
     },
     "execution_count": 102,
     "metadata": {},
     "output_type": "execute_result"
    }
   ],
   "source": [
    "# Xtrain Log Clip Normal\n",
    "# space = {'max_depth': [20, 40, 60, 80, 100, 120],'min_samples_leaf': [2, 5, 10],'criterion': ['gini', 'entropy']}\n",
    "space = {'max_depth': [100],'min_samples_leaf': [5],'criterion': ['entropy']}\n",
    "dtcrslcn = RandomizedSearchCV(estimator=dtc, param_distributions=space, n_iter=100, scoring='f1', cv=skf, n_jobs=5)\n",
    "dtcrslcn.fit(Xtrain_log_clip_normal, ytrain)\n",
    "# print(dtcrslcn.best_score_)\n",
    "# print(dtcrslcn.best_params_)\n",
    "\n",
    "dtclcn_pred = dtcrslcn.best_estimator_.predict(Xtest_log_clip_normal)\n",
    "f1_score(y_true=ytest, y_pred=dtclcn_pred)"
   ]
  },
  {
   "cell_type": "code",
   "execution_count": 103,
   "id": "47099b53-f3e3-4e51-9fa9-f7e9d423af38",
   "metadata": {},
   "outputs": [
    {
     "data": {
      "text/plain": [
       "0.2706854079118968"
      ]
     },
     "execution_count": 103,
     "metadata": {},
     "output_type": "execute_result"
    }
   ],
   "source": [
    "# Normal Log Clip Over Sampling\n",
    "# space = {'max_depth': range(1, 101, 10),'min_samples_leaf': range(1, 101, 10),'criterion': ['gini', 'entropy']}\n",
    "space = {'max_depth': [89],'min_samples_leaf': [1],'criterion': ['gini']}\n",
    "dtcrslcno = RandomizedSearchCV(estimator=dtc, param_distributions=space, n_iter=100, scoring='f1', cv=skf, n_jobs=5)\n",
    "dtcrslcno.fit(Xtrain_log_clip_normal_over, ytrain_log_clip_normal_over)\n",
    "# print(dtcrslcno.best_score_)\n",
    "# print(dtcrslcno.best_params_)\n",
    "\n",
    "dtclcno_pred = dtcrslcno.best_estimator_.predict(Xtest_log_clip_normal)\n",
    "f1_score(y_true=ytest, y_pred=dtclcno_pred)"
   ]
  },
  {
   "cell_type": "code",
   "execution_count": 104,
   "id": "9e8ff4de-a361-4e37-bccd-9d5dbbea6c45",
   "metadata": {},
   "outputs": [
    {
     "data": {
      "text/plain": [
       "0.37647618292779583"
      ]
     },
     "execution_count": 104,
     "metadata": {},
     "output_type": "execute_result"
    }
   ],
   "source": [
    "# Normal Log Clip Under Sampling\n",
    "# space = {'max_depth': range(1, 20),'min_samples_leaf': range(1, 20),'criterion': ['gini', 'entropy']}\n",
    "space = {'max_depth': [3],'min_samples_leaf': [1],'criterion': ['entropy']}\n",
    "dtcrslcnu = RandomizedSearchCV(estimator=dtc, param_distributions=space, n_iter=100, scoring='f1', cv=skf, n_jobs=5)\n",
    "dtcrslcnu.fit(Xtrain_log_clip_normal_under, ytrain_log_clip_normal_under)\n",
    "# print(dtcrslcnu.best_score_)\n",
    "# print(dtcrslcnu.best_params_)\n",
    "\n",
    "dtclcnu_pred = dtcrslcnu.best_estimator_.predict(Xtest_log_clip_normal)\n",
    "f1_score(y_true=ytest, y_pred=dtclcnu_pred)"
   ]
  },
  {
   "cell_type": "code",
   "execution_count": 121,
   "id": "b702afa6-6bf9-4503-a12c-f15ca57a70fc",
   "metadata": {},
   "outputs": [
    {
     "data": {
      "text/plain": [
       "0.27637401855817273"
      ]
     },
     "execution_count": 121,
     "metadata": {},
     "output_type": "execute_result"
    }
   ],
   "source": [
    "# Over PCA\n",
    "# space = {'max_depth': range(1, 11),'min_samples_leaf': range(1, 10),'criterion': ['gini', 'entropy']}\n",
    "space = {'max_depth': [89],'min_samples_leaf': [1],'criterion': ['gini']}\n",
    "dtcrslcnop = RandomizedSearchCV(estimator=dtc, param_distributions=space, n_iter=200, scoring='f1', cv=skf, n_jobs=5)\n",
    "dtcrslcnop.fit(Xtrain_log_clip_normal_over_pca, ytrain_log_clip_normal_over)\n",
    "# print(dtcrslcnop.best_score_)\n",
    "# print(dtcrslcnop.best_params_)\n",
    "\n",
    "dtclcnop_pred = dtcrslcnop.best_estimator_.predict(Xtest_log_clip_normal_pca)\n",
    "f1_score(y_true=ytest, y_pred=dtclcnop_pred)"
   ]
  },
  {
   "cell_type": "code",
   "execution_count": 105,
   "id": "b1271fca-10ee-4ee5-81b0-9c35ca7ce109",
   "metadata": {},
   "outputs": [
    {
     "data": {
      "text/plain": [
       "0.3216175359032502"
      ]
     },
     "execution_count": 105,
     "metadata": {},
     "output_type": "execute_result"
    }
   ],
   "source": [
    "# Under PCA\n",
    "# space = {'max_depth': range(1, 11),'min_samples_leaf': range(1, 10),'criterion': ['gini', 'entropy']}\n",
    "space = {'max_depth': [89],'min_samples_leaf': [1],'criterion': ['gini']}\n",
    "dtcrslcnup = RandomizedSearchCV(estimator=dtc, param_distributions=space, n_iter=200, scoring='f1', cv=skf, n_jobs=5)\n",
    "dtcrslcnup.fit(Xtrain_log_clip_normal_under_pca, ytrain_log_clip_normal_under)\n",
    "# print(dtcrslcnup.best_score_)\n",
    "# print(dtcrslcnup.best_params_)\n",
    "\n",
    "dtclcnup_pred = dtcrslcnup.best_estimator_.predict(Xtest_log_clip_normal_pca)\n",
    "f1_score(y_true=ytest, y_pred=dtclcnup_pred)"
   ]
  },
  {
   "cell_type": "code",
   "execution_count": null,
   "id": "5347e1cf-7691-42c4-982e-a510823eee16",
   "metadata": {},
   "outputs": [],
   "source": []
  },
  {
   "cell_type": "code",
   "execution_count": null,
   "id": "141fa710-3252-4008-964f-b57083e83c3a",
   "metadata": {},
   "outputs": [],
   "source": []
  }
 ],
 "metadata": {
  "kernelspec": {
   "display_name": "Python 3 (ipykernel)",
   "language": "python",
   "name": "python3"
  },
  "language_info": {
   "codemirror_mode": {
    "name": "ipython",
    "version": 3
   },
   "file_extension": ".py",
   "mimetype": "text/x-python",
   "name": "python",
   "nbconvert_exporter": "python",
   "pygments_lexer": "ipython3",
   "version": "3.10.11"
  }
 },
 "nbformat": 4,
 "nbformat_minor": 5
}
