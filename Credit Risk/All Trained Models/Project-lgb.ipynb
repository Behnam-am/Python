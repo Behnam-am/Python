{
 "cells": [
  {
   "cell_type": "code",
   "execution_count": 1,
   "id": "e499c0bc-cbec-4d01-8ca5-177840863d03",
   "metadata": {},
   "outputs": [],
   "source": [
    "import pandas as pd\n",
    "import numpy as np\n",
    "import matplotlib.pyplot as plt\n",
    "from sklearn.model_selection import train_test_split, StratifiedKFold, RandomizedSearchCV\n",
    "from sklearn.preprocessing import MinMaxScaler\n",
    "from imblearn.over_sampling import SMOTE\n",
    "from imblearn.under_sampling import RandomUnderSampler\n",
    "from sklearn.metrics import f1_score\n",
    "import lightgbm\n",
    "import optuna\n",
    "import category_encoders as ce\n",
    "\n",
    "\n",
    "import warnings\n",
    "warnings.filterwarnings('ignore')"
   ]
  },
  {
   "cell_type": "code",
   "execution_count": 2,
   "id": "34538f69-172d-4ee0-9eda-2fdccf343a39",
   "metadata": {},
   "outputs": [],
   "source": [
    "train_loan = pd.read_csv('credit risk train.csv')"
   ]
  },
  {
   "cell_type": "code",
   "execution_count": 3,
   "id": "91725ac9-a350-4450-9de9-8a48cbdcf773",
   "metadata": {},
   "outputs": [],
   "source": [
    "test_loan = pd.read_csv('credit risk test.csv')"
   ]
  },
  {
   "cell_type": "code",
   "execution_count": 4,
   "id": "355297d6-d16c-41c7-87c5-8ad5c8ba056f",
   "metadata": {},
   "outputs": [],
   "source": [
    "X = train_loan.drop(columns='bad_loans')\n",
    "y = train_loan.bad_loans"
   ]
  },
  {
   "cell_type": "code",
   "execution_count": 5,
   "id": "e21de6b3-5d6b-4591-93db-648c86bd7c51",
   "metadata": {
    "scrolled": true
   },
   "outputs": [],
   "source": [
    "# pymnt_plan has only one value\n",
    "X.drop(columns='pymnt_plan', inplace=True)"
   ]
  },
  {
   "cell_type": "code",
   "execution_count": 6,
   "id": "75171d8f-42fa-4966-a545-b5390caf8f08",
   "metadata": {},
   "outputs": [],
   "source": [
    "# drop columns with collinearity\n",
    "X.drop(columns=['funded_amnt', 'delinq_2yrs_zero', 'pub_rec'], inplace=True)"
   ]
  },
  {
   "cell_type": "code",
   "execution_count": 7,
   "id": "80e47999-47a7-4323-a4ef-0409df21d60f",
   "metadata": {},
   "outputs": [],
   "source": [
    "# change 'object' types to 'category'\n",
    "cat_features=['grade', 'home_ownership', 'purpose']\n",
    "X[cat_features] = X[cat_features].astype('category')"
   ]
  },
  {
   "cell_type": "markdown",
   "id": "e5bd6222-607d-4c18-a6b4-45a063f539cb",
   "metadata": {},
   "source": [
    "<h1>Light GBoost</h1>"
   ]
  },
  {
   "cell_type": "markdown",
   "id": "161ab873-227d-4267-a440-bc96d91db7cf",
   "metadata": {},
   "source": [
    "<h3 dir='rtl'>\n",
    "    برای هر مدل، کد زیر در گوگل کولب اجرا و هایپرپارامترهای بهینه به این کد منتقل شده است.\n",
    "</h3>"
   ]
  },
  {
   "cell_type": "raw",
   "id": "75225a44-4601-4c05-8e5c-5022018f73ad",
   "metadata": {},
   "source": [
    "def objective(trial):\n",
    "    params = {\n",
    "        'n_estimators': 5000,\n",
    "        'objective': 'binary',\n",
    "        'metric': 'binary_logloss',\n",
    "        # 'max_depth': -1, # cause of overfitting\n",
    "        'max_depth': trial.suggest_int('max_depth', 3, 16),\n",
    "        'verbosity': -1,\n",
    "        'boosting_type': 'gbdt',\n",
    "        'early_stopping_rounds': 10,\n",
    "        'class_weight': 'balanced',\n",
    "        'num_leaves': trial.suggest_int('num_leaves', 2, 1000, step=10),\n",
    "        'colsample_bytree': trial.suggest_float('colsample_bytree', 0.5, 1.0, step=0.05),\n",
    "        'learning_rate': trial.suggest_float('learning_rate', 1e-3, 1, log=True),\n",
    "        'reg_alpha': trial.suggest_float('reg_alpha', 0, 5, step=0.5),\n",
    "        'reg_lambda': trial.suggest_float('reg_lambda', 0, 5, step=0.5),\n",
    "        'subsample': trial.suggest_float('subsample', 0.05, 1.0),\n",
    "        'min_child_samples': trial.suggest_int('min_child_samples', 5, 100),\n",
    "    }\n",
    "    lgb = lightgbm.LGBMClassifier(**params)\n",
    "    lgb.fit(Xtrain, ytrain, \n",
    "            eval_set=[(Xtrain, ytrain), (Xvalid, yvalid)])\n",
    "    pred = lgb.predict(Xtest)\n",
    "    f1 = f1_score(y_true=ytest, y_pred=pred)\n",
    "    \n",
    "    del params\n",
    "    del lgb\n",
    "    del pred\n",
    "    gc.collect()\n",
    "    \n",
    "    return f1\n",
    "\n",
    "\n",
    "study = optuna.create_study(direction='maximize')\n",
    "study.optimize(objective, n_trials=100, n_jobs=-1)"
   ]
  },
  {
   "cell_type": "markdown",
   "id": "9aa7e6fd-3994-48c6-aa45-a96c47f83283",
   "metadata": {
    "jp-MarkdownHeadingCollapsed": true
   },
   "source": [
    "<h3>Model For Data Without Preprocessing</h3>"
   ]
  },
  {
   "cell_type": "code",
   "execution_count": 8,
   "id": "d1fa5d84-74cd-4e2d-bc4c-701eba4d16ca",
   "metadata": {},
   "outputs": [],
   "source": [
    "Xtrain, Xtest, ytrain, ytest = train_test_split(X, y, stratify=y, test_size=0.3)\n",
    "Xtest, Xvalid, ytest, yvalid =  train_test_split(Xtest, ytest, stratify=ytest, test_size=0.5)"
   ]
  },
  {
   "cell_type": "code",
   "execution_count": 9,
   "id": "a714757a-f76f-4db8-be15-3de71dd4a53d",
   "metadata": {},
   "outputs": [
    {
     "name": "stdout",
     "output_type": "stream",
     "text": [
      "Xtest result:  0.40767451353925704\n"
     ]
    }
   ],
   "source": [
    "params = {'n_estimators': 5000, 'objective': 'binary', 'metric': 'binary_logloss', 'verbosity': -1,\n",
    "          'boosting_type': 'gbdt', 'early_stopping_rounds': 10,'class_weight': 'balanced',\n",
    "          'max_depth': 3, 'num_leaves': 812, 'colsample_bytree': 0.9, 'learning_rate': 0.005837357729089558,\n",
    "          'reg_alpha': 4.5, 'reg_lambda': 5.0, 'subsample': 0.9086891990485108, 'min_child_samples': 61}\n",
    "\n",
    "lgbwp = lightgbm.LGBMClassifier(**params)\n",
    "lgbwp.fit(Xtrain, ytrain, \n",
    "        eval_set=[(Xtrain, ytrain), (Xvalid, yvalid)])\n",
    "pred = lgbwp.predict(Xtest)\n",
    "print('Xtest result: ', f1_score(y_true=ytest, y_pred=pred))"
   ]
  },
  {
   "cell_type": "code",
   "execution_count": null,
   "id": "879bd4e6-e3eb-486a-8c4f-61cfe5cc87a0",
   "metadata": {},
   "outputs": [],
   "source": []
  },
  {
   "cell_type": "markdown",
   "id": "a187b7e2-2705-47c0-b645-abb0a7acc4b9",
   "metadata": {
    "jp-MarkdownHeadingCollapsed": true
   },
   "source": [
    "<h3>Encoding</h3>"
   ]
  },
  {
   "cell_type": "code",
   "execution_count": 10,
   "id": "9271112b-b57d-4d37-806a-fae084963bf5",
   "metadata": {},
   "outputs": [],
   "source": [
    "cat_features = ['grade', 'home_ownership', 'purpose']\n",
    "encoder = ce.TargetEncoder(cols=cat_features)\n",
    "encoder.fit(X[cat_features], y)\n",
    "X_enc = pd.concat([X, encoder.transform(X[cat_features]).add_suffix('_enc')], axis=1)\n",
    "X_enc.drop(columns=['grade', 'home_ownership', 'purpose'], inplace=True)"
   ]
  },
  {
   "cell_type": "markdown",
   "id": "7f3c3089-8374-4156-afd8-cc4a9c707304",
   "metadata": {
    "jp-MarkdownHeadingCollapsed": true
   },
   "source": [
    "<h3>Handling Missing Values</h3>"
   ]
  },
  {
   "cell_type": "code",
   "execution_count": 11,
   "id": "3d393b2f-9698-4b6a-bbff-425866c5f208",
   "metadata": {},
   "outputs": [],
   "source": [
    "X_enc_imp = X_enc.copy()\n",
    "X_enc_imp.payment_inc_ratio.fillna(0, inplace=True)\n",
    "X_enc_imp.fillna(-1, inplace=True)"
   ]
  },
  {
   "cell_type": "markdown",
   "id": "18cfd84f-abb9-44e8-ad7a-680c69cc37a6",
   "metadata": {
    "jp-MarkdownHeadingCollapsed": true
   },
   "source": [
    "<h3>Train Test Split</h3>"
   ]
  },
  {
   "cell_type": "code",
   "execution_count": 12,
   "id": "209d036b-be6a-494f-a92f-4968a29ba1f1",
   "metadata": {},
   "outputs": [],
   "source": [
    "Xtrain, Xtest, ytrain, ytest = train_test_split(X_enc_imp, y, stratify=y, test_size=0.3)\n",
    "Xtest, Xvalid, ytest, yvalid =  train_test_split(Xtest, ytest, stratify=ytest, test_size=0.5)"
   ]
  },
  {
   "cell_type": "markdown",
   "id": "884dc72e-ba75-46c6-ad2b-29a8550ad26d",
   "metadata": {
    "jp-MarkdownHeadingCollapsed": true
   },
   "source": [
    "<h3>Handling Outliers</h3>"
   ]
  },
  {
   "cell_type": "code",
   "execution_count": 13,
   "id": "ee933de1-888f-4692-beb5-93628ec4edcb",
   "metadata": {},
   "outputs": [],
   "source": [
    "# Log Transform\n",
    "########### train #############\n",
    "Xtrain_log = Xtrain.copy()\n",
    "cols = ['payment_inc_ratio', 'open_acc']\n",
    "for c in cols:\n",
    "    Xtrain_log[c] = np.log(Xtrain_log[c] + 1.1)\n",
    "\n",
    "########### valid #############\n",
    "Xvalid_log = Xvalid.copy()\n",
    "cols = ['payment_inc_ratio', 'open_acc']\n",
    "for c in cols:\n",
    "    Xvalid_log[c] = np.log(Xvalid_log[c] + 1.1)\n",
    "\n",
    "########### test #############\n",
    "Xtest_log = Xtest.copy()\n",
    "cols = ['payment_inc_ratio', 'open_acc']\n",
    "for c in cols:\n",
    "    Xtest_log[c] = np.log(Xtest_log[c] + 1.1)"
   ]
  },
  {
   "cell_type": "code",
   "execution_count": 14,
   "id": "aa865152-e393-41c6-93f6-11eb3fc2410e",
   "metadata": {
    "scrolled": true
   },
   "outputs": [],
   "source": [
    "# z-score outlier detection\n",
    "########### train #############\n",
    "Xtrain_clip = Xtrain.copy()\n",
    "columns = ['loan_amnt', 'sub_grade_num', 'emp_length_num', 'dti', 'delinq_2yrs',\n",
    "           'inq_last_6mths', 'revol_util', 'payment_inc_ratio', 'open_acc']# ,'grade',] \n",
    "\n",
    "for c in columns:\n",
    "    if (Xtrain_clip[c].dtypes == int) | (Xtrain_clip[c].dtypes == float):\n",
    "        L = Xtrain[c].mean() - 3*Xtrain[c].std()\n",
    "        U = Xtrain[c].mean() + 3*Xtrain[c].std()\n",
    "        Xtrain_clip[c] = Xtrain_clip[c].clip(L,U)\n",
    "\n",
    "########### valid #############\n",
    "Xvalid_clip = Xvalid.copy()\n",
    "columns = ['loan_amnt', 'sub_grade_num', 'emp_length_num', 'dti', 'delinq_2yrs',\n",
    "           'inq_last_6mths', 'revol_util', 'payment_inc_ratio', 'open_acc']# ,'grade',]\n",
    "\n",
    "for c in columns:\n",
    "    if (Xvalid_clip[c].dtypes == int) | (Xvalid_clip[c].dtypes == float):\n",
    "        L = Xtrain[c].mean() - 3*Xtrain[c].std()\n",
    "        U = Xtrain[c].mean() + 3*Xtrain[c].std()\n",
    "        Xvalid_clip[c] =Xvalid_clip[c].clip(L,U)\n",
    "\n",
    "########### test #############\n",
    "Xtest_clip = Xtest.copy()\n",
    "columns = ['loan_amnt', 'sub_grade_num', 'emp_length_num', 'dti', 'delinq_2yrs',\n",
    "           'inq_last_6mths', 'revol_util', 'payment_inc_ratio', 'open_acc']# ,'grade',]\n",
    "\n",
    "for c in columns:\n",
    "    if (Xtest_clip[c].dtypes == int) | (Xtest_clip[c].dtypes == float):\n",
    "        L = Xtrain[c].mean() - 3*Xtrain[c].std()\n",
    "        U = Xtrain[c].mean() + 3*Xtrain[c].std()\n",
    "        Xtest_clip[c] =Xtest_clip[c].clip(L,U)"
   ]
  },
  {
   "cell_type": "code",
   "execution_count": 15,
   "id": "88c98573-1a0a-4afa-a601-f07ee3b1bc3d",
   "metadata": {},
   "outputs": [],
   "source": [
    "# Log and z-score\n",
    "########### train #############\n",
    "Xtrain_log_clip = Xtrain_clip.drop(columns=['payment_inc_ratio', 'open_acc'])\n",
    "Xtrain_log_clip = pd.concat([Xtrain_log_clip, Xtrain_log.loc[:,['payment_inc_ratio', 'open_acc']]], axis=1)\n",
    "\n",
    "########### valid #############\n",
    "Xvalid_log_clip = Xvalid_clip.drop(columns=['payment_inc_ratio', 'open_acc'])\n",
    "Xvalid_log_clip = pd.concat([Xvalid_log_clip, Xvalid_log.loc[:,['payment_inc_ratio', 'open_acc']]], axis=1)\n",
    "\n",
    "########### test #############\n",
    "Xtest_log_clip = Xtest_clip.drop(columns=['payment_inc_ratio', 'open_acc'])\n",
    "Xtest_log_clip = pd.concat([Xtest_log_clip, Xtest_log.loc[:,['payment_inc_ratio', 'open_acc']]], axis=1)"
   ]
  },
  {
   "cell_type": "code",
   "execution_count": null,
   "id": "fc80695b-e9dc-4408-aa51-2394aade3c86",
   "metadata": {},
   "outputs": [],
   "source": []
  },
  {
   "cell_type": "markdown",
   "id": "d5fd29af-6336-4100-9b46-52c5eb374a41",
   "metadata": {
    "jp-MarkdownHeadingCollapsed": true
   },
   "source": [
    "<h3>Normalization: MinMaxScaler</h3>"
   ]
  },
  {
   "cell_type": "code",
   "execution_count": 16,
   "id": "ea49bc40-cea0-494d-8fb3-f7d37bfbd9c4",
   "metadata": {
    "scrolled": true
   },
   "outputs": [],
   "source": [
    "# Normalization\n",
    "mmscaler = MinMaxScaler()\n",
    "\n",
    "Xtrain_normal = mmscaler.fit_transform(Xtrain)\n",
    "Xtrain_normal = pd.DataFrame(Xtrain_normal, columns=Xtrain.columns, index=Xtrain.index)\n",
    "\n",
    "Xvalid_normal = mmscaler.transform(Xvalid)\n",
    "Xvalid_normal = pd.DataFrame(Xvalid_normal, columns=Xvalid.columns, index=Xvalid.index)\n",
    "\n",
    "Xtest_normal = mmscaler.transform(Xtest)\n",
    "Xtest_normal = pd.DataFrame(Xtest_normal, columns=Xtest.columns, index=Xtest.index)\n",
    "\n",
    "#############################\n",
    "Xtrain_log_normal = mmscaler.fit_transform(Xtrain_log)\n",
    "Xtrain_log_normal = pd.DataFrame(Xtrain_log_normal, columns=Xtrain_log.columns, index=Xtrain_log.index)\n",
    "\n",
    "Xvalid_log_normal = mmscaler.transform(Xvalid_log)\n",
    "Xvalid_log_normal = pd.DataFrame(Xvalid_log_normal, columns=Xvalid_log.columns, index=Xvalid_log.index)\n",
    "\n",
    "Xtest_log_normal = mmscaler.transform(Xtest_log)\n",
    "Xtest_log_normal = pd.DataFrame(Xtest_log_normal, columns=Xtest_log.columns, index=Xtest_log.index)\n",
    "\n",
    "#############################\n",
    "Xtrain_clip_normal = mmscaler.fit_transform(Xtrain_clip)\n",
    "Xtrain_clip_normal = pd.DataFrame(Xtrain_clip_normal, columns=Xtrain_clip.columns, index=Xtrain_clip.index)\n",
    "\n",
    "Xvalid_clip_normal = mmscaler.transform(Xvalid_clip)\n",
    "Xvalid_clip_normal = pd.DataFrame(Xvalid_clip_normal, columns=Xvalid_clip.columns, index=Xvalid_clip.index)\n",
    "\n",
    "Xtest_clip_normal = mmscaler.transform(Xtest_clip)\n",
    "Xtest_clip_normal = pd.DataFrame(Xtest_clip_normal, columns=Xtest_clip.columns, index=Xtest_clip.index)\n",
    "\n",
    "#############################\n",
    "Xtrain_log_clip_normal = mmscaler.fit_transform(Xtrain_log_clip)\n",
    "Xtrain_log_clip_normal = pd.DataFrame(Xtrain_log_clip_normal, columns=Xtrain_log_clip.columns, index=Xtrain_log_clip.index)\n",
    "\n",
    "Xvalid_log_clip_normal = mmscaler.transform(Xvalid_log_clip)\n",
    "Xvalid_log_clip_normal = pd.DataFrame(Xvalid_log_clip_normal, columns=Xvalid_log_clip.columns, index=Xvalid_log_clip.index)\n",
    "\n",
    "Xtest_log_clip_normal = mmscaler.transform(Xtest_log_clip)\n",
    "Xtest_log_clip_normal = pd.DataFrame(Xtest_log_clip_normal, columns=Xtest_log_clip.columns, index=Xtest_log_clip.index)"
   ]
  },
  {
   "cell_type": "code",
   "execution_count": null,
   "id": "326ae3c0-846f-4291-baf5-82750946f5db",
   "metadata": {},
   "outputs": [],
   "source": []
  },
  {
   "cell_type": "markdown",
   "id": "6957de77-6ab8-4e40-b264-50150e1485e6",
   "metadata": {
    "jp-MarkdownHeadingCollapsed": true
   },
   "source": [
    "<h3>Over Sampling</h3>"
   ]
  },
  {
   "cell_type": "code",
   "execution_count": 17,
   "id": "3e496bc1-a883-4d7f-ad49-4bb84bd59b3e",
   "metadata": {},
   "outputs": [],
   "source": [
    "# Over-Sampling\n",
    "over_sampler = SMOTE()\n",
    "\n",
    "########### train #############\n",
    "Xtrain_over, ytrain_over = over_sampler.fit_resample(Xtrain, ytrain)\n",
    "Xtrain_normal_over, ytrain_normal_over = over_sampler.fit_resample(Xtrain_normal, ytrain)\n",
    "Xtrain_log_normal_over, ytrain_log_normal_over = over_sampler.fit_resample(Xtrain_log_normal, ytrain)\n",
    "Xtrain_clip_normal_over, ytrain_clip_normal_over = over_sampler.fit_resample(Xtrain_clip_normal, ytrain)\n",
    "Xtrain_log_clip_normal_over, ytrain_log_clip_normal_over = over_sampler.fit_resample(Xtrain_log_clip_normal, ytrain)"
   ]
  },
  {
   "cell_type": "markdown",
   "id": "95141fa2-e738-4d13-af4c-6a170828bb80",
   "metadata": {
    "jp-MarkdownHeadingCollapsed": true
   },
   "source": [
    "<h3>Under Sampling</h3>"
   ]
  },
  {
   "cell_type": "code",
   "execution_count": 18,
   "id": "09ce56d3-6275-43d5-81b3-36f565e88c5a",
   "metadata": {},
   "outputs": [],
   "source": [
    "# Under-Sampling\n",
    "under_sampler = RandomUnderSampler()\n",
    "\n",
    "########### train #############\n",
    "Xtrain_under, ytrain_under = under_sampler.fit_resample(Xtrain, ytrain)\n",
    "Xtrain_normal_under, ytrain_normal_under = under_sampler.fit_resample(Xtrain_normal, ytrain)\n",
    "Xtrain_log_normal_under, ytrain_log_normal_under = under_sampler.fit_resample(Xtrain_log_normal, ytrain)\n",
    "Xtrain_clip_normal_under, ytrain_clip_normal_under = under_sampler.fit_resample(Xtrain_clip_normal, ytrain)\n",
    "Xtrain_log_clip_normal_under, ytrain_log_clip_normal_under = under_sampler.fit_resample(Xtrain_log_clip_normal, ytrain)"
   ]
  },
  {
   "cell_type": "markdown",
   "id": "60a2e4a3-b5e5-4d6d-a0d5-693e085ee4cf",
   "metadata": {
    "jp-MarkdownHeadingCollapsed": true
   },
   "source": [
    "<h3>PCA</h3>"
   ]
  },
  {
   "cell_type": "code",
   "execution_count": 19,
   "id": "41a0ec2c-28a0-47fa-9c7d-8bde3c7df369",
   "metadata": {},
   "outputs": [],
   "source": [
    "# PCA with Under Sampled Data\n",
    "from sklearn.decomposition import PCA\n",
    "pca = PCA(n_components=0.99)\n",
    "\n",
    "Xtrain_pca = pd.DataFrame(pca.fit_transform(Xtrain_under), index=Xtrain_under.index)\n",
    "Xtrain_under_pca = pd.concat([Xtrain_under, Xtrain_pca], axis=1)\n",
    "Xtrain_under_pca.columns=Xtrain_under_pca.columns.astype(str)\n",
    "\n",
    "Xvalid_pca = pd.DataFrame(pca.transform(Xvalid), index=Xvalid.index)\n",
    "Xvalid_pca = pd.concat([Xvalid, Xvalid_pca], axis=1)\n",
    "Xvalid_pca.columns = Xvalid_pca.columns.astype(str)\n",
    "\n",
    "Xtest_pca = pd.DataFrame(pca.transform(Xtest), index=Xtest.index)\n",
    "Xtest_pca = pd.concat([Xtest, Xtest_pca], axis=1)\n",
    "Xtest_pca.columns = Xtest_pca.columns.astype(str)\n",
    "\n",
    "###########################################\n",
    "Xtrain_normal_pca = pd.DataFrame(pca.fit_transform(Xtrain_normal_under), index=Xtrain_normal_under.index)\n",
    "Xtrain_normal_under_pca = pd.concat([Xtrain_normal_under, Xtrain_normal_pca], axis=1)\n",
    "Xtrain_normal_under_pca.columns=Xtrain_normal_under_pca.columns.astype(str)\n",
    "\n",
    "Xvalid_normal_pca = pd.DataFrame(pca.transform(Xvalid_normal), index=Xvalid_normal.index)\n",
    "Xvalid_normal_pca = pd.concat([Xvalid_normal, Xvalid_normal_pca], axis=1)\n",
    "Xvalid_normal_pca.columns = Xvalid_normal_pca.columns.astype(str)\n",
    "\n",
    "Xtest_normal_pca = pd.DataFrame(pca.transform(Xtest_normal), index=Xtest_normal.index)\n",
    "Xtest_normal_pca = pd.concat([Xtest_normal, Xtest_normal_pca], axis=1)\n",
    "Xtest_normal_pca.columns = Xtest_normal_pca.columns.astype(str)\n",
    "\n",
    "###########################################\n",
    "Xtrain_log_normal_pca = pd.DataFrame(pca.fit_transform(Xtrain_log_normal_under), index=Xtrain_log_normal_under.index)\n",
    "Xtrain_log_normal_under_pca = pd.concat([Xtrain_log_normal_under, Xtrain_log_normal_pca], axis=1)\n",
    "Xtrain_log_normal_under_pca.columns=Xtrain_log_normal_under_pca.columns.astype(str)\n",
    "\n",
    "Xvalid_log_normal_pca = pd.DataFrame(pca.transform(Xvalid_log_normal), index=Xvalid_log_normal.index)\n",
    "Xvalid_log_normal_pca = pd.concat([Xvalid_log_normal, Xvalid_log_normal_pca], axis=1)\n",
    "Xvalid_log_normal_pca.columns = Xvalid_log_normal_pca.columns.astype(str)\n",
    "\n",
    "Xtest_log_normal_pca = pd.DataFrame(pca.transform(Xtest_log_normal), index=Xtest_log_normal.index)\n",
    "Xtest_log_normal_pca = pd.concat([Xtest_log_normal, Xtest_log_normal_pca], axis=1)\n",
    "Xtest_log_normal_pca.columns = Xtest_log_normal_pca.columns.astype(str)\n",
    "\n",
    "###########################################\n",
    "Xtrain_clip_normal_pca = pd.DataFrame(pca.fit_transform(Xtrain_clip_normal_under), index=Xtrain_clip_normal_under.index)\n",
    "Xtrain_clip_normal_under_pca = pd.concat([Xtrain_clip_normal_under, Xtrain_clip_normal_pca], axis=1)\n",
    "Xtrain_clip_normal_under_pca.columns=Xtrain_clip_normal_under_pca.columns.astype(str)\n",
    "\n",
    "Xvalid_clip_normal_pca = pd.DataFrame(pca.transform(Xvalid_clip_normal), index=Xvalid_clip_normal.index)\n",
    "Xvalid_clip_normal_pca = pd.concat([Xvalid_clip_normal, Xvalid_clip_normal_pca], axis=1)\n",
    "Xvalid_clip_normal_pca.columns=Xvalid_clip_normal_pca.columns.astype(str)\n",
    "\n",
    "Xtest_clip_normal_pca = pd.DataFrame(pca.transform(Xtest_clip_normal), index=Xtest_clip_normal.index)\n",
    "Xtest_clip_normal_pca = pd.concat([Xtest_clip_normal, Xtest_clip_normal_pca], axis=1)\n",
    "Xtest_clip_normal_pca.columns=Xtest_clip_normal_pca.columns.astype(str)\n",
    "\n",
    "###########################################\n",
    "Xtrain_log_clip_normal_pca = pd.DataFrame(pca.fit_transform(Xtrain_log_clip_normal_under), index=Xtrain_log_clip_normal_under.index)\n",
    "Xtrain_log_clip_normal_under_pca = pd.concat([Xtrain_log_clip_normal_under, Xtrain_log_clip_normal_pca], axis=1)\n",
    "Xtrain_log_clip_normal_under_pca.columns=Xtrain_log_clip_normal_under_pca.columns.astype(str)\n",
    "\n",
    "Xvalid_log_clip_normal_pca = pd.DataFrame(pca.transform(Xvalid_log_clip_normal), index=Xvalid_log_clip_normal.index)\n",
    "Xvalid_log_clip_normal_pca = pd.concat([Xvalid_log_clip_normal, Xvalid_log_clip_normal_pca], axis=1)\n",
    "Xvalid_log_clip_normal_pca.columns=Xvalid_log_clip_normal_pca.columns.astype(str)\n",
    "\n",
    "Xtest_log_clip_normal_pca = pd.DataFrame(pca.transform(Xtest_log_clip_normal), index=Xtest_log_clip_normal.index)\n",
    "Xtest_log_clip_normal_pca = pd.concat([Xtest_log_clip_normal, Xtest_log_clip_normal_pca], axis=1)\n",
    "Xtest_log_clip_normal_pca.columns=Xtest_log_clip_normal_pca.columns.astype(str)"
   ]
  },
  {
   "cell_type": "markdown",
   "id": "e2b1ac25-8708-4b5e-996e-e5ac7884b649",
   "metadata": {
    "jp-MarkdownHeadingCollapsed": true
   },
   "source": [
    "<h3>Train Data</h3>"
   ]
  },
  {
   "cell_type": "code",
   "execution_count": 20,
   "id": "ce8a2391-f8f4-4e4e-92e9-0272ac53eab8",
   "metadata": {},
   "outputs": [
    {
     "name": "stdout",
     "output_type": "stream",
     "text": [
      "Xtest result:  0.4025956826910343\n"
     ]
    }
   ],
   "source": [
    "# Encoded Imputed Data\n",
    "params = {'n_estimators': 5000, 'objective': 'binary', 'metric': 'binary_logloss', 'verbosity': -1,\n",
    "          'boosting_type': 'gbdt', 'early_stopping_rounds': 10,'class_weight': 'balanced',\n",
    "          'max_depth': 3, 'num_leaves': 782, 'colsample_bytree': 0.5, 'learning_rate': 0.0022003317562072694, \n",
    "          'reg_alpha': 1.0, 'reg_lambda': 3.0, 'subsample': 0.3940411021541431, 'min_child_samples': 93}\n",
    "\n",
    "lgb = lightgbm.LGBMClassifier(**params)\n",
    "lgb.fit(Xtrain, ytrain, \n",
    "        eval_set=[(Xtrain, ytrain), (Xvalid, yvalid)])\n",
    "pred = lgb.predict(Xtest)\n",
    "f1 = f1_score(y_true=ytest, y_pred=pred)\n",
    "print('Xtest result: ', f1_score(y_true=ytest, y_pred=pred))"
   ]
  },
  {
   "cell_type": "code",
   "execution_count": 21,
   "id": "2241438b-f1f5-4baf-a07f-4ba56ab9ed8a",
   "metadata": {},
   "outputs": [
    {
     "name": "stdout",
     "output_type": "stream",
     "text": [
      "Xtest result:  0.06976744186046512\n"
     ]
    }
   ],
   "source": [
    "# Encoded Imputed Over-Sampled Data\n",
    "params = {'n_estimators': 5000, 'objective': 'binary', 'metric': 'binary_logloss', 'verbosity': -1,\n",
    "          'boosting_type': 'gbdt', 'early_stopping_rounds': 10,'class_weight': 'balanced',\n",
    "          'max_depth': 3, 'num_leaves': 782, 'colsample_bytree': 0.5, 'learning_rate': 0.0022003317562072694, \n",
    "          'reg_alpha': 1.0, 'reg_lambda': 3.0, 'subsample': 0.3940411021541431, 'min_child_samples': 93}\n",
    "\n",
    "lgbo = lightgbm.LGBMClassifier(**params)\n",
    "lgbo.fit(Xtrain_over, ytrain_over, \n",
    "        eval_set=[(Xtrain_over, ytrain_over), (Xvalid, yvalid)])\n",
    "pred = lgbo.predict(Xtest)\n",
    "f1 = f1_score(y_true=ytest, y_pred=pred)\n",
    "print('Xtest result: ', f1_score(y_true=ytest, y_pred=pred))"
   ]
  },
  {
   "cell_type": "code",
   "execution_count": 22,
   "id": "b5bc39ca-d36c-4b1c-864a-e537d54a7e5b",
   "metadata": {},
   "outputs": [
    {
     "name": "stdout",
     "output_type": "stream",
     "text": [
      "Xtest result:  0.40377163523637305\n"
     ]
    }
   ],
   "source": [
    "# Encoded Imputed Under-Sampled Data\n",
    "params = {'n_estimators': 5000, 'objective': 'binary', 'metric': 'binary_logloss', 'verbosity': -1,\n",
    "          'boosting_type': 'gbdt', 'early_stopping_rounds': 10,'class_weight': 'balanced',\n",
    "          'max_depth': 4, 'num_leaves': 942, 'colsample_bytree': 0.6, 'learning_rate': 0.0031884393171321894, \n",
    "          'reg_alpha': 3.5, 'reg_lambda': 3.5, 'subsample': 0.7619278105516095, 'min_child_samples': 89}\n",
    "\n",
    "lgbu = lightgbm.LGBMClassifier(**params)\n",
    "lgbu.fit(Xtrain_under, ytrain_under, \n",
    "        eval_set=[(Xtrain_under, ytrain_under), (Xvalid, yvalid)])\n",
    "pred = lgbu.predict(Xtest)\n",
    "f1 = f1_score(y_true=ytest, y_pred=pred)\n",
    "print('Xtest result: ', f1_score(y_true=ytest, y_pred=pred))"
   ]
  },
  {
   "cell_type": "code",
   "execution_count": 23,
   "id": "00885e4b-5f27-44af-83fd-9be68cb60ab2",
   "metadata": {
    "scrolled": true
   },
   "outputs": [
    {
     "name": "stdout",
     "output_type": "stream",
     "text": [
      "Xtest result:  0.4063310845874416\n"
     ]
    }
   ],
   "source": [
    "# Encoded Imputed Under-Sampled Data With PCA\n",
    "params = {'n_estimators': 5000, 'objective': 'binary', 'metric': 'binary_logloss', 'verbosity': -1,\n",
    "          'boosting_type': 'gbdt', 'early_stopping_rounds': 10,'class_weight': 'balanced',\n",
    "          'max_depth': 4, 'num_leaves': 942, 'colsample_bytree': 0.9, 'learning_rate': 0.007483883068924781, \n",
    "          'reg_alpha': 3.0, 'reg_lambda': 2.5, 'subsample': 0.5541645334105965, 'min_child_samples': 16}\n",
    "\n",
    "lgbup = lightgbm.LGBMClassifier(**params)\n",
    "lgbup.fit(Xtrain_under_pca, ytrain_under, \n",
    "        eval_set=[(Xtrain_under_pca, ytrain_under), (Xvalid_pca, yvalid)])\n",
    "pred = lgbup.predict(Xtest_pca)\n",
    "f1 = f1_score(y_true=ytest, y_pred=pred)\n",
    "print('Xtest result: ', f1_score(y_true=ytest, y_pred=pred))"
   ]
  },
  {
   "cell_type": "markdown",
   "id": "8acfd09e-cb88-4ccd-bf12-fb396c021254",
   "metadata": {
    "jp-MarkdownHeadingCollapsed": true
   },
   "source": [
    "<h3>Normal Data</h3>"
   ]
  },
  {
   "cell_type": "code",
   "execution_count": 24,
   "id": "bae29ea3-f5d3-453f-862b-938a54208462",
   "metadata": {},
   "outputs": [
    {
     "name": "stdout",
     "output_type": "stream",
     "text": [
      "Xtest result:  0.3987025273685633\n"
     ]
    }
   ],
   "source": [
    "# Encoded Imputed Normal Data\n",
    "params = {'n_estimators': 5000, 'objective': 'binary', 'metric': 'binary_logloss', 'verbosity': -1,\n",
    "          'boosting_type': 'gbdt', 'early_stopping_rounds': 10,'class_weight': 'balanced',\n",
    "          'max_depth': 3, 'num_leaves': 572, 'colsample_bytree': 0.65, 'learning_rate': 0.16120536745090905, \n",
    "          'reg_alpha': 4.5, 'reg_lambda': 0.5, 'subsample': 0.9392936984622304, 'min_child_samples': 17}\n",
    "\n",
    "lgbn = lightgbm.LGBMClassifier(**params)\n",
    "lgbn.fit(Xtrain_normal, ytrain, \n",
    "        eval_set=[(Xtrain_normal, ytrain), (Xvalid_normal, yvalid)])\n",
    "pred = lgbn.predict(Xtest_normal)\n",
    "f1 = f1_score(y_true=ytest, y_pred=pred)\n",
    "print('Xtest result: ', f1_score(y_true=ytest, y_pred=pred))"
   ]
  },
  {
   "cell_type": "code",
   "execution_count": 25,
   "id": "9cfde551-15d3-4c96-b828-0772193d5e95",
   "metadata": {},
   "outputs": [
    {
     "name": "stdout",
     "output_type": "stream",
     "text": [
      "Xtest result:  0.09041309431021044\n"
     ]
    }
   ],
   "source": [
    "# Encoded Imputed Normal Over-Sampled Data\n",
    "params = {'n_estimators': 5000, 'objective': 'binary', 'metric': 'binary_logloss', 'verbosity': -1,\n",
    "          'boosting_type': 'gbdt', 'early_stopping_rounds': 10,'class_weight': 'balanced',\n",
    "          'max_depth': 3, 'num_leaves': 572, 'colsample_bytree': 0.65, 'learning_rate': 0.16120536745090905, \n",
    "          'reg_alpha': 4.5, 'reg_lambda': 0.5, 'subsample': 0.9392936984622304, 'min_child_samples': 17}\n",
    "\n",
    "lgbno = lightgbm.LGBMClassifier(**params)\n",
    "lgbno.fit(Xtrain_normal_over, ytrain_over,\n",
    "        eval_set=[(Xtrain_normal_over, ytrain_over), (Xvalid_normal, yvalid)])\n",
    "pred = lgbno.predict(Xtest_normal)\n",
    "f1 = f1_score(y_true=ytest, y_pred=pred)\n",
    "print('Xtest result: ', f1_score(y_true=ytest, y_pred=pred))"
   ]
  },
  {
   "cell_type": "code",
   "execution_count": 26,
   "id": "a7db555f-5025-4fcf-b473-8880e7f0173e",
   "metadata": {},
   "outputs": [
    {
     "name": "stdout",
     "output_type": "stream",
     "text": [
      "Xtest result:  0.3989985505336672\n"
     ]
    }
   ],
   "source": [
    "# Encoded Imputed Normal Under-Sampled Data\n",
    "params = {'n_estimators': 5000, 'objective': 'binary', 'metric': 'binary_logloss', 'verbosity': -1,\n",
    "          'boosting_type': 'gbdt', 'early_stopping_rounds': 10,'class_weight': 'balanced',\n",
    "          'max_depth': 8, 'num_leaves': 82, 'colsample_bytree': 0.5, 'learning_rate': 0.015473868125686798, \n",
    "          'reg_alpha': 5.0, 'reg_lambda': 2.0, 'subsample': 0.17531548152782445, 'min_child_samples': 75}\n",
    "\n",
    "lgbnu = lightgbm.LGBMClassifier(**params)\n",
    "lgbnu.fit(Xtrain_normal_under, ytrain_under, \n",
    "        eval_set=[(Xtrain_normal_under, ytrain_under), (Xvalid_normal, yvalid)])\n",
    "pred = lgbnu.predict(Xtest_normal)\n",
    "f1 = f1_score(y_true=ytest, y_pred=pred)\n",
    "print('Xtest result: ', f1_score(y_true=ytest, y_pred=pred))"
   ]
  },
  {
   "cell_type": "code",
   "execution_count": 27,
   "id": "2d26509e-f5a6-4b34-8249-75157e7aaa9e",
   "metadata": {
    "scrolled": true
   },
   "outputs": [
    {
     "name": "stdout",
     "output_type": "stream",
     "text": [
      "Xtest result:  0.40047675804529204\n"
     ]
    }
   ],
   "source": [
    "# Encoded Imputed Normal Under-Sampled Data With PCA\n",
    "params = {'n_estimators': 5000, 'objective': 'binary', 'metric': 'binary_logloss', 'verbosity': -1,\n",
    "          'boosting_type': 'gbdt', 'early_stopping_rounds': 10,'class_weight': 'balanced',\n",
    "          'max_depth': 3, 'num_leaves': 832, 'colsample_bytree': 0.6, 'learning_rate': 0.04672714075153401, \n",
    "          'reg_alpha': 5.0, 'reg_lambda': 2.5, 'subsample': 0.11921562689004872, 'min_child_samples': 9}\n",
    "\n",
    "lgbnup = lightgbm.LGBMClassifier(**params)\n",
    "lgbnup.fit(Xtrain_normal_under_pca, ytrain_under, \n",
    "        eval_set=[(Xtrain_normal_under_pca, ytrain_under), (Xvalid_normal_pca, yvalid)])\n",
    "pred = lgbnup.predict(Xtest_normal_pca)\n",
    "f1 = f1_score(y_true=ytest, y_pred=pred)\n",
    "print('Xtest result: ', f1_score(y_true=ytest, y_pred=pred))"
   ]
  },
  {
   "cell_type": "markdown",
   "id": "8531cdef-a462-4a3e-8815-98df7bf1199c",
   "metadata": {
    "jp-MarkdownHeadingCollapsed": true
   },
   "source": [
    "<h3>Log Normal Data</h3>"
   ]
  },
  {
   "cell_type": "code",
   "execution_count": 28,
   "id": "e252b8bd-44cd-456b-9a38-dac71e547140",
   "metadata": {},
   "outputs": [
    {
     "name": "stdout",
     "output_type": "stream",
     "text": [
      "Xtest result:  0.4027593526134253\n"
     ]
    }
   ],
   "source": [
    "# Encoded Imputed Log Normal Data\n",
    "params = {'n_estimators': 5000, 'objective': 'binary', 'metric': 'binary_logloss', 'verbosity': -1,\n",
    "          'boosting_type': 'gbdt', 'early_stopping_rounds': 10,'class_weight': 'balanced',\n",
    "          'max_depth': 3, 'num_leaves': 422, 'colsample_bytree': 0.5, 'learning_rate': 0.002149846086169651,\n",
    "          'reg_alpha': 0.5, 'reg_lambda': 3.5, 'subsample': 0.06210490031638616, 'min_child_samples': 71}\n",
    "\n",
    "lgbln = lightgbm.LGBMClassifier(**params)\n",
    "lgbln.fit(Xtrain_log_normal, ytrain, \n",
    "        eval_set=[(Xtrain_log_normal, ytrain), (Xvalid_log_normal, yvalid)])\n",
    "pred = lgbln.predict(Xtest_log_normal)\n",
    "f1 = f1_score(y_true=ytest, y_pred=pred)\n",
    "print('Xtest result: ', f1_score(y_true=ytest, y_pred=pred))"
   ]
  },
  {
   "cell_type": "code",
   "execution_count": 29,
   "id": "869a2bca-1613-4550-8e5e-a71f256dc9d8",
   "metadata": {},
   "outputs": [
    {
     "name": "stdout",
     "output_type": "stream",
     "text": [
      "Xtest result:  0.24115755627009647\n"
     ]
    }
   ],
   "source": [
    "# Encoded Imputed Log Normal Over-Sampled Data\n",
    "params = {'n_estimators': 5000, 'objective': 'binary', 'metric': 'binary_logloss', 'verbosity': -1,\n",
    "          'boosting_type': 'gbdt', 'early_stopping_rounds': 10,'class_weight': 'balanced',\n",
    "          'max_depth': 14, 'num_leaves': 832, 'colsample_bytree': 0.95, 'learning_rate': 0.9763555559130269,\n",
    "          'reg_alpha': 0.0, 'reg_lambda': 4.0, 'subsample': 0.4897835467974713, 'min_child_samples': 21}\n",
    "\n",
    "lgblno = lightgbm.LGBMClassifier(**params)\n",
    "lgblno.fit(Xtrain_log_normal_over, ytrain_over, \n",
    "        eval_set=[(Xtrain_log_normal_over, ytrain_over), (Xvalid_log_normal, yvalid)])\n",
    "pred = lgblno.predict(Xtest_log_normal)\n",
    "f1 = f1_score(y_true=ytest, y_pred=pred)\n",
    "print('Xtest result: ', f1_score(y_true=ytest, y_pred=pred))"
   ]
  },
  {
   "cell_type": "code",
   "execution_count": 30,
   "id": "db8720a2-a263-4980-a789-80811cc0bc65",
   "metadata": {},
   "outputs": [
    {
     "name": "stdout",
     "output_type": "stream",
     "text": [
      "Xtest result:  0.40272858454676635\n"
     ]
    }
   ],
   "source": [
    "# Encoded Imputed Log Normal Under-Sampled Data\n",
    "params = {'n_estimators': 5000, 'objective': 'binary', 'metric': 'binary_logloss', 'verbosity': -1,\n",
    "          'boosting_type': 'gbdt', 'early_stopping_rounds': 10,'class_weight': 'balanced',\n",
    "          'max_depth': 12, 'num_leaves': 792, 'colsample_bytree': 0.9, 'learning_rate': 0.024169195486965687, \n",
    "          'reg_alpha': 5.0, 'reg_lambda': 2.5, 'subsample': 0.06445086450108806, 'min_child_samples': 83}\n",
    "\n",
    "lgblnu = lightgbm.LGBMClassifier(**params)\n",
    "lgblnu.fit(Xtrain_log_normal_under, ytrain_under, \n",
    "        eval_set=[(Xtrain_log_normal_under, ytrain_under), (Xvalid_log_normal, yvalid)])\n",
    "pred = lgblnu.predict(Xtest_log_normal)\n",
    "f1 = f1_score(y_true=ytest, y_pred=pred)\n",
    "print('Xtest result: ', f1_score(y_true=ytest, y_pred=pred))"
   ]
  },
  {
   "cell_type": "code",
   "execution_count": 31,
   "id": "1fa34bba-003b-4f7c-8ed0-7a9fac23bafa",
   "metadata": {
    "scrolled": true
   },
   "outputs": [
    {
     "name": "stdout",
     "output_type": "stream",
     "text": [
      "Xtest result:  0.4022536687631027\n"
     ]
    }
   ],
   "source": [
    "# Encoded Imputed Log Normal Under-Sampled Data With PCA\n",
    "params = {'n_estimators': 5000, 'objective': 'binary', 'metric': 'binary_logloss', 'verbosity': -1,\n",
    "          'boosting_type': 'gbdt', 'early_stopping_rounds': 10,'class_weight': 'balanced',\n",
    "          'max_depth': 7, 'num_leaves': 202, 'colsample_bytree': 0.6, 'learning_rate': 0.10376214122630514,\n",
    "          'reg_alpha': 5.0, 'reg_lambda': 3.5, 'subsample': 0.36525360253163935, 'min_child_samples': 50}\n",
    "\n",
    "lgblnup = lightgbm.LGBMClassifier(**params)\n",
    "lgblnup.fit(Xtrain_log_normal_under_pca, ytrain_under, \n",
    "        eval_set=[(Xtrain_log_normal_under_pca, ytrain_under), (Xvalid_log_normal_pca, yvalid)])\n",
    "pred = lgblnup.predict(Xtest_log_normal_pca)\n",
    "f1 = f1_score(y_true=ytest, y_pred=pred)\n",
    "print('Xtest result: ', f1_score(y_true=ytest, y_pred=pred))"
   ]
  },
  {
   "cell_type": "markdown",
   "id": "67a5c918-9eaf-439f-adf2-f51b15becb4d",
   "metadata": {
    "jp-MarkdownHeadingCollapsed": true
   },
   "source": [
    "<h3>Clip Normal Data</h3>"
   ]
  },
  {
   "cell_type": "code",
   "execution_count": 32,
   "id": "7c5b9091-427c-4961-a737-fd31952b33e4",
   "metadata": {},
   "outputs": [
    {
     "name": "stdout",
     "output_type": "stream",
     "text": [
      "Xtest result:  0.40102412073844496\n"
     ]
    }
   ],
   "source": [
    "# Encoded Imputed Clip Normal Data\n",
    "params = {'n_estimators': 5000, 'objective': 'binary', 'metric': 'binary_logloss', 'verbosity': -1,\n",
    "          'boosting_type': 'gbdt', 'early_stopping_rounds': 10,'class_weight': 'balanced',\n",
    "          'max_depth': 3, 'num_leaves': 472, 'colsample_bytree': 0.5, 'learning_rate': 0.12232101644285472,\n",
    "          'reg_alpha': 0.0, 'reg_lambda': 4.0, 'subsample': 0.7490870473609526, 'min_child_samples': 39}\n",
    "\n",
    "lgbcn = lightgbm.LGBMClassifier(**params)\n",
    "lgbcn.fit(Xtrain_clip_normal, ytrain, \n",
    "        eval_set=[(Xtrain_clip_normal, ytrain), (Xvalid_clip_normal, yvalid)])\n",
    "pred = lgbcn.predict(Xtest_clip_normal)\n",
    "f1 = f1_score(y_true=ytest, y_pred=pred)\n",
    "print('Xtest result: ', f1_score(y_true=ytest, y_pred=pred))"
   ]
  },
  {
   "cell_type": "code",
   "execution_count": 33,
   "id": "f897e0f2-7ecd-4727-98f4-168fda357ac4",
   "metadata": {},
   "outputs": [
    {
     "name": "stdout",
     "output_type": "stream",
     "text": [
      "Xtest result:  0.25408737603859555\n"
     ]
    }
   ],
   "source": [
    "# Encoded Imputed Clip Normal Over-Sampled Data\n",
    "params = {'n_estimators': 5000, 'objective': 'binary', 'metric': 'binary_logloss', 'verbosity': -1,\n",
    "          'boosting_type': 'gbdt', 'early_stopping_rounds': 10,'class_weight': 'balanced',\n",
    "          'max_depth': 12, 'num_leaves': 822, 'colsample_bytree': 0.55, 'learning_rate': 0.9792590489384606,\n",
    "          'reg_alpha': 0.0, 'reg_lambda': 1.5, 'subsample': 0.49264441710461976, 'min_child_samples': 12}\n",
    "\n",
    "lgbcno = lightgbm.LGBMClassifier(**params)\n",
    "lgbcno.fit(Xtrain_clip_normal_over, ytrain_over, \n",
    "        eval_set=[(Xtrain_clip_normal_over, ytrain_over), (Xvalid_clip_normal, yvalid)])\n",
    "pred = lgbcno.predict(Xtest_clip_normal)\n",
    "f1 = f1_score(y_true=ytest, y_pred=pred)\n",
    "print('Xtest result: ', f1_score(y_true=ytest, y_pred=pred))"
   ]
  },
  {
   "cell_type": "code",
   "execution_count": 34,
   "id": "ecf94717-6a46-4733-b625-b9aaab15ec43",
   "metadata": {},
   "outputs": [
    {
     "name": "stdout",
     "output_type": "stream",
     "text": [
      "Xtest result:  0.40325287207951466\n"
     ]
    }
   ],
   "source": [
    "# Encoded Imputed Clip Normal Under-Sampled Data\n",
    "params = {'n_estimators': 5000, 'objective': 'binary', 'metric': 'binary_logloss', 'verbosity': -1,\n",
    "          'boosting_type': 'gbdt', 'early_stopping_rounds': 10,'class_weight': 'balanced',\n",
    "          'max_depth': 9, 'num_leaves': 12, 'colsample_bytree': 0.9, 'learning_rate': 0.06591518154396729,\n",
    "          'reg_alpha': 4.5, 'reg_lambda': 2.5, 'subsample': 0.24200519959280795, 'min_child_samples': 92}\n",
    "\n",
    "lgbcnu = lightgbm.LGBMClassifier(**params)\n",
    "lgbcnu.fit(Xtrain_clip_normal_under, ytrain_under, \n",
    "        eval_set=[(Xtrain_clip_normal_under, ytrain_under), (Xvalid_clip_normal, yvalid)])\n",
    "pred = lgbcnu.predict(Xtest_clip_normal)\n",
    "f1 = f1_score(y_true=ytest, y_pred=pred)\n",
    "print('Xtest result: ', f1_score(y_true=ytest, y_pred=pred))"
   ]
  },
  {
   "cell_type": "code",
   "execution_count": 35,
   "id": "3d22bc98-69dd-4fbc-85b1-d91f73b54da9",
   "metadata": {
    "scrolled": true
   },
   "outputs": [
    {
     "name": "stdout",
     "output_type": "stream",
     "text": [
      "Xtest result:  0.4062540379894043\n"
     ]
    }
   ],
   "source": [
    "# Encoded Imputed Clip Normal Under-Sampled Data With PCA\n",
    "params = {'n_estimators': 5000, 'objective': 'binary', 'metric': 'binary_logloss', 'verbosity': -1,\n",
    "          'boosting_type': 'gbdt', 'early_stopping_rounds': 10,'class_weight': 'balanced',\n",
    "          'max_depth': 12, 'num_leaves': 622, 'colsample_bytree': 0.6, 'learning_rate': 0.006348480916855087, \n",
    "          'reg_alpha': 2.0, 'reg_lambda': 4.5, 'subsample': 0.3264718443152631, 'min_child_samples': 71}\n",
    "\n",
    "lgbcnup = lightgbm.LGBMClassifier(**params)\n",
    "lgbcnup.fit(Xtrain_clip_normal_under_pca, ytrain_under, \n",
    "        eval_set=[(Xtrain_clip_normal_under_pca, ytrain_under), (Xvalid_clip_normal_pca, yvalid)])\n",
    "pred = lgbcnup.predict(Xtest_clip_normal_pca)\n",
    "f1 = f1_score(y_true=ytest, y_pred=pred)\n",
    "print('Xtest result: ', f1_score(y_true=ytest, y_pred=pred))"
   ]
  },
  {
   "cell_type": "markdown",
   "id": "b7a73cfe-e0a4-4aa0-9208-d5263723ce73",
   "metadata": {
    "jp-MarkdownHeadingCollapsed": true
   },
   "source": [
    "<h3>Log Clip Normal Data</h3>"
   ]
  },
  {
   "cell_type": "code",
   "execution_count": 36,
   "id": "3d7c9489-10f6-4464-a777-141577f91732",
   "metadata": {},
   "outputs": [
    {
     "name": "stdout",
     "output_type": "stream",
     "text": [
      "Xtest result:  0.4030438918331295\n"
     ]
    }
   ],
   "source": [
    "# Encoded Imputed Log Clip Normal Data\n",
    "params = {'n_estimators': 5000, 'objective': 'binary', 'metric': 'binary_logloss', 'verbosity': -1,\n",
    "          'boosting_type': 'gbdt', 'early_stopping_rounds': 10,'class_weight': 'balanced',\n",
    "          'max_depth': 3, 'num_leaves': 92, 'colsample_bytree': 0.8500000000000001, 'learning_rate': 0.01860618800332124,\n",
    "          'reg_alpha': 0.5, 'reg_lambda': 1.5, 'subsample': 0.6690051462577666, 'min_child_samples': 100}\n",
    "\n",
    "lgblcn = lightgbm.LGBMClassifier(**params)\n",
    "lgblcn.fit(Xtrain_log_clip_normal, ytrain, \n",
    "        eval_set=[(Xtrain_log_clip_normal, ytrain), (Xvalid_log_clip_normal, yvalid)])\n",
    "pred = lgblcn.predict(Xtest_log_clip_normal)\n",
    "f1 = f1_score(y_true=ytest, y_pred=pred)\n",
    "print('Xtest result: ', f1_score(y_true=ytest, y_pred=pred))"
   ]
  },
  {
   "cell_type": "code",
   "execution_count": 37,
   "id": "17f23372-f873-44a8-bb98-c5bdce951e46",
   "metadata": {},
   "outputs": [
    {
     "name": "stdout",
     "output_type": "stream",
     "text": [
      "Xtest result:  0.18685767673621925\n"
     ]
    }
   ],
   "source": [
    "# Encoded Imputed Log Clip Normal Over-Sampled Data\n",
    "params = {'n_estimators': 5000, 'objective': 'binary', 'metric': 'binary_logloss', 'verbosity': -1,\n",
    "          'boosting_type': 'gbdt', 'early_stopping_rounds': 10,'class_weight': 'balanced',\n",
    "          'max_depth': 13, 'num_leaves': 652, 'colsample_bytree': 0.7, 'learning_rate': 0.9623660426493325, \n",
    "          'reg_alpha': 0.0, 'reg_lambda': 0.0, 'subsample': 0.38048882735387823, 'min_child_samples': 60}\n",
    "\n",
    "lgblcno = lightgbm.LGBMClassifier(**params)\n",
    "lgblcno.fit(Xtrain_log_clip_normal_over, ytrain_over,\n",
    "        eval_set=[(Xtrain_log_clip_normal_over, ytrain_over), (Xvalid_log_clip_normal, yvalid)])\n",
    "pred = lgblcno.predict(Xtest_log_clip_normal)\n",
    "f1 = f1_score(y_true=ytest, y_pred=pred)\n",
    "print('Xtest result: ', f1_score(y_true=ytest, y_pred=pred))"
   ]
  },
  {
   "cell_type": "code",
   "execution_count": 38,
   "id": "a5ff867e-830e-4775-a7ec-511c063a44e2",
   "metadata": {},
   "outputs": [
    {
     "name": "stdout",
     "output_type": "stream",
     "text": [
      "Xtest result:  0.4031028487361241\n"
     ]
    }
   ],
   "source": [
    "# Encoded Imputed Log Clip Normal Under-Sampled Data\n",
    "params = {'n_estimators': 5000, 'objective': 'binary', 'metric': 'binary_logloss', 'verbosity': -1,\n",
    "          'boosting_type': 'gbdt', 'early_stopping_rounds': 10,'class_weight': 'balanced',\n",
    "          'max_depth': 4, 'num_leaves': 202, 'colsample_bytree': 0.7, 'learning_rate': 0.05098137646159855, \n",
    "          'reg_alpha': 5.0, 'reg_lambda': 4.5, 'subsample': 0.45387139781445063, 'min_child_samples': 80}\n",
    "\n",
    "lgblcnu = lightgbm.LGBMClassifier(**params)\n",
    "lgblcnu.fit(Xtrain_log_clip_normal_under, ytrain_under,\n",
    "        eval_set=[(Xtrain_log_clip_normal_under, ytrain_under), (Xvalid_log_clip_normal, yvalid)])\n",
    "pred = lgblcnu.predict(Xtest_log_clip_normal)\n",
    "f1 = f1_score(y_true=ytest, y_pred=pred)\n",
    "print('Xtest result: ', f1_score(y_true=ytest, y_pred=pred))"
   ]
  },
  {
   "cell_type": "code",
   "execution_count": 39,
   "id": "ef6b3608-5f23-414d-889b-0a882cbb0108",
   "metadata": {
    "scrolled": true
   },
   "outputs": [
    {
     "name": "stdout",
     "output_type": "stream",
     "text": [
      "Xtest result:  0.40503616394320924\n"
     ]
    }
   ],
   "source": [
    "# Encoded Imputed Log Clip Normal Under-Sampled Data With PCA\n",
    "params = {'n_estimators': 5000, 'objective': 'binary', 'metric': 'binary_logloss', 'verbosity': -1,\n",
    "          'boosting_type': 'gbdt', 'early_stopping_rounds': 10,'class_weight': 'balanced',\n",
    "          'max_depth': 7, 'num_leaves': 392, 'colsample_bytree': 0.75, 'learning_rate': 0.0023716324949762135,\n",
    "          'reg_alpha': 5.0, 'reg_lambda': 5.0, 'subsample': 0.9869268174164925, 'min_child_samples': 64}\n",
    "\n",
    "lgblcnup = lightgbm.LGBMClassifier(**params)\n",
    "lgblcnup.fit(Xtrain_log_clip_normal_under_pca, ytrain_under,\n",
    "        eval_set=[(Xtrain_log_clip_normal_under_pca, ytrain_under), (Xvalid_log_clip_normal_pca, yvalid)])\n",
    "pred = lgblcnup.predict(Xtest_log_clip_normal_pca)\n",
    "f1 = f1_score(y_true=ytest, y_pred=pred)\n",
    "print('Xtest result: ', f1_score(y_true=ytest, y_pred=pred))"
   ]
  },
  {
   "cell_type": "code",
   "execution_count": null,
   "id": "ac8d85b3-e0eb-4582-96ed-8d6c5ea696f8",
   "metadata": {},
   "outputs": [],
   "source": []
  },
  {
   "cell_type": "code",
   "execution_count": null,
   "id": "3c5a7cc6-f4ff-4876-940d-86c53cbbfdf2",
   "metadata": {},
   "outputs": [],
   "source": []
  }
 ],
 "metadata": {
  "kernelspec": {
   "display_name": "Python 3 (ipykernel)",
   "language": "python",
   "name": "python3"
  },
  "language_info": {
   "codemirror_mode": {
    "name": "ipython",
    "version": 3
   },
   "file_extension": ".py",
   "mimetype": "text/x-python",
   "name": "python",
   "nbconvert_exporter": "python",
   "pygments_lexer": "ipython3",
   "version": "3.10.11"
  }
 },
 "nbformat": 4,
 "nbformat_minor": 5
}
