{
 "cells": [
  {
   "cell_type": "code",
   "execution_count": 1,
   "id": "e499c0bc-cbec-4d01-8ca5-177840863d03",
   "metadata": {},
   "outputs": [],
   "source": [
    "import pandas as pd\n",
    "import numpy as np\n",
    "import matplotlib.pyplot as plt\n",
    "from sklearn.model_selection import train_test_split, StratifiedKFold, RandomizedSearchCV\n",
    "from sklearn.preprocessing import MinMaxScaler\n",
    "from imblearn.over_sampling import SMOTE\n",
    "from imblearn.under_sampling import RandomUnderSampler\n",
    "from sklearn.metrics import f1_score\n",
    "import xgboost\n",
    "import optuna\n",
    "import category_encoders as ce\n",
    "\n",
    "\n",
    "import warnings\n",
    "warnings.filterwarnings('ignore')"
   ]
  },
  {
   "cell_type": "code",
   "execution_count": 2,
   "id": "34538f69-172d-4ee0-9eda-2fdccf343a39",
   "metadata": {},
   "outputs": [],
   "source": [
    "train_loan = pd.read_csv('credit risk train.csv')"
   ]
  },
  {
   "cell_type": "code",
   "execution_count": 3,
   "id": "91725ac9-a350-4450-9de9-8a48cbdcf773",
   "metadata": {},
   "outputs": [],
   "source": [
    "test_loan = pd.read_csv('credit risk test.csv')"
   ]
  },
  {
   "cell_type": "code",
   "execution_count": 4,
   "id": "355297d6-d16c-41c7-87c5-8ad5c8ba056f",
   "metadata": {},
   "outputs": [],
   "source": [
    "X = train_loan.drop(columns='bad_loans')\n",
    "y = train_loan.bad_loans"
   ]
  },
  {
   "cell_type": "code",
   "execution_count": 5,
   "id": "e21de6b3-5d6b-4591-93db-648c86bd7c51",
   "metadata": {
    "scrolled": true
   },
   "outputs": [],
   "source": [
    "# pymnt_plan has only one value\n",
    "X.drop(columns='pymnt_plan', inplace=True)"
   ]
  },
  {
   "cell_type": "code",
   "execution_count": 6,
   "id": "75171d8f-42fa-4966-a545-b5390caf8f08",
   "metadata": {},
   "outputs": [],
   "source": [
    "# drop columns with collinearity\n",
    "X.drop(columns=['funded_amnt', 'delinq_2yrs_zero', 'pub_rec'], inplace=True)"
   ]
  },
  {
   "cell_type": "code",
   "execution_count": null,
   "id": "80e47999-47a7-4323-a4ef-0409df21d60f",
   "metadata": {},
   "outputs": [],
   "source": []
  },
  {
   "cell_type": "markdown",
   "id": "e5bd6222-607d-4c18-a6b4-45a063f539cb",
   "metadata": {},
   "source": [
    "<h1>XGBoost</h1>"
   ]
  },
  {
   "cell_type": "markdown",
   "id": "161ab873-227d-4267-a440-bc96d91db7cf",
   "metadata": {},
   "source": [
    "<h3 dir='rtl'>\n",
    "    برای هر مدل، کد زیر در گوگل کولب اجرا و هایپرپارامترهای بهینه به این کد منتقل شده است.\n",
    "</h3>"
   ]
  },
  {
   "cell_type": "raw",
   "id": "3308b3cd-c26a-4806-b7c7-e68f2b2faac8",
   "metadata": {
    "scrolled": true
   },
   "source": [
    "def objective(trial):\n",
    "    params = {\n",
    "        'n_estimators': 3000,\n",
    "        'missing': np.nan,\n",
    "        'verbosity': 0,\n",
    "        'scale_pos_weight': 4.3,\n",
    "        'max_depth': trial.suggest_int('max_depth', 1, 100, step=1),\n",
    "        'colsample_bytree': trial.suggest_float('colsample_bytree', 0.5, 1.0, step=0.05),\n",
    "        'learning_rate': trial.suggest_float('learning_rate', 1e-3, 0.5, log=True),\n",
    "        'reg_alpha': trial.suggest_float('reg_alpha', 0, 5, step=0.5),\n",
    "        'reg_lambda': trial.suggest_float('reg_lambda', 0, 5, step=0.5),\n",
    "        'subsample': trial.suggest_float('subsample', 0.05, 1.0),\n",
    "        'min_child_weight': trial.suggest_int('min_child_weight', 1, 20),\n",
    "    }\n",
    "\n",
    "    xgb = xgboost.XGBClassifier(**params)\n",
    "    xgb.fit(Xtrain, ytrain, \n",
    "            eval_set=[(Xtrain, ytrain), (Xvalid, yvalid)], \n",
    "            early_stopping_rounds=10, verbose=1000)\n",
    "    \n",
    "    pred = xgb.predict(Xtest)\n",
    "    f1 = f1_score(y_true=ytest, y_pred=pred)\n",
    "    return f1\n",
    "\n",
    "study = optuna.create_study(direction='maximize')\n",
    "study.optimize(objective, n_trials=100)"
   ]
  },
  {
   "cell_type": "markdown",
   "id": "a187b7e2-2705-47c0-b645-abb0a7acc4b9",
   "metadata": {
    "jp-MarkdownHeadingCollapsed": true
   },
   "source": [
    "<h3>Encoding</h3>"
   ]
  },
  {
   "cell_type": "code",
   "execution_count": 7,
   "id": "de820b7a-49fe-4964-a3b7-00ea6ccb614f",
   "metadata": {},
   "outputs": [],
   "source": [
    "cat_features = ['grade', 'home_ownership', 'purpose']\n",
    "encoder = ce.TargetEncoder(cols=cat_features)\n",
    "encoder.fit(X[cat_features], y)\n",
    "X_enc = pd.concat([X, encoder.transform(X[cat_features]).add_suffix('_enc')], axis=1)\n",
    "X_enc.drop(columns=['grade', 'home_ownership', 'purpose'], inplace=True)"
   ]
  },
  {
   "cell_type": "markdown",
   "id": "9aa7e6fd-3994-48c6-aa45-a96c47f83283",
   "metadata": {
    "jp-MarkdownHeadingCollapsed": true
   },
   "source": [
    "<h3>Model For Only Encoded Data</h3>"
   ]
  },
  {
   "cell_type": "code",
   "execution_count": 8,
   "id": "b7f33c66-4ef2-4bc8-8450-8fb5fa07b6e5",
   "metadata": {
    "scrolled": true
   },
   "outputs": [],
   "source": [
    "Xtrain, Xtest, ytrain, ytest = train_test_split(X_enc, y, stratify=y, test_size=0.3)\n",
    "Xtest, Xvalid, ytest, yvalid =  train_test_split(Xtest, ytest, stratify=ytest, test_size=0.5)"
   ]
  },
  {
   "cell_type": "code",
   "execution_count": 9,
   "id": "e8bee5a0-0c18-489e-b975-a9e200b2ceaf",
   "metadata": {},
   "outputs": [
    {
     "name": "stdout",
     "output_type": "stream",
     "text": [
      "Xtest result:  0.3958453548759377\n"
     ]
    }
   ],
   "source": [
    "# Only Encoded Data\n",
    "params = {'n_estimators': 3000, 'missing': np.nan, 'verbosity': 0, 'scale_pos_weight': 4.3,\n",
    "          'max_depth': 11, 'colsample_bytree': 0.5, 'learning_rate': 0.00346524895110463,\n",
    "          'reg_alpha': 4.0, 'reg_lambda': 0.0, 'subsample': 0.24208584032741026, 'min_child_weight': 20}\n",
    "\n",
    "xgb_enc = xgboost.XGBClassifier(**params)\n",
    "xgb_enc.fit(Xtrain, ytrain, eval_set=[(Xtrain, ytrain), (Xvalid, yvalid)], early_stopping_rounds=10, verbose=0)\n",
    "pred = xgb_enc.predict(Xtest)\n",
    "print('Xtest result: ', f1_score(y_true=ytest, y_pred=pred))"
   ]
  },
  {
   "cell_type": "markdown",
   "id": "7f3c3089-8374-4156-afd8-cc4a9c707304",
   "metadata": {
    "jp-MarkdownHeadingCollapsed": true
   },
   "source": [
    "<h3>Handling Missing Values</h3>"
   ]
  },
  {
   "cell_type": "code",
   "execution_count": 10,
   "id": "3d393b2f-9698-4b6a-bbff-425866c5f208",
   "metadata": {},
   "outputs": [],
   "source": [
    "X_enc_imp = X_enc.copy()\n",
    "X_enc_imp.payment_inc_ratio.fillna(0, inplace=True)\n",
    "X_enc_imp.fillna(-1, inplace=True)"
   ]
  },
  {
   "cell_type": "markdown",
   "id": "13e72ec0-532a-4e99-aa8e-a9d4ee1300fc",
   "metadata": {
    "jp-MarkdownHeadingCollapsed": true
   },
   "source": [
    "<h3>Train Test Split</h3>"
   ]
  },
  {
   "cell_type": "code",
   "execution_count": 11,
   "id": "beeb24bd-fa47-4f7e-ab77-65b6b5a5862c",
   "metadata": {
    "scrolled": true
   },
   "outputs": [],
   "source": [
    "Xtrain, Xtest, ytrain, ytest = train_test_split(X_enc_imp, y, stratify=y, test_size=0.3)\n",
    "Xtest, Xvalid, ytest, yvalid =  train_test_split(Xtest, ytest, stratify=ytest, test_size=0.5)"
   ]
  },
  {
   "cell_type": "markdown",
   "id": "884dc72e-ba75-46c6-ad2b-29a8550ad26d",
   "metadata": {
    "jp-MarkdownHeadingCollapsed": true
   },
   "source": [
    "<h3>Handling Outliers</h3>"
   ]
  },
  {
   "cell_type": "code",
   "execution_count": 12,
   "id": "ee933de1-888f-4692-beb5-93628ec4edcb",
   "metadata": {},
   "outputs": [],
   "source": [
    "# Log Transform\n",
    "########### train #############\n",
    "Xtrain_log = Xtrain.copy()\n",
    "cols = ['payment_inc_ratio', 'open_acc']\n",
    "for c in cols:\n",
    "    Xtrain_log[c] = np.log(Xtrain_log[c] + 1.1)\n",
    "\n",
    "########### valid #############\n",
    "Xvalid_log = Xvalid.copy()\n",
    "cols = ['payment_inc_ratio', 'open_acc']\n",
    "for c in cols:\n",
    "    Xvalid_log[c] = np.log(Xvalid_log[c] + 1.1)\n",
    "\n",
    "########### test #############\n",
    "Xtest_log = Xtest.copy()\n",
    "cols = ['payment_inc_ratio', 'open_acc']\n",
    "for c in cols:\n",
    "    Xtest_log[c] = np.log(Xtest_log[c] + 1.1)"
   ]
  },
  {
   "cell_type": "code",
   "execution_count": 13,
   "id": "aa865152-e393-41c6-93f6-11eb3fc2410e",
   "metadata": {
    "scrolled": true
   },
   "outputs": [],
   "source": [
    "# z-score outlier detection\n",
    "########### train #############\n",
    "Xtrain_clip = Xtrain.copy()\n",
    "columns = ['loan_amnt', 'sub_grade_num', 'emp_length_num', 'dti', 'delinq_2yrs',\n",
    "           'inq_last_6mths', 'revol_util', 'payment_inc_ratio', 'open_acc']# ,'grade',] \n",
    "\n",
    "for c in columns:\n",
    "    if (Xtrain_clip[c].dtypes == int) | (Xtrain_clip[c].dtypes == float):\n",
    "        L = Xtrain[c].mean() - 3*Xtrain[c].std()\n",
    "        U = Xtrain[c].mean() + 3*Xtrain[c].std()\n",
    "        Xtrain_clip[c] = Xtrain_clip[c].clip(L,U)\n",
    "\n",
    "########### valid #############\n",
    "Xvalid_clip = Xvalid.copy()\n",
    "columns = ['loan_amnt', 'sub_grade_num', 'emp_length_num', 'dti', 'delinq_2yrs',\n",
    "           'inq_last_6mths', 'revol_util', 'payment_inc_ratio', 'open_acc']# ,'grade',]\n",
    "\n",
    "for c in columns:\n",
    "    if (Xvalid_clip[c].dtypes == int) | (Xvalid_clip[c].dtypes == float):\n",
    "        L = Xtrain[c].mean() - 3*Xtrain[c].std()\n",
    "        U = Xtrain[c].mean() + 3*Xtrain[c].std()\n",
    "        Xvalid_clip[c] =Xvalid_clip[c].clip(L,U)\n",
    "\n",
    "########### test #############\n",
    "Xtest_clip = Xtest.copy()\n",
    "columns = ['loan_amnt', 'sub_grade_num', 'emp_length_num', 'dti', 'delinq_2yrs',\n",
    "           'inq_last_6mths', 'revol_util', 'payment_inc_ratio', 'open_acc']# ,'grade',]\n",
    "\n",
    "for c in columns:\n",
    "    if (Xtest_clip[c].dtypes == int) | (Xtest_clip[c].dtypes == float):\n",
    "        L = Xtrain[c].mean() - 3*Xtrain[c].std()\n",
    "        U = Xtrain[c].mean() + 3*Xtrain[c].std()\n",
    "        Xtest_clip[c] =Xtest_clip[c].clip(L,U)"
   ]
  },
  {
   "cell_type": "code",
   "execution_count": 14,
   "id": "88c98573-1a0a-4afa-a601-f07ee3b1bc3d",
   "metadata": {},
   "outputs": [],
   "source": [
    "# Log and z-score\n",
    "########### train #############\n",
    "Xtrain_log_clip = Xtrain_clip.drop(columns=['payment_inc_ratio', 'open_acc'])\n",
    "Xtrain_log_clip = pd.concat([Xtrain_log_clip, Xtrain_log.loc[:,['payment_inc_ratio', 'open_acc']]], axis=1)\n",
    "\n",
    "########### valid #############\n",
    "Xvalid_log_clip = Xvalid_clip.drop(columns=['payment_inc_ratio', 'open_acc'])\n",
    "Xvalid_log_clip = pd.concat([Xvalid_log_clip, Xvalid_log.loc[:,['payment_inc_ratio', 'open_acc']]], axis=1)\n",
    "\n",
    "########### test #############\n",
    "Xtest_log_clip = Xtest_clip.drop(columns=['payment_inc_ratio', 'open_acc'])\n",
    "Xtest_log_clip = pd.concat([Xtest_log_clip, Xtest_log.loc[:,['payment_inc_ratio', 'open_acc']]], axis=1)"
   ]
  },
  {
   "cell_type": "code",
   "execution_count": null,
   "id": "fc80695b-e9dc-4408-aa51-2394aade3c86",
   "metadata": {},
   "outputs": [],
   "source": []
  },
  {
   "cell_type": "markdown",
   "id": "d5fd29af-6336-4100-9b46-52c5eb374a41",
   "metadata": {
    "jp-MarkdownHeadingCollapsed": true
   },
   "source": [
    "<h3>Normalization: MinMaxScaler</h3>"
   ]
  },
  {
   "cell_type": "code",
   "execution_count": 15,
   "id": "ea49bc40-cea0-494d-8fb3-f7d37bfbd9c4",
   "metadata": {
    "scrolled": true
   },
   "outputs": [],
   "source": [
    "# Normalization\n",
    "mmscaler = MinMaxScaler()\n",
    "\n",
    "Xtrain_normal = mmscaler.fit_transform(Xtrain)\n",
    "Xtrain_normal = pd.DataFrame(Xtrain_normal, columns=Xtrain.columns, index=Xtrain.index)\n",
    "\n",
    "Xvalid_normal = mmscaler.transform(Xvalid)\n",
    "Xvalid_normal = pd.DataFrame(Xvalid_normal, columns=Xvalid.columns, index=Xvalid.index)\n",
    "\n",
    "Xtest_normal = mmscaler.transform(Xtest)\n",
    "Xtest_normal = pd.DataFrame(Xtest_normal, columns=Xtest.columns, index=Xtest.index)\n",
    "\n",
    "#############################\n",
    "Xtrain_log_normal = mmscaler.fit_transform(Xtrain_log)\n",
    "Xtrain_log_normal = pd.DataFrame(Xtrain_log_normal, columns=Xtrain_log.columns, index=Xtrain_log.index)\n",
    "\n",
    "Xvalid_log_normal = mmscaler.transform(Xvalid_log)\n",
    "Xvalid_log_normal = pd.DataFrame(Xvalid_log_normal, columns=Xvalid_log.columns, index=Xvalid_log.index)\n",
    "\n",
    "Xtest_log_normal = mmscaler.transform(Xtest_log)\n",
    "Xtest_log_normal = pd.DataFrame(Xtest_log_normal, columns=Xtest_log.columns, index=Xtest_log.index)\n",
    "\n",
    "#############################\n",
    "Xtrain_clip_normal = mmscaler.fit_transform(Xtrain_clip)\n",
    "Xtrain_clip_normal = pd.DataFrame(Xtrain_clip_normal, columns=Xtrain_clip.columns, index=Xtrain_clip.index)\n",
    "\n",
    "Xvalid_clip_normal = mmscaler.transform(Xvalid_clip)\n",
    "Xvalid_clip_normal = pd.DataFrame(Xvalid_clip_normal, columns=Xvalid_clip.columns, index=Xvalid_clip.index)\n",
    "\n",
    "Xtest_clip_normal = mmscaler.transform(Xtest_clip)\n",
    "Xtest_clip_normal = pd.DataFrame(Xtest_clip_normal, columns=Xtest_clip.columns, index=Xtest_clip.index)\n",
    "\n",
    "#############################\n",
    "Xtrain_log_clip_normal = mmscaler.fit_transform(Xtrain_log_clip)\n",
    "Xtrain_log_clip_normal = pd.DataFrame(Xtrain_log_clip_normal, columns=Xtrain_log_clip.columns, index=Xtrain_log_clip.index)\n",
    "\n",
    "Xvalid_log_clip_normal = mmscaler.transform(Xvalid_log_clip)\n",
    "Xvalid_log_clip_normal = pd.DataFrame(Xvalid_log_clip_normal, columns=Xvalid_log_clip.columns, index=Xvalid_log_clip.index)\n",
    "\n",
    "Xtest_log_clip_normal = mmscaler.transform(Xtest_log_clip)\n",
    "Xtest_log_clip_normal = pd.DataFrame(Xtest_log_clip_normal, columns=Xtest_log_clip.columns, index=Xtest_log_clip.index)"
   ]
  },
  {
   "cell_type": "code",
   "execution_count": null,
   "id": "326ae3c0-846f-4291-baf5-82750946f5db",
   "metadata": {},
   "outputs": [],
   "source": []
  },
  {
   "cell_type": "markdown",
   "id": "6957de77-6ab8-4e40-b264-50150e1485e6",
   "metadata": {
    "jp-MarkdownHeadingCollapsed": true
   },
   "source": [
    "<h3>Over Sampling</h3>"
   ]
  },
  {
   "cell_type": "code",
   "execution_count": 16,
   "id": "3e496bc1-a883-4d7f-ad49-4bb84bd59b3e",
   "metadata": {},
   "outputs": [],
   "source": [
    "# Over-Sampling\n",
    "over_sampler = SMOTE()\n",
    "\n",
    "########### train #############\n",
    "Xtrain_over, ytrain_over = over_sampler.fit_resample(Xtrain, ytrain)\n",
    "Xtrain_normal_over, ytrain_normal_over = over_sampler.fit_resample(Xtrain_normal, ytrain)\n",
    "Xtrain_log_normal_over, ytrain_log_normal_over = over_sampler.fit_resample(Xtrain_log_normal, ytrain)\n",
    "Xtrain_clip_normal_over, ytrain_clip_normal_over = over_sampler.fit_resample(Xtrain_clip_normal, ytrain)\n",
    "Xtrain_log_clip_normal_over, ytrain_log_clip_normal_over = over_sampler.fit_resample(Xtrain_log_clip_normal, ytrain)"
   ]
  },
  {
   "cell_type": "markdown",
   "id": "95141fa2-e738-4d13-af4c-6a170828bb80",
   "metadata": {
    "jp-MarkdownHeadingCollapsed": true
   },
   "source": [
    "<h3>Under Sampling</h3>"
   ]
  },
  {
   "cell_type": "code",
   "execution_count": 17,
   "id": "09ce56d3-6275-43d5-81b3-36f565e88c5a",
   "metadata": {},
   "outputs": [],
   "source": [
    "# Under-Sampling\n",
    "under_sampler = RandomUnderSampler()\n",
    "\n",
    "########### train #############\n",
    "Xtrain_under, ytrain_under = under_sampler.fit_resample(Xtrain, ytrain)\n",
    "Xtrain_normal_under, ytrain_normal_under = under_sampler.fit_resample(Xtrain_normal, ytrain)\n",
    "Xtrain_log_normal_under, ytrain_log_normal_under = under_sampler.fit_resample(Xtrain_log_normal, ytrain)\n",
    "Xtrain_clip_normal_under, ytrain_clip_normal_under = under_sampler.fit_resample(Xtrain_clip_normal, ytrain)\n",
    "Xtrain_log_clip_normal_under, ytrain_log_clip_normal_under = under_sampler.fit_resample(Xtrain_log_clip_normal, ytrain)"
   ]
  },
  {
   "cell_type": "markdown",
   "id": "60a2e4a3-b5e5-4d6d-a0d5-693e085ee4cf",
   "metadata": {
    "jp-MarkdownHeadingCollapsed": true
   },
   "source": [
    "<h3>PCA</h3>"
   ]
  },
  {
   "cell_type": "code",
   "execution_count": 18,
   "id": "7915fead-40f8-4c96-85c3-a988d9026951",
   "metadata": {},
   "outputs": [],
   "source": [
    "# PCA with Over Sampled Data\n",
    "from sklearn.decomposition import PCA\n",
    "pca = PCA(n_components=0.99)\n",
    "\n",
    "Xtrain_pca = pd.DataFrame(pca.fit_transform(Xtrain_over), index=Xtrain_over.index)\n",
    "Xtrain_over_pca = pd.concat([Xtrain_over, Xtrain_pca], axis=1)\n",
    "Xtrain_over_pca.columns=Xtrain_over_pca.columns.astype(str)\n",
    "\n",
    "Xvalid_pca = pd.DataFrame(pca.transform(Xvalid), index=Xvalid.index)\n",
    "Xvalid_pca = pd.concat([Xvalid, Xvalid_pca], axis=1)\n",
    "Xvalid_pca.columns = Xvalid_pca.columns.astype(str)\n",
    "\n",
    "Xtest_pca = pd.DataFrame(pca.transform(Xtest), index=Xtest.index)\n",
    "Xtest_pca = pd.concat([Xtest, Xtest_pca], axis=1)\n",
    "Xtest_pca.columns = Xtest_pca.columns.astype(str)\n",
    "\n",
    "###########################################\n",
    "Xtrain_normal_pca = pd.DataFrame(pca.fit_transform(Xtrain_normal_over), index=Xtrain_normal_over.index)\n",
    "Xtrain_normal_over_pca = pd.concat([Xtrain_normal_over, Xtrain_normal_pca], axis=1)\n",
    "Xtrain_normal_over_pca.columns=Xtrain_normal_over_pca.columns.astype(str)\n",
    "\n",
    "Xvalid_normal_pca = pd.DataFrame(pca.transform(Xvalid_normal), index=Xvalid_normal.index)\n",
    "Xvalid_normal_pca = pd.concat([Xvalid_normal, Xvalid_normal_pca], axis=1)\n",
    "Xvalid_normal_pca.columns = Xvalid_normal_pca.columns.astype(str)\n",
    "\n",
    "Xtest_normal_pca = pd.DataFrame(pca.transform(Xtest_normal), index=Xtest_normal.index)\n",
    "Xtest_normal_pca = pd.concat([Xtest_normal, Xtest_normal_pca], axis=1)\n",
    "Xtest_normal_pca.columns = Xtest_normal_pca.columns.astype(str)\n",
    "\n",
    "###########################################\n",
    "Xtrain_log_normal_pca = pd.DataFrame(pca.fit_transform(Xtrain_log_normal_over), index=Xtrain_log_normal_over.index)\n",
    "Xtrain_log_normal_over_pca = pd.concat([Xtrain_log_normal_over, Xtrain_log_normal_pca], axis=1)\n",
    "Xtrain_log_normal_over_pca.columns=Xtrain_log_normal_over_pca.columns.astype(str)\n",
    "\n",
    "Xvalid_log_normal_pca = pd.DataFrame(pca.transform(Xvalid_log_normal), index=Xvalid_log_normal.index)\n",
    "Xvalid_log_normal_pca = pd.concat([Xvalid_log_normal, Xvalid_log_normal_pca], axis=1)\n",
    "Xvalid_log_normal_pca.columns = Xvalid_log_normal_pca.columns.astype(str)\n",
    "\n",
    "Xtest_log_normal_pca = pd.DataFrame(pca.transform(Xtest_log_normal), index=Xtest_log_normal.index)\n",
    "Xtest_log_normal_pca = pd.concat([Xtest_log_normal, Xtest_log_normal_pca], axis=1)\n",
    "Xtest_log_normal_pca.columns = Xtest_log_normal_pca.columns.astype(str)\n",
    "\n",
    "###########################################\n",
    "Xtrain_clip_normal_pca = pd.DataFrame(pca.fit_transform(Xtrain_clip_normal_over), index=Xtrain_clip_normal_over.index)\n",
    "Xtrain_clip_normal_over_pca = pd.concat([Xtrain_clip_normal_over, Xtrain_clip_normal_pca], axis=1)\n",
    "Xtrain_clip_normal_over_pca.columns=Xtrain_clip_normal_over_pca.columns.astype(str)\n",
    "\n",
    "Xvalid_clip_normal_pca = pd.DataFrame(pca.transform(Xvalid_clip_normal), index=Xvalid_clip_normal.index)\n",
    "Xvalid_clip_normal_pca = pd.concat([Xvalid_clip_normal, Xvalid_clip_normal_pca], axis=1)\n",
    "Xvalid_clip_normal_pca.columns=Xvalid_clip_normal_pca.columns.astype(str)\n",
    "\n",
    "Xtest_clip_normal_pca = pd.DataFrame(pca.transform(Xtest_clip_normal), index=Xtest_clip_normal.index)\n",
    "Xtest_clip_normal_pca = pd.concat([Xtest_clip_normal, Xtest_clip_normal_pca], axis=1)\n",
    "Xtest_clip_normal_pca.columns=Xtest_clip_normal_pca.columns.astype(str)\n",
    "\n",
    "###########################################\n",
    "Xtrain_log_clip_normal_pca = pd.DataFrame(pca.fit_transform(Xtrain_log_clip_normal_over), index=Xtrain_log_clip_normal_over.index)\n",
    "Xtrain_log_clip_normal_over_pca = pd.concat([Xtrain_log_clip_normal_over, Xtrain_log_clip_normal_pca], axis=1)\n",
    "Xtrain_log_clip_normal_over_pca.columns=Xtrain_log_clip_normal_over_pca.columns.astype(str)\n",
    "\n",
    "Xvalid_log_clip_normal_pca = pd.DataFrame(pca.transform(Xvalid_log_clip_normal), index=Xvalid_log_clip_normal.index)\n",
    "Xvalid_log_clip_normal_pca = pd.concat([Xvalid_log_clip_normal, Xvalid_log_clip_normal_pca], axis=1)\n",
    "Xvalid_log_clip_normal_pca.columns=Xvalid_log_clip_normal_pca.columns.astype(str)\n",
    "\n",
    "Xtest_log_clip_normal_pca = pd.DataFrame(pca.transform(Xtest_log_clip_normal), index=Xtest_log_clip_normal.index)\n",
    "Xtest_log_clip_normal_pca = pd.concat([Xtest_log_clip_normal, Xtest_log_clip_normal_pca], axis=1)\n",
    "Xtest_log_clip_normal_pca.columns=Xtest_log_clip_normal_pca.columns.astype(str)\n"
   ]
  },
  {
   "cell_type": "markdown",
   "id": "e2b1ac25-8708-4b5e-996e-e5ac7884b649",
   "metadata": {
    "jp-MarkdownHeadingCollapsed": true
   },
   "source": [
    "<h3>Train Data</h3>"
   ]
  },
  {
   "cell_type": "code",
   "execution_count": 19,
   "id": "ce8a2391-f8f4-4e4e-92e9-0272ac53eab8",
   "metadata": {},
   "outputs": [
    {
     "name": "stdout",
     "output_type": "stream",
     "text": [
      "Xtest result:  0.4046965538273864\n"
     ]
    }
   ],
   "source": [
    "# Encoded Imputed Data\n",
    "params = {'n_estimators': 3000, 'missing': np.nan, 'verbosity': 0, 'scale_pos_weight': 4.3,\n",
    "          'max_depth': 95, 'colsample_bytree': 0.75, 'learning_rate': 0.001855037241855926,\n",
    "          'reg_alpha': 1.0, 'reg_lambda': 4.0, 'subsample': 0.18408267179093574, 'min_child_weight': 19}\n",
    "\n",
    "xgb = xgboost.XGBClassifier(**params)\n",
    "xgb.fit(Xtrain, ytrain, \n",
    "        eval_set=[(Xtrain, ytrain), (Xvalid, yvalid)], \n",
    "        early_stopping_rounds=10, verbose=0)\n",
    "pred = xgb.predict(Xtest)\n",
    "print('Xtest result: ', f1_score(y_true=ytest, y_pred=pred))"
   ]
  },
  {
   "cell_type": "code",
   "execution_count": 20,
   "id": "2241438b-f1f5-4baf-a07f-4ba56ab9ed8a",
   "metadata": {},
   "outputs": [
    {
     "name": "stdout",
     "output_type": "stream",
     "text": [
      "Xtest result:  0.4007680702235633\n"
     ]
    }
   ],
   "source": [
    "# Encoded Imputed Over-Sampled Data\n",
    "params = {'n_estimators': 3000, 'missing': np.nan, 'verbosity': 0, 'scale_pos_weight': 4.3,\n",
    "          'max_depth': 95, 'colsample_bytree': 0.75, 'learning_rate': 0.001855037241855926,\n",
    "          'reg_alpha': 1.0, 'reg_lambda': 4.0, 'subsample': 0.18408267179093574, 'min_child_weight': 19}\n",
    "\n",
    "xgbo = xgboost.XGBClassifier(**params)\n",
    "xgbo.fit(Xtrain_over, ytrain_over, \n",
    "         eval_set=[(Xtrain_over, ytrain_over), (Xvalid, yvalid)], \n",
    "         early_stopping_rounds=10, verbose=0)\n",
    "pred = xgbo.predict(Xtest)\n",
    "print('Xtest result: ', f1_score(y_true=ytest, y_pred=pred))"
   ]
  },
  {
   "cell_type": "code",
   "execution_count": 21,
   "id": "b5bc39ca-d36c-4b1c-864a-e537d54a7e5b",
   "metadata": {},
   "outputs": [
    {
     "name": "stdout",
     "output_type": "stream",
     "text": [
      "Xtest result:  0.36980556614563476\n"
     ]
    }
   ],
   "source": [
    "# Encoded Imputed Under-Sampled Data\n",
    "params = {'n_estimators': 3000, 'missing': np.nan, 'verbosity': 0, 'scale_pos_weight': 4.3,\n",
    "          'max_depth': 96, 'colsample_bytree': 0.95, 'learning_rate': 0.024306139084256037,\n",
    "          'reg_alpha': 1.5, 'reg_lambda': 2.0, 'subsample': 0.9374810434415121, 'min_child_weight': 8}\n",
    "\n",
    "xgbu = xgboost.XGBClassifier(**params)\n",
    "xgbu.fit(Xtrain_under, ytrain_under, \n",
    "         eval_set=[(Xtrain_under, ytrain_under), (Xvalid, yvalid)],\n",
    "         early_stopping_rounds=10, verbose=0)\n",
    "pred = xgbu.predict(Xtest)\n",
    "print('Xtest result: ', f1_score(y_true=ytest, y_pred=pred))"
   ]
  },
  {
   "cell_type": "code",
   "execution_count": 22,
   "id": "00885e4b-5f27-44af-83fd-9be68cb60ab2",
   "metadata": {
    "scrolled": true
   },
   "outputs": [
    {
     "name": "stdout",
     "output_type": "stream",
     "text": [
      "Xtest result:  0.4063617309826162\n"
     ]
    }
   ],
   "source": [
    "# Encoded Imputed Over-Sampled Data With PCA\n",
    "params = {'n_estimators': 3000, 'missing': np.nan, 'verbosity': 0, 'scale_pos_weight': 4.3,\n",
    "          'max_depth': 56, 'colsample_bytree': 0.55, 'learning_rate': 0.006779480252541074,\n",
    "          'reg_alpha': 4.0, 'reg_lambda': 0.5, 'subsample': 0.0599803312372334, 'min_child_weight': 20}\n",
    "\n",
    "xgbop = xgboost.XGBClassifier(**params)\n",
    "xgbop.fit(Xtrain_over_pca, ytrain_over, \n",
    "          eval_set=[(Xtrain_over_pca, ytrain_over), (Xvalid_pca, yvalid)],\n",
    "          early_stopping_rounds=10, verbose=0)\n",
    "pred = xgbop.predict(Xtest_pca)\n",
    "print('Xtest result: ', f1_score(y_true=ytest, y_pred=pred))"
   ]
  },
  {
   "cell_type": "markdown",
   "id": "8acfd09e-cb88-4ccd-bf12-fb396c021254",
   "metadata": {
    "jp-MarkdownHeadingCollapsed": true
   },
   "source": [
    "<h3>Normal Data</h3>"
   ]
  },
  {
   "cell_type": "code",
   "execution_count": 23,
   "id": "bae29ea3-f5d3-453f-862b-938a54208462",
   "metadata": {},
   "outputs": [
    {
     "name": "stdout",
     "output_type": "stream",
     "text": [
      "Xtest result:  0.39910170035290343\n"
     ]
    }
   ],
   "source": [
    "# Encoded Imputed Normal Data\n",
    "params = {'n_estimators': 3000, 'missing': np.nan, 'verbosity': 0, 'scale_pos_weight': 4.3,\n",
    "          'max_depth': 60, 'colsample_bytree': 0.65, 'learning_rate': 0.0010772332826208826, \n",
    "          'reg_alpha': 4.0, 'reg_lambda': 2.0, 'subsample': 0.415940817687507, 'min_child_weight': 12}\n",
    "\n",
    "xgbn = xgboost.XGBClassifier(**params)\n",
    "xgbn.fit(Xtrain_normal, ytrain, \n",
    "        eval_set=[(Xtrain_normal, ytrain), (Xvalid_normal, yvalid)], \n",
    "        early_stopping_rounds=10, verbose=0)\n",
    "pred = xgbn.predict(Xtest_normal)\n",
    "print('Xtest result: ', f1_score(y_true=ytest, y_pred=pred))"
   ]
  },
  {
   "cell_type": "code",
   "execution_count": 24,
   "id": "9cfde551-15d3-4c96-b828-0772193d5e95",
   "metadata": {},
   "outputs": [
    {
     "name": "stdout",
     "output_type": "stream",
     "text": [
      "Xtest result:  0.40663470260463913\n"
     ]
    }
   ],
   "source": [
    "# Encoded Imputed Normal Over-Sampled Data\n",
    "params = {'n_estimators': 3000, 'missing': np.nan, 'verbosity': 0, 'scale_pos_weight': 4.3,\n",
    "          'max_depth': 8, 'colsample_bytree': 0.6, 'learning_rate': 0.004983150455160385, \n",
    "          'reg_alpha': 4.0, 'reg_lambda': 5.0, 'subsample': 0.6147893306916671, 'min_child_weight': 7}\n",
    "\n",
    "xgbno = xgboost.XGBClassifier(**params)\n",
    "xgbno.fit(Xtrain_normal_over, \n",
    "         ytrain_over, eval_set=[(Xtrain_normal_over, ytrain_over), (Xvalid_normal, yvalid)], \n",
    "         early_stopping_rounds=10, verbose=0)\n",
    "pred = xgbno.predict(Xtest_normal)\n",
    "print('Xtest result: ', f1_score(y_true=ytest, y_pred=pred))"
   ]
  },
  {
   "cell_type": "code",
   "execution_count": 25,
   "id": "a7db555f-5025-4fcf-b473-8880e7f0173e",
   "metadata": {},
   "outputs": [
    {
     "name": "stdout",
     "output_type": "stream",
     "text": [
      "Xtest result:  0.3705665374066017\n"
     ]
    }
   ],
   "source": [
    "# Encoded Imputed Normal Under-Sampled Data\n",
    "params = {'n_estimators': 3000, 'missing': np.nan, 'verbosity': 0, 'scale_pos_weight': 4.3,\n",
    "          'max_depth': 56, 'colsample_bytree': 0.8, 'learning_rate': 0.007471892498790771, \n",
    "          'reg_alpha': 1.0, 'reg_lambda': 2.0, 'subsample': 0.849772056255833, 'min_child_weight': 5}\n",
    "\n",
    "xgbnu = xgboost.XGBClassifier(**params)\n",
    "xgbnu.fit(Xtrain_normal_under, ytrain_under, \n",
    "         eval_set=[(Xtrain_normal_under, ytrain_under), (Xvalid_normal, yvalid)], \n",
    "         early_stopping_rounds=10, verbose=0)\n",
    "pred = xgbnu.predict(Xtest_normal)\n",
    "print('Xtest result: ', f1_score(y_true=ytest, y_pred=pred))"
   ]
  },
  {
   "cell_type": "code",
   "execution_count": 26,
   "id": "2d26509e-f5a6-4b34-8249-75157e7aaa9e",
   "metadata": {
    "scrolled": true
   },
   "outputs": [
    {
     "name": "stdout",
     "output_type": "stream",
     "text": [
      "Xtest result:  0.39048239895697523\n"
     ]
    }
   ],
   "source": [
    "# Encoded Imputed Normal Over-Sampled Data With PCA\n",
    "params = {'n_estimators': 3000, 'missing': np.nan, 'verbosity': 0, 'scale_pos_weight': 4.3,\n",
    "          'max_depth': 25, 'colsample_bytree': 0.55, 'learning_rate': 0.002849293382536758, \n",
    "          'reg_alpha': 4.0, 'reg_lambda': 2.5, 'subsample': 0.30396641193745594, 'min_child_weight': 7}\n",
    "\n",
    "xgbnop = xgboost.XGBClassifier(**params)\n",
    "xgbnop.fit(Xtrain_normal_over_pca, ytrain_over, \n",
    "           eval_set=[(Xtrain_normal_over_pca, ytrain_over), (Xvalid_normal_pca, yvalid)], \n",
    "           early_stopping_rounds=10, verbose=0)\n",
    "pred = xgbnop.predict(Xtest_normal_pca)\n",
    "print('Xtest result: ', f1_score(y_true=ytest, y_pred=pred))"
   ]
  },
  {
   "cell_type": "markdown",
   "id": "8531cdef-a462-4a3e-8815-98df7bf1199c",
   "metadata": {
    "jp-MarkdownHeadingCollapsed": true
   },
   "source": [
    "<h3>Log Normal Data</h3>"
   ]
  },
  {
   "cell_type": "code",
   "execution_count": 27,
   "id": "e252b8bd-44cd-456b-9a38-dac71e547140",
   "metadata": {},
   "outputs": [
    {
     "name": "stdout",
     "output_type": "stream",
     "text": [
      "Xtest result:  0.40963855421686746\n"
     ]
    }
   ],
   "source": [
    "# Encoded Imputed Log Normal Data\n",
    "params = {'n_estimators': 3000, 'missing': np.nan, 'verbosity': 0, 'scale_pos_weight': 4.3,\n",
    "          'max_depth': 3, 'colsample_bytree': 0.75, 'learning_rate': 0.08057545858414107, \n",
    "          'reg_alpha': 5.0, 'reg_lambda': 0.5, 'subsample': 0.5318325637625425, 'min_child_weight': 16}\n",
    "\n",
    "xgbln = xgboost.XGBClassifier(**params)\n",
    "xgbln.fit(Xtrain_log_normal, ytrain, \n",
    "        eval_set=[(Xtrain_log_normal, ytrain), (Xvalid_log_normal, yvalid)], \n",
    "        early_stopping_rounds=10, verbose=0)\n",
    "pred = xgbln.predict(Xtest_log_normal)\n",
    "print('Xtest result: ', f1_score(y_true=ytest, y_pred=pred))"
   ]
  },
  {
   "cell_type": "code",
   "execution_count": 28,
   "id": "869a2bca-1613-4550-8e5e-a71f256dc9d8",
   "metadata": {},
   "outputs": [
    {
     "name": "stdout",
     "output_type": "stream",
     "text": [
      "Xtest result:  0.4036222509702458\n"
     ]
    }
   ],
   "source": [
    "# Encoded Imputed Log Normal Over-Sampled Data\n",
    "params = {'n_estimators': 3000, 'missing': np.nan, 'verbosity': 0, 'scale_pos_weight': 4.3,\n",
    "          'max_depth': 4, 'colsample_bytree': 1.0, 'learning_rate': 0.041772911731862296,\n",
    "          'reg_alpha': 3.5, 'reg_lambda': 3.5, 'subsample': 0.39814802506020747, 'min_child_weight': 11}\n",
    "\n",
    "xgblno = xgboost.XGBClassifier(**params)\n",
    "xgblno.fit(Xtrain_log_normal_over, ytrain_over, \n",
    "         eval_set=[(Xtrain_log_normal_over, ytrain_over), (Xvalid_log_normal, yvalid)], \n",
    "         early_stopping_rounds=10, verbose=0)\n",
    "pred = xgblno.predict(Xtest_log_normal)\n",
    "print('Xtest result: ', f1_score(y_true=ytest, y_pred=pred))"
   ]
  },
  {
   "cell_type": "code",
   "execution_count": 29,
   "id": "db8720a2-a263-4980-a789-80811cc0bc65",
   "metadata": {},
   "outputs": [
    {
     "name": "stdout",
     "output_type": "stream",
     "text": [
      "Xtest result:  0.3650537123300694\n"
     ]
    }
   ],
   "source": [
    "# Encoded Imputed Log Normal Under-Sampled Data\n",
    "params = {'n_estimators': 3000, 'missing': np.nan, 'verbosity': 0, 'scale_pos_weight': 4.3,\n",
    "          'max_depth': 86, 'colsample_bytree': 0.5, 'learning_rate': 0.17202407790279978, \n",
    "          'reg_alpha': 2.0, 'reg_lambda': 2.5, 'subsample': 0.880394498507279, 'min_child_weight': 5}\n",
    "\n",
    "xgblnu = xgboost.XGBClassifier(**params)\n",
    "xgblnu.fit(Xtrain_log_normal_under, ytrain_under, \n",
    "         eval_set=[(Xtrain_log_normal_under, ytrain_under), (Xvalid_log_normal, yvalid)],\n",
    "         early_stopping_rounds=10, verbose=0)\n",
    "pred = xgblnu.predict(Xtest_log_normal)\n",
    "print('Xtest result: ', f1_score(y_true=ytest, y_pred=pred))"
   ]
  },
  {
   "cell_type": "code",
   "execution_count": 30,
   "id": "1fa34bba-003b-4f7c-8ed0-7a9fac23bafa",
   "metadata": {
    "scrolled": true
   },
   "outputs": [
    {
     "name": "stdout",
     "output_type": "stream",
     "text": [
      "Xtest result:  0.39854709418837675\n"
     ]
    }
   ],
   "source": [
    "# Encoded Imputed Log Normal Over-Sampled Data With PCA\n",
    "params = {'n_estimators': 3000, 'missing': np.nan, 'verbosity': 0, 'scale_pos_weight': 4.3,\n",
    "          'max_depth': 68, 'colsample_bytree': 1.0, 'learning_rate': 0.006596469437086368,\n",
    "          'reg_alpha': 0.0, 'reg_lambda': 1.5, 'subsample': 0.07925734506967524, 'min_child_weight': 20}\n",
    "\n",
    "xgblnop = xgboost.XGBClassifier(**params)\n",
    "xgblnop.fit(Xtrain_log_normal_over_pca, ytrain_over, \n",
    "          eval_set=[(Xtrain_log_normal_over_pca, ytrain_over), (Xvalid_log_normal_pca, yvalid)],\n",
    "          early_stopping_rounds=10, verbose=0)\n",
    "pred = xgblnop.predict(Xtest_log_normal_pca)\n",
    "print('Xtest result: ', f1_score(y_true=ytest, y_pred=pred))"
   ]
  },
  {
   "cell_type": "markdown",
   "id": "67a5c918-9eaf-439f-adf2-f51b15becb4d",
   "metadata": {
    "jp-MarkdownHeadingCollapsed": true
   },
   "source": [
    "<h3>Clip Normal Data</h3>"
   ]
  },
  {
   "cell_type": "code",
   "execution_count": 31,
   "id": "7c5b9091-427c-4961-a737-fd31952b33e4",
   "metadata": {},
   "outputs": [
    {
     "name": "stdout",
     "output_type": "stream",
     "text": [
      "Xtest result:  0.39531329597554765\n"
     ]
    }
   ],
   "source": [
    "# Encoded Imputed Clip Normal Data\n",
    "params = {'n_estimators': 3000, 'missing': np.nan, 'verbosity': 0, 'scale_pos_weight': 4.3,\n",
    "          'max_depth': 68, 'colsample_bytree': 0.75, 'learning_rate': 0.0010612071162546235,\n",
    "          'reg_alpha': 5.0, 'reg_lambda': 2.0, 'subsample': 0.5071775160024332, 'min_child_weight': 7}\n",
    "\n",
    "xgbcn = xgboost.XGBClassifier(**params)\n",
    "xgbcn.fit(Xtrain_clip_normal, ytrain, \n",
    "        eval_set=[(Xtrain_clip_normal, ytrain), (Xvalid_clip_normal, yvalid)], \n",
    "        early_stopping_rounds=10, verbose=0)\n",
    "pred = xgbcn.predict(Xtest_clip_normal)\n",
    "print('Xtest result: ', f1_score(y_true=ytest, y_pred=pred))"
   ]
  },
  {
   "cell_type": "code",
   "execution_count": 32,
   "id": "f897e0f2-7ecd-4727-98f4-168fda357ac4",
   "metadata": {},
   "outputs": [
    {
     "name": "stdout",
     "output_type": "stream",
     "text": [
      "Xtest result:  0.4023619884647075\n"
     ]
    }
   ],
   "source": [
    "# Encoded Imputed Clip Normal Over-Sampled Data\n",
    "params = {'n_estimators': 3000, 'missing': np.nan, 'verbosity': 0, 'scale_pos_weight': 4.3,\n",
    "          'max_depth': 59, 'colsample_bytree': 0.55, 'learning_rate': 0.0026688184026826007,\n",
    "          'reg_alpha': 4.0, 'reg_lambda': 0.5, 'subsample': 0.27937443663195477, 'min_child_weight': 13}\n",
    "\n",
    "xgbcno = xgboost.XGBClassifier(**params)\n",
    "xgbcno.fit(Xtrain_clip_normal_over, ytrain_over, \n",
    "         eval_set=[(Xtrain_clip_normal_over, ytrain_over), (Xvalid_clip_normal, yvalid)], \n",
    "         early_stopping_rounds=10, verbose=0)\n",
    "pred = xgbcno.predict(Xtest_clip_normal)\n",
    "print('Xtest result: ', f1_score(y_true=ytest, y_pred=pred))"
   ]
  },
  {
   "cell_type": "code",
   "execution_count": 33,
   "id": "ecf94717-6a46-4733-b625-b9aaab15ec43",
   "metadata": {},
   "outputs": [
    {
     "name": "stdout",
     "output_type": "stream",
     "text": [
      "Xtest result:  0.3656412157153447\n"
     ]
    }
   ],
   "source": [
    "# Encoded Imputed Clip Normal Under-Sampled Data\n",
    "params = {'n_estimators': 3000, 'missing': np.nan, 'verbosity': 0, 'scale_pos_weight': 4.3,\n",
    "          'max_depth': 49, 'colsample_bytree': 0.9, 'learning_rate': 0.03907852874823776,\n",
    "          'reg_alpha': 0.0, 'reg_lambda': 3.5, 'subsample': 0.840091848974702, 'min_child_weight': 13}\n",
    "\n",
    "xgbcnu = xgboost.XGBClassifier(**params)\n",
    "xgbcnu.fit(Xtrain_clip_normal_under, ytrain_under, \n",
    "         eval_set=[(Xtrain_clip_normal_under, ytrain_under), (Xvalid_clip_normal, yvalid)],\n",
    "         early_stopping_rounds=10, verbose=0)\n",
    "pred = xgbcnu.predict(Xtest_clip_normal)\n",
    "print('Xtest result: ', f1_score(y_true=ytest, y_pred=pred))"
   ]
  },
  {
   "cell_type": "code",
   "execution_count": 34,
   "id": "3d22bc98-69dd-4fbc-85b1-d91f73b54da9",
   "metadata": {
    "scrolled": true
   },
   "outputs": [
    {
     "name": "stdout",
     "output_type": "stream",
     "text": [
      "Xtest result:  0.3958592132505176\n"
     ]
    }
   ],
   "source": [
    "# Encoded Imputed Clip Normal Over-Sampled Data With PCA\n",
    "params = {'n_estimators': 3000, 'missing': np.nan, 'verbosity': 0, 'scale_pos_weight': 4.3,\n",
    "          'max_depth': 19, 'colsample_bytree': 0.8, 'learning_rate': 0.0021296467556728782, \n",
    "          'reg_alpha': 3.0, 'reg_lambda': 1.0, 'subsample': 0.3197178302282616, 'min_child_weight': 19}\n",
    "\n",
    "xgbcnop = xgboost.XGBClassifier(**params)\n",
    "xgbcnop.fit(Xtrain_clip_normal_over_pca, ytrain_over, \n",
    "          eval_set=[(Xtrain_clip_normal_over_pca, ytrain_over), (Xvalid_clip_normal_pca, yvalid)],\n",
    "          early_stopping_rounds=10, verbose=0)\n",
    "pred = xgbcnop.predict(Xtest_clip_normal_pca)\n",
    "print('Xtest result: ', f1_score(y_true=ytest, y_pred=pred))"
   ]
  },
  {
   "cell_type": "markdown",
   "id": "b7a73cfe-e0a4-4aa0-9208-d5263723ce73",
   "metadata": {
    "jp-MarkdownHeadingCollapsed": true
   },
   "source": [
    "<h3>Log Clip Normal Data</h3>"
   ]
  },
  {
   "cell_type": "code",
   "execution_count": 35,
   "id": "3d7c9489-10f6-4464-a777-141577f91732",
   "metadata": {},
   "outputs": [
    {
     "name": "stdout",
     "output_type": "stream",
     "text": [
      "Xtest result:  0.4004292503449333\n"
     ]
    }
   ],
   "source": [
    "# Encoded Imputed Log Clip Normal Data\n",
    "params = {'n_estimators': 3000, 'missing': np.nan, 'verbosity': 0, 'scale_pos_weight': 4.3,\n",
    "          'max_depth': 80, 'colsample_bytree': 0.55, 'learning_rate': 0.001046516488615697, \n",
    "          'reg_alpha': 1.5, 'reg_lambda': 1.5, 'subsample': 0.3236465629431227, 'min_child_weight': 20}\n",
    "\n",
    "xgblcn = xgboost.XGBClassifier(**params)\n",
    "xgblcn.fit(Xtrain_log_clip_normal, ytrain, \n",
    "        eval_set=[(Xtrain_log_clip_normal, ytrain), (Xvalid_log_clip_normal, yvalid)], \n",
    "        early_stopping_rounds=10, verbose=0)\n",
    "pred = xgblcn.predict(Xtest_log_clip_normal)\n",
    "print('Xtest result: ', f1_score(y_true=ytest, y_pred=pred))"
   ]
  },
  {
   "cell_type": "code",
   "execution_count": 36,
   "id": "17f23372-f873-44a8-bb98-c5bdce951e46",
   "metadata": {},
   "outputs": [
    {
     "name": "stdout",
     "output_type": "stream",
     "text": [
      "Xtest result:  0.39631336405529954\n"
     ]
    }
   ],
   "source": [
    "# Encoded Imputed Log Clip Normal Over-Sampled Data\n",
    "params = {'n_estimators': 3000, 'missing': np.nan, 'verbosity': 0, 'scale_pos_weight': 4.3,\n",
    "          'max_depth': 98, 'colsample_bytree': 0.55, 'learning_rate': 0.012449515349836843,\n",
    "          'reg_alpha': 4.0, 'reg_lambda': 3.0, 'subsample': 0.158065545096134, 'min_child_weight': 17}\n",
    "\n",
    "xgblcno = xgboost.XGBClassifier(**params)\n",
    "xgblcno.fit(Xtrain_log_clip_normal_over, ytrain_over, \n",
    "         eval_set=[(Xtrain_log_clip_normal_over, ytrain_over), (Xvalid_log_clip_normal, yvalid)], \n",
    "         early_stopping_rounds=10, verbose=0)\n",
    "pred = xgblcno.predict(Xtest_log_clip_normal)\n",
    "print('Xtest result: ', f1_score(y_true=ytest, y_pred=pred))"
   ]
  },
  {
   "cell_type": "code",
   "execution_count": 37,
   "id": "a5ff867e-830e-4775-a7ec-511c063a44e2",
   "metadata": {},
   "outputs": [
    {
     "name": "stdout",
     "output_type": "stream",
     "text": [
      "Xtest result:  0.3720707795313247\n"
     ]
    }
   ],
   "source": [
    "# Encoded Imputed Log Clip Normal Under-Sampled Data\n",
    "params = {'n_estimators': 3000, 'missing': np.nan, 'verbosity': 0, 'scale_pos_weight': 4.3,\n",
    "          'max_depth': 59, 'colsample_bytree': 0.8500000000000001, 'learning_rate': 0.11780385796506398, \n",
    "          'reg_alpha': 0.5, 'reg_lambda': 4.5, 'subsample': 0.7744236557697782, 'min_child_weight': 1}\n",
    "\n",
    "xgblcnu = xgboost.XGBClassifier(**params)\n",
    "xgblcnu.fit(Xtrain_log_clip_normal_under, ytrain_under, \n",
    "         eval_set=[(Xtrain_log_clip_normal_under, ytrain_under), (Xvalid_log_clip_normal, yvalid)],\n",
    "         early_stopping_rounds=10, verbose=0)\n",
    "pred = xgblcnu.predict(Xtest_log_clip_normal)\n",
    "print('Xtest result: ', f1_score(y_true=ytest, y_pred=pred))"
   ]
  },
  {
   "cell_type": "code",
   "execution_count": 38,
   "id": "ef6b3608-5f23-414d-889b-0a882cbb0108",
   "metadata": {
    "scrolled": true
   },
   "outputs": [
    {
     "name": "stdout",
     "output_type": "stream",
     "text": [
      "Xtest result:  0.3980532786885246\n"
     ]
    }
   ],
   "source": [
    "# Encoded Imputed Log Clip Normal Over-Sampled Data With PCA\n",
    "params = {'n_estimators': 3000, 'missing': np.nan, 'verbosity': 0, 'scale_pos_weight': 4.3,\n",
    "          'max_depth': 68, 'colsample_bytree': 0.65, 'learning_rate': 0.0011690060316762662,\n",
    "          'reg_alpha': 0.5, 'reg_lambda': 3.0, 'subsample': 0.08141001704468165, 'min_child_weight': 1}\n",
    "\n",
    "xgblcnop = xgboost.XGBClassifier(**params)\n",
    "xgblcnop.fit(Xtrain_log_clip_normal_over_pca, ytrain_over, \n",
    "          eval_set=[(Xtrain_log_clip_normal_over_pca, ytrain_over), (Xvalid_log_clip_normal_pca, yvalid)],\n",
    "          early_stopping_rounds=10, verbose=0)\n",
    "pred = xgblcnop.predict(Xtest_log_clip_normal_pca)\n",
    "print('Xtest result: ', f1_score(y_true=ytest, y_pred=pred))"
   ]
  },
  {
   "cell_type": "code",
   "execution_count": null,
   "id": "ac8d85b3-e0eb-4582-96ed-8d6c5ea696f8",
   "metadata": {},
   "outputs": [],
   "source": []
  },
  {
   "cell_type": "code",
   "execution_count": null,
   "id": "a8e89099-67fe-4e6e-87b9-63fbf3eb26fb",
   "metadata": {},
   "outputs": [],
   "source": []
  }
 ],
 "metadata": {
  "kernelspec": {
   "display_name": "Python 3 (ipykernel)",
   "language": "python",
   "name": "python3"
  },
  "language_info": {
   "codemirror_mode": {
    "name": "ipython",
    "version": 3
   },
   "file_extension": ".py",
   "mimetype": "text/x-python",
   "name": "python",
   "nbconvert_exporter": "python",
   "pygments_lexer": "ipython3",
   "version": "3.10.11"
  }
 },
 "nbformat": 4,
 "nbformat_minor": 5
}
