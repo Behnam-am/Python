{
 "cells": [
  {
   "cell_type": "markdown",
   "id": "9a2ccafb-6d3c-4e95-99e2-5f2d7b0c75e0",
   "metadata": {},
   "source": [
    "<div dir=\"rtl\">\n",
    "\n",
    "**تابعی بنویسید که یک عدد از ورودی دریافت کند و تمام اعدادی که بر آن بخشپذیر هستند را در یک لیست برگرداند**\n",
    "\n",
    "**مثلا اگر عدد 12 را به آن دادیم لیست زیر را برگرداند**\n",
    "\n",
    "**[1,2,3,4,6,12]**\n",
    "</div>"
   ]
  },
  {
   "cell_type": "code",
   "execution_count": 1,
   "id": "9b43ef68-4fc8-4ae4-92ef-410d00fd00e6",
   "metadata": {},
   "outputs": [
    {
     "data": {
      "text/plain": [
       "[1, 2, 3, 4, 6, 12]"
      ]
     },
     "execution_count": 1,
     "metadata": {},
     "output_type": "execute_result"
    }
   ],
   "source": [
    "def divisors(x):\n",
    "    divs = []\n",
    "    for i in range(1, x + 1):\n",
    "        if x % i == 0:\n",
    "            divs.append(i)\n",
    "    return divs\n",
    "\n",
    "divisors(12)"
   ]
  },
  {
   "cell_type": "markdown",
   "id": "87193416-b63a-42f4-a754-559c274c3e1e",
   "metadata": {},
   "source": [
    "<div dir=\"rtl\">\n",
    "\n",
    "**کلیه اعداد اول بین 100 تا 200 را چاپ نمایید**\n",
    "\n",
    "</div>"
   ]
  },
  {
   "cell_type": "code",
   "execution_count": 2,
   "id": "57bc1ef4-9c0f-400b-a7d5-6bd2ae132557",
   "metadata": {},
   "outputs": [
    {
     "name": "stdout",
     "output_type": "stream",
     "text": [
      "101 103 107 109 113 127 131 137 139 149 151 157 163 167 173 179 181 191 193 197 199 "
     ]
    }
   ],
   "source": [
    "def primes():\n",
    "    for i in range(100, 201):\n",
    "        for j in range(2, int(i ** 0.5) + 1):\n",
    "            if i % j == 0:\n",
    "                break\n",
    "        else:\n",
    "            print(i, end=\" \")\n",
    "\n",
    "primes()"
   ]
  },
  {
   "cell_type": "markdown",
   "id": "3b18bfe9-1778-4333-b031-727007da627a",
   "metadata": {},
   "source": [
    "<div dir=\"rtl\">\n",
    "\n",
    "**در یک دیکشنری با نام mark نمرات دانشجویان ذخیره شده است. کلیدهای این دیکشنری نام دانشجویان و مقادیر آن نمرات آنها میباشد\n",
    "برنامهای بنویسید که یک اسم از ورودی دریافت کند و در صورتی که نام دانشجو در دیکشنری موجود بود نمره او، و در غیر اینصورت پیغام This name is not in dict را چاپ نماید**\n",
    "\n",
    "</div>"
   ]
  },
  {
   "cell_type": "code",
   "execution_count": 3,
   "id": "ae1312e3-3606-43f5-8caa-5d69a0ad5055",
   "metadata": {},
   "outputs": [
    {
     "name": "stdin",
     "output_type": "stream",
     "text": [
      " DiAnA\n"
     ]
    },
    {
     "name": "stdout",
     "output_type": "stream",
     "text": [
      "Diana's mark is: 73\n"
     ]
    }
   ],
   "source": [
    "mark = {\"alice\": 87, \"bob\": 95, \"charlie\": 68, \"diana\": 73, \"ethan\": 82}\n",
    "\n",
    "name = input().lower().strip()\n",
    "\n",
    "if name in mark.keys():\n",
    "    print(name.capitalize(), \"\\b's mark is:\", mark[name])\n",
    "else:\n",
    "    print(\"This name is not in dict!\")"
   ]
  },
  {
   "cell_type": "code",
   "execution_count": null,
   "id": "47bfcec6-5d8e-4ffe-843a-9592a91aa0d2",
   "metadata": {},
   "outputs": [],
   "source": []
  }
 ],
 "metadata": {
  "kernelspec": {
   "display_name": "Python 3 (ipykernel)",
   "language": "python",
   "name": "python3"
  },
  "language_info": {
   "codemirror_mode": {
    "name": "ipython",
    "version": 3
   },
   "file_extension": ".py",
   "mimetype": "text/x-python",
   "name": "python",
   "nbconvert_exporter": "python",
   "pygments_lexer": "ipython3",
   "version": "3.10.11"
  }
 },
 "nbformat": 4,
 "nbformat_minor": 5
}
